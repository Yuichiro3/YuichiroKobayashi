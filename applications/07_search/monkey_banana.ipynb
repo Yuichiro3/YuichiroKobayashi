{
  "nbformat": 4,
  "nbformat_minor": 0,
  "metadata": {
    "colab": {
      "provenance": []
    },
    "kernelspec": {
      "name": "python3",
      "display_name": "Python 3"
    },
    "language_info": {
      "name": "python"
    }
  },
  "cells": [
    {
      "cell_type": "markdown",
      "source": [
        "## File Description\n",
        "**This file tries to formulate the monkey banana problem with the following perspectives**\n",
        "\n",
        "\n",
        "\n",
        "*   Initial state\n",
        "*   Goal state\n",
        "*   Actions\n",
        "*   Transmission model\n",
        "*   Test goal\n",
        "*   Sum cost\n",
        "\n",
        "\n",
        "\n"
      ],
      "metadata": {
        "id": "bjQTb5-GHrwQ"
      }
    },
    {
      "cell_type": "code",
      "source": [
        "problem = {\n",
        "    # 1. Define initial state\n",
        "    \"initial_state\": {\n",
        "        \"crate1_position\": (0,0),\n",
        "        \"crate2_position\": (0,1),\n",
        "        \"crate3_position\": (0,2),\n",
        "        \"monkey_position\": (0,3),\n",
        "        \"banana_position\": (4,0),\n",
        "        \"stack_height\": 1,         # Because the position of the crate1 is a goal.\n",
        "        \"monkey_has_banana\": False,\n",
        "    },\n",
        "\n",
        "    # 2. Define goal state\n",
        "    \"goal_state\": {\n",
        "        \"crate1_position\": (0,0),\n",
        "        \"crate2_position\": (1,0),\n",
        "        \"crate3_position\": (2,0),\n",
        "        \"monkey_position\": (3,0),\n",
        "        \"banana_position\": (4,0),\n",
        "        \"stack_height\": 3,\n",
        "        \"monkey_has_banana\": True,\n",
        "    },\n",
        "\n",
        "    # 3. Define each action and its cost\n",
        "    \"actions\": {\n",
        "       \"move_left\": {\"cost\": 1},\n",
        "       \"stack_crate\": {\"cost\": 2},\n",
        "       \"climb_crate\": {\"cost\": 2},\n",
        "       \"grab_banana\": {\"cost\": 1},\n",
        "    },\n",
        "\n",
        "    # 4. Define a transitional model\n",
        "    # The function (i.e., transitional_model()) will be implemented in the code section.\n",
        "    # 5. Test if the state meets goal\n",
        "    # The function (is_goal()) will be implemented in the code section.\n",
        "    # 6. Sum cost\n",
        "    # The function (sum_cost()) will be implemented in the code section.\n",
        "}"
      ],
      "metadata": {
        "id": "vHYTgfva0cSL"
      },
      "execution_count": 7,
      "outputs": []
    },
    {
      "cell_type": "code",
      "source": [
        "problem"
      ],
      "metadata": {
        "colab": {
          "base_uri": "https://localhost:8080/"
        },
        "id": "5TCXf5jsL3yR",
        "outputId": "8154cca8-eabf-4f20-e408-0b07258e23bb"
      },
      "execution_count": 8,
      "outputs": [
        {
          "output_type": "execute_result",
          "data": {
            "text/plain": [
              "{'initial_state': {'crate1_position': (0, 0),\n",
              "  'crate2_position': (0, 1),\n",
              "  'crate3_position': (0, 2),\n",
              "  'monkey_position': (0, 3),\n",
              "  'banana_position': (4, 0),\n",
              "  'stack_height': 1,\n",
              "  'monkey_has_banana': False},\n",
              " 'goal_state': {'crate1_position': (0, 0),\n",
              "  'crate2_position': (1, 0),\n",
              "  'crate3_position': (2, 0),\n",
              "  'monkey_position': (3, 0),\n",
              "  'banana_position': (4, 0),\n",
              "  'stack_height': 3,\n",
              "  'monkey_has_banana': True},\n",
              " 'actions': {'move_left': {'cost': 1},\n",
              "  'stack_crate': {'cost': 2},\n",
              "  'climb_crate': {'cost': 2},\n",
              "  'grab_banana': {'cost': 1}}}"
            ]
          },
          "metadata": {},
          "execution_count": 8
        }
      ]
    },
    {
      "cell_type": "markdown",
      "source": [
        "## EOF"
      ],
      "metadata": {
        "id": "7l9pOi1rMHU_"
      }
    }
  ]
}