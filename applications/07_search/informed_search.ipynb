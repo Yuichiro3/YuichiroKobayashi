{
  "nbformat": 4,
  "nbformat_minor": 0,
  "metadata": {
    "colab": {
      "provenance": [],
      "toc_visible": true
    },
    "kernelspec": {
      "name": "python3",
      "display_name": "Python 3"
    },
    "language_info": {
      "name": "python"
    }
  },
  "cells": [
    {
      "cell_type": "markdown",
      "source": [
        "## File Description\n",
        "This explores an informed search strategy. In particular, Greedy Best-First Search and A* Search will be examined with source code."
      ],
      "metadata": {
        "id": "XkoaoYW7wbnI"
      }
    },
    {
      "cell_type": "code",
      "execution_count": 1,
      "metadata": {
        "id": "hcnS2bgawVxU"
      },
      "outputs": [],
      "source": [
        "import heapq"
      ]
    },
    {
      "cell_type": "markdown",
      "source": [
        "## Greedy Best-First Search\n",
        "\n",
        "### 1. Process\n",
        "*    Initialisation ('priority' queue, visited set)\n",
        "*    Main loop\n",
        "    1. Choose one node from priority queue (i.e., choose the smallest value of f(n))\n",
        "    2. Check if the node is goal (if yes, call the function that output the path from an initial node to a goal node.)\n",
        "    3. Check if the node is visited previously (if yes, it will be skipped. if not, the node will be added in the visited set).\n",
        "    4. Expand the next nodes (i.e., the current node's children).\n",
        "\n",
        "### 2. Advantages\n",
        "*    It does not require more memory than A* Search\n",
        "\n",
        "### 3. Disadvantages\n",
        "*    Imcomplete\n",
        "*    Not optimal solution"
      ],
      "metadata": {
        "id": "36Pin0hnwv9K"
      }
    },
    {
      "cell_type": "code",
      "source": [
        "def greedy_best_first_search(tree, start, goal, heuristic):\n",
        "    \"\"\"\n",
        "    Performs Greedy Best-First Search on a tree/graph.\n",
        "    :param tree: A dictionary representing the tree/graph as an adjacency list.\n",
        "    :param start: The starting node.\n",
        "    :param goal: The goal node.\n",
        "    :param heuristic: A dictionary mapping nodes to their heuristic values.\n",
        "    :return: The path from start to goal if found, or None if not found.\n",
        "    \"\"\"\n",
        "    # Initialise the priority queue with the start node\n",
        "    frontier = [(heuristic[start], start)]  # (heuristic value, node)\n",
        "    heapq.heapify(frontier)\n",
        "\n",
        "    visited = set()  # A set to track visited nodes\n",
        "    parent = {}  # To reconstruct the path\n",
        "\n",
        "    while frontier:\n",
        "        # Extract the node with the smallest heuristic value\n",
        "        _, current = heapq.heappop(frontier)\n",
        "\n",
        "        # Check if the current node is the goal\n",
        "        if current == goal:\n",
        "            return reconstruct_path(parent, start, goal)\n",
        "\n",
        "        # Skip if the node has already been visited\n",
        "        if current in visited:\n",
        "            continue\n",
        "\n",
        "        # Mark the current node as visited\n",
        "        visited.add(current)\n",
        "\n",
        "        # Expand the node's children\n",
        "        for child in tree.get(current, []):\n",
        "            if child not in visited:\n",
        "                heapq.heappush(frontier, (heuristic[child], child))\n",
        "                parent[child] = current\n",
        "\n",
        "    # Return None if no path to the goal was found\n",
        "    return None\n",
        "\n",
        "def reconstruct_path(parent, start, goal):\n",
        "    \"\"\"\n",
        "    Reconstructs the path from start to goal using the parent dictionary.\n",
        "    :param parent: A dictionary mapping each node to its parent.\n",
        "    :param start: The starting node.\n",
        "    :param goal: The goal node.\n",
        "    :return: A list representing the path from start to goal.\n",
        "    \"\"\"\n",
        "    path = []\n",
        "    current = goal\n",
        "    while current != start:\n",
        "        path.append(current)\n",
        "        current = parent.get(current)\n",
        "    path.append(start)\n",
        "    path.reverse()\n",
        "    return path"
      ],
      "metadata": {
        "id": "zFG74aZpxGBJ"
      },
      "execution_count": 3,
      "outputs": []
    },
    {
      "cell_type": "code",
      "source": [
        "# Example tree represented as an adjacency list\n",
        "example_tree = {\n",
        "    'A': ['B', 'C'],\n",
        "    'B': ['D', 'E'],\n",
        "    'C': ['F', 'G'],\n",
        "    'D': [],\n",
        "    'E': [],\n",
        "    'F': [],\n",
        "    'G': []\n",
        "}\n",
        "\n",
        "# Example heuristic values (lower is better)\n",
        "example_heuristic = {\n",
        "    'A': 7,\n",
        "    'B': 6,\n",
        "    'C': 4,\n",
        "    'D': 5,\n",
        "    'E': 2,\n",
        "    'F': 1,\n",
        "    'G': 3\n",
        "}\n",
        "\n",
        "# Define the start and goal nodes\n",
        "start_node = 'A'\n",
        "goal_node = 'F'\n",
        "\n",
        "# Run the Greedy Best-First Search\n",
        "result = greedy_best_first_search(example_tree, start_node, goal_node, example_heuristic)\n",
        "\n",
        "# Display the result\n",
        "print(f\"Path from {start_node} to {goal_node}: {result}\")"
      ],
      "metadata": {
        "id": "bTTAQP4gxJ3z",
        "colab": {
          "base_uri": "https://localhost:8080/"
        },
        "outputId": "f6b06b39-e14e-47f0-fb33-71f6cda5617a"
      },
      "execution_count": 4,
      "outputs": [
        {
          "output_type": "stream",
          "name": "stdout",
          "text": [
            "Path from A to F: ['A', 'C', 'F']\n"
          ]
        }
      ]
    },
    {
      "cell_type": "markdown",
      "source": [
        "## A* Search\n",
        "\n",
        "### 1. Process\n",
        "*    Initialisation (priority queue, visited set, and **set for storing g(n)**)\n",
        "*    Main loop\n",
        "    1. Choose one node from priority queue (i.e., choose the smallest value of f(n) **including g(n)**.)\n",
        "    2. Check if the node is goal (if yes, call the function that output the path from an initial node to a goal node.)\n",
        "    3. Check if the node is visited previously (if yes, it will be skipped. if not, the node will be added in the visited set).\n",
        "    4. Expand the next nodes (i.e., the current node's children). Meanwile, the algorithm calculate g(n) to update a priority queue to be able to find a best choice.\n",
        "\n",
        "### 2. Advantages\n",
        "*    Completeness\n",
        "*    Optimal solution\n",
        "\n",
        "### 3. Disadvantages\n",
        "*    It requires more memory than Greedy Best-First Search since it calculate g(n) at each parent."
      ],
      "metadata": {
        "id": "n4HLd2k-xKRA"
      }
    },
    {
      "cell_type": "code",
      "source": [
        "import heapq\n",
        "\n",
        "def a_star_search(tree, start, goal, heuristic, edge_costs):\n",
        "    \"\"\"\n",
        "    Performs A* search on a tree/graph.\n",
        "    :param tree: A dictionary representing the graph as an adjacency list.\n",
        "    :param start: The starting node.\n",
        "    :param goal: The goal node.\n",
        "    :param heuristic: A dictionary mapping nodes to heuristic values.\n",
        "    :param edge_costs: A dictionary mapping (parent, child) pairs to edge costs.\n",
        "    :return: The path from start to goal if found, or None if no path exists.\n",
        "    \"\"\"\n",
        "    # Priority queue (min-heap) with (f(n), node)\n",
        "    frontier = [(0 + heuristic[start], start)]  # (f(n), node)\n",
        "    heapq.heapify(frontier)\n",
        "\n",
        "    g_score = {start: 0}  # Cost from start to each node\n",
        "    parent = {}  # To reconstruct the path\n",
        "    visited = set()  # To keep track of visited nodes\n",
        "\n",
        "    while frontier:\n",
        "        # Extract the node with the smallest f(n)\n",
        "        _, current = heapq.heappop(frontier)\n",
        "\n",
        "        # If the current node is the goal, reconstruct and return the path\n",
        "        if current == goal:\n",
        "            return reconstruct_path(parent, start, goal)\n",
        "\n",
        "        # Mark the current node as visited\n",
        "        visited.add(current)\n",
        "\n",
        "        # Expand the node's neighbours\n",
        "        for neighbour in tree.get(current, []):\n",
        "            if neighbour in visited:\n",
        "                continue\n",
        "\n",
        "            # Calculate the tentative g(n)\n",
        "            tentative_g = g_score[current] + edge_costs.get((current, neighbour), float('inf'))\n",
        "\n",
        "            # If the tentative g(n) is better, update the frontier and scores\n",
        "            if neighbour not in g_score or tentative_g < g_score[neighbour]:\n",
        "                g_score[neighbour] = tentative_g\n",
        "                f_score = tentative_g + heuristic[neighbour]\n",
        "                heapq.heappush(frontier, (f_score, neighbour))\n",
        "                parent[neighbour] = current\n",
        "\n",
        "    # Return None if no path is found\n",
        "    return None\n",
        "\n",
        "\n",
        "def reconstruct_path(parent, start, goal):\n",
        "    \"\"\"\n",
        "    Reconstructs the path from start to goal using the parent dictionary.\n",
        "    :param parent: A dictionary mapping each node to its parent.\n",
        "    :param start: The starting node.\n",
        "    :param goal: The goal node.\n",
        "    :return: A list representing the path from start to goal.\n",
        "    \"\"\"\n",
        "    path = []\n",
        "    current = goal\n",
        "    while current != start:\n",
        "        path.append(current)\n",
        "        current = parent.get(current)\n",
        "    path.append(start)\n",
        "    path.reverse()\n",
        "    return path\n"
      ],
      "metadata": {
        "id": "FJKU-v6WxL-I"
      },
      "execution_count": 5,
      "outputs": []
    },
    {
      "cell_type": "code",
      "source": [
        "# Example graph as an adjacency list\n",
        "example_tree = {\n",
        "    'A': ['B', 'C'],\n",
        "    'B': ['D', 'E'],\n",
        "    'C': ['F', 'G'],\n",
        "    'D': [],\n",
        "    'E': [],\n",
        "    'F': [],\n",
        "    'G': []\n",
        "}\n",
        "\n",
        "# Example heuristic values (lower values are better)\n",
        "example_heuristic = {\n",
        "    'A': 7,\n",
        "    'B': 6,\n",
        "    'C': 4,\n",
        "    'D': 5,\n",
        "    'E': 2,\n",
        "    'F': 1,\n",
        "    'G': 3\n",
        "}\n",
        "\n",
        "# Example edge costs\n",
        "example_edge_costs = {\n",
        "    ('A', 'B'): 1,\n",
        "    ('A', 'C'): 2,\n",
        "    ('B', 'D'): 4,\n",
        "    ('B', 'E'): 1,\n",
        "    ('C', 'F'): 3,\n",
        "    ('C', 'G'): 1\n",
        "}\n",
        "\n",
        "# Define the start and goal nodes\n",
        "start_node = 'A'\n",
        "goal_node = 'F'\n",
        "\n",
        "# Run A* search\n",
        "result = a_star_search(example_tree, start_node, goal_node, example_heuristic, example_edge_costs)\n",
        "\n",
        "# Display the result\n",
        "print(f\"Path from {start_node} to {goal_node}: {result}\")\n"
      ],
      "metadata": {
        "colab": {
          "base_uri": "https://localhost:8080/"
        },
        "id": "tgpZmLtECVLW",
        "outputId": "939c7bca-bbce-48db-d954-34b1bca4641b"
      },
      "execution_count": 6,
      "outputs": [
        {
          "output_type": "stream",
          "name": "stdout",
          "text": [
            "Path from A to F: ['A', 'C', 'F']\n"
          ]
        }
      ]
    },
    {
      "cell_type": "markdown",
      "source": [
        "## EOF"
      ],
      "metadata": {
        "id": "MJgEQM6fETTf"
      }
    }
  ]
}