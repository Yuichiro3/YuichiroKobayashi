{
  "nbformat": 4,
  "nbformat_minor": 0,
  "metadata": {
    "colab": {
      "provenance": []
    },
    "kernelspec": {
      "name": "python3",
      "display_name": "Python 3"
    },
    "language_info": {
      "name": "python"
    }
  },
  "cells": [
    {
      "cell_type": "markdown",
      "source": [
        "## Four functions:\n",
        "\n",
        "\n",
        "1.   output_dimension: to calculate output dimension (output volume)\n",
        "2.   number_of_neurons: to calculate the number of neurons based on the output dimension\n",
        "3.   number_of_weights_fully_connected: to calculate the number of weights between the output layer (the layer after the convolutional layer) and the output layer(final layer)\n",
        "4.   number_of_weights: to calculate the number of weights in the convolutional layer.\n",
        "\n"
      ],
      "metadata": {
        "id": "fR305rkCo4hf"
      }
    },
    {
      "cell_type": "code",
      "execution_count": 66,
      "metadata": {
        "id": "zitbVZKzeURl"
      },
      "outputs": [],
      "source": [
        "def output_dimension(input_layer, convolutional_layer, number_of_filters, padding=0, stride=1):\n",
        "  # x (height)\n",
        "  x = (input_layer[0] - convolutional_layer[0] + 2*padding // stride) + 1\n",
        "  # y (width)\n",
        "  y = (input_layer[1] - convolutional_layer[1] + 2*padding // stride) + 1\n",
        "  # z (depth)\n",
        "  z = number_of_filters\n",
        "\n",
        "  output = (x,y,z)\n",
        "  return output"
      ]
    },
    {
      "cell_type": "code",
      "source": [
        "def number_of_neurons(output):\n",
        "  x = output[0]\n",
        "  y = output[1]\n",
        "  z = output[2]\n",
        "\n",
        "  neurons = x*y*z\n",
        "  return neurons"
      ],
      "metadata": {
        "id": "x44CyCb4g0eI"
      },
      "execution_count": 67,
      "outputs": []
    },
    {
      "cell_type": "code",
      "source": [
        "def number_of_weights_fully_connected(neurons, output_neurons):\n",
        "  weights = (neurons+1)*output_neurons # 1 is bias\n",
        "  return weights"
      ],
      "metadata": {
        "id": "grOgQX78jpUQ"
      },
      "execution_count": 68,
      "outputs": []
    },
    {
      "cell_type": "code",
      "source": [
        "def number_of_weights(convolutional_layer, number_of_filters):\n",
        "  # x (height of convolutional layer)\n",
        "  x = convolutional_layer[0]\n",
        "  # y (width of convolutional layer)\n",
        "  y = convolutional_layer[1]\n",
        "  # z (depth of convolutional layer)\n",
        "  z = convolutional_layer[2]\n",
        "  # f (the number of filters)\n",
        "  f = number_of_filters\n",
        "  # The number of weight\n",
        "  number_of_weights = f*(x*y*z+1)\n",
        "  return number_of_weights"
      ],
      "metadata": {
        "id": "OErMwNfKiG_h"
      },
      "execution_count": 69,
      "outputs": []
    },
    {
      "cell_type": "markdown",
      "source": [
        "## Example (1)"
      ],
      "metadata": {
        "id": "zHtyxAcKouRK"
      }
    },
    {
      "cell_type": "code",
      "source": [
        "# Example\n",
        "input_layer = (5,5,1)\n",
        "convolutional_layer = (2,2,1)\n",
        "number_of_filters = 5\n",
        "output_neurons = 5"
      ],
      "metadata": {
        "id": "loPoupICf71Q"
      },
      "execution_count": 52,
      "outputs": []
    },
    {
      "cell_type": "code",
      "source": [
        "output_dimension(input_layer, convolutional_layer, number_of_filters)"
      ],
      "metadata": {
        "colab": {
          "base_uri": "https://localhost:8080/"
        },
        "id": "RpmEUV1FgR_I",
        "outputId": "37f0b030-021b-4225-a100-9c4d65e94ef3"
      },
      "execution_count": 53,
      "outputs": [
        {
          "output_type": "execute_result",
          "data": {
            "text/plain": [
              "(4, 4, 5)"
            ]
          },
          "metadata": {},
          "execution_count": 53
        }
      ]
    },
    {
      "cell_type": "code",
      "source": [
        "output = output_dimension(input_layer, convolutional_layer, number_of_filters)\n",
        "neurons = number_of_neurons(output)\n",
        "print(\"Output: \", output)\n",
        "print(\"Number of neurons: \", neurons)"
      ],
      "metadata": {
        "colab": {
          "base_uri": "https://localhost:8080/"
        },
        "id": "whfjCj0DgjCv",
        "outputId": "b3bb7ad9-ecc4-4e00-f5e0-45c1da27b52d"
      },
      "execution_count": 54,
      "outputs": [
        {
          "output_type": "stream",
          "name": "stdout",
          "text": [
            "Output:  (4, 4, 5)\n",
            "Number of neurons:  80\n"
          ]
        }
      ]
    },
    {
      "cell_type": "code",
      "source": [
        "weight_first = number_of_weights(convolutional_layer, number_of_filters)\n",
        "print(\"Weights in first layer: \", weight_first)"
      ],
      "metadata": {
        "colab": {
          "base_uri": "https://localhost:8080/"
        },
        "id": "s8OYKMf5h9BC",
        "outputId": "86ff5d51-ea7f-4cbb-bfd5-a042560e3916"
      },
      "execution_count": 55,
      "outputs": [
        {
          "output_type": "stream",
          "name": "stdout",
          "text": [
            "Weights in first layer:  25\n"
          ]
        }
      ]
    },
    {
      "cell_type": "code",
      "source": [
        "output = number_of_weights_fully_connected(neurons, output_neurons)\n",
        "print(\"Weight in output layer: \", output)"
      ],
      "metadata": {
        "colab": {
          "base_uri": "https://localhost:8080/"
        },
        "id": "9_3kj-wMjGJL",
        "outputId": "69737af3-0da1-42f2-f962-10e0d771676b"
      },
      "execution_count": 56,
      "outputs": [
        {
          "output_type": "stream",
          "name": "stdout",
          "text": [
            "Weight in output layer:  405\n"
          ]
        }
      ]
    },
    {
      "cell_type": "code",
      "source": [
        "total = weight_first + output\n",
        "print(\"Total weight: \", total)"
      ],
      "metadata": {
        "colab": {
          "base_uri": "https://localhost:8080/"
        },
        "id": "-YZFHArDkZhH",
        "outputId": "01ad3528-202d-4159-f362-c7cca12718dc"
      },
      "execution_count": 57,
      "outputs": [
        {
          "output_type": "stream",
          "name": "stdout",
          "text": [
            "Total weight:  430\n"
          ]
        }
      ]
    },
    {
      "cell_type": "markdown",
      "source": [
        "## Example (2)"
      ],
      "metadata": {
        "id": "qWaNj9vloyAJ"
      }
    },
    {
      "cell_type": "code",
      "source": [
        "# Example\n",
        "\n",
        "# Input\n",
        "input_layer = (15,15,1)\n",
        "\n",
        "# First convolutional layer\n",
        "first_convolutional_layer = (3,3,1)\n",
        "first_number_of_filters = 5\n",
        "\n",
        "# Second convolutional layer\n",
        "second_convolutional_layer = (2,2,5)\n",
        "second_number_of_filters = 5\n",
        "\n",
        "# Output layer\n",
        "output_neurons = 10"
      ],
      "metadata": {
        "id": "HaPyure0lz5V"
      },
      "execution_count": 70,
      "outputs": []
    },
    {
      "cell_type": "code",
      "source": [
        "# Weights in the first layer\n",
        "weights_first = number_of_weights(first_convolutional_layer, first_number_of_filters)\n",
        "print(\"Weights in the first layer: \", weights_first)\n",
        "\n",
        "# Weights in the second layer\n",
        "weights_second = number_of_weights(second_convolutional_layer, second_number_of_filters)\n",
        "print(\"Weights in the second layer: \", weights_second)"
      ],
      "metadata": {
        "colab": {
          "base_uri": "https://localhost:8080/"
        },
        "id": "JkHbdOMYlz7g",
        "outputId": "62823b99-5942-45cc-c6c2-22064df83f3f"
      },
      "execution_count": 71,
      "outputs": [
        {
          "output_type": "stream",
          "name": "stdout",
          "text": [
            "Weights in the first layer:  50\n",
            "Weights in the second layer:  105\n"
          ]
        }
      ]
    },
    {
      "cell_type": "code",
      "source": [
        "# Output volume (First)\n",
        "dimension_first = output_dimension(input_layer, first_convolutional_layer, first_number_of_filters)\n",
        "print(\"Output dimension(First):\", dimension_first)\n",
        "\n",
        "# Output volume (Second)\n",
        "dimension_second = output_dimension(dimension_first, second_convolutional_layer, second_number_of_filters)\n",
        "print(\"Output dimension(Second):\", dimension_second)"
      ],
      "metadata": {
        "colab": {
          "base_uri": "https://localhost:8080/"
        },
        "id": "HI_7fWaGmg1t",
        "outputId": "3a4111e5-4652-47ef-c2bd-39d27d9342e4"
      },
      "execution_count": 72,
      "outputs": [
        {
          "output_type": "stream",
          "name": "stdout",
          "text": [
            "Output dimension(First): (13, 13, 5)\n",
            "Output dimension(Second): (12, 12, 5)\n"
          ]
        }
      ]
    },
    {
      "cell_type": "code",
      "source": [
        "neurons = number_of_neurons(dimension_second)\n",
        "print(\"Neurons after the second layer: \", neurons)\n",
        "\n",
        "number_of_weights = number_of_weights_fully_connected(neurons, output_neurons)\n",
        "print(\"Weigths in the output layer: \", number_of_weights)"
      ],
      "metadata": {
        "colab": {
          "base_uri": "https://localhost:8080/"
        },
        "id": "Y85pAppCnlDi",
        "outputId": "5ef023a6-5d07-4693-b75d-318f41f0fbe3"
      },
      "execution_count": 75,
      "outputs": [
        {
          "output_type": "stream",
          "name": "stdout",
          "text": [
            "Neurons after the second layer:  720\n",
            "Weigths in the output layer:  7210\n"
          ]
        }
      ]
    }
  ]
}