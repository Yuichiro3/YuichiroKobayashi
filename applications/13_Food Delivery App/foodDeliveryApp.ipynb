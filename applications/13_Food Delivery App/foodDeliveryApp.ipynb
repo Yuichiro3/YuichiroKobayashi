{
  "nbformat": 4,
  "nbformat_minor": 0,
  "metadata": {
    "colab": {
      "provenance": []
    },
    "kernelspec": {
      "name": "python3",
      "display_name": "Python 3"
    },
    "language_info": {
      "name": "python"
    }
  },
  "cells": [
    {
      "cell_type": "markdown",
      "source": [
        "## Before Refactoring"
      ],
      "metadata": {
        "id": "yOLSX7_ddlRY"
      }
    },
    {
      "cell_type": "code",
      "execution_count": null,
      "metadata": {
        "id": "aCujdh0Kdd2l"
      },
      "outputs": [],
      "source": [
        "class FoodDeliveryApp:\n",
        "    def __init__(self):\n",
        "        self.orders = []\n",
        "        self.drivers = ['Alice', 'Bob', 'Charlie']\n",
        "\n",
        "    def place_order(self, customer_name, food_item, payment_method):\n",
        "        # Process order and payment\n",
        "        print(f\"Processing order for {customer_name}: {food_item}\")\n",
        "        if payment_method == 'card':\n",
        "            print(\"Processing card payment...\")\n",
        "        elif payment_method == 'cash':\n",
        "            print(\"Cash on delivery selected.\")\n",
        "        else:\n",
        "            print(\"Invalid payment method!\")\n",
        "            return\n",
        "\n",
        "        self.orders.append((customer_name, food_item))\n",
        "        print(f\"Order placed successfully for {customer_name}.\")\n",
        "\n",
        "        # Assign delivery driver\n",
        "        assigned_driver = self.drivers[0]  # Always assigns the first driver\n",
        "        print(f\"{assigned_driver} will deliver the order.\")\n",
        "\n",
        "        # Send notification\n",
        "        print(f\"Notification sent to {customer_name}: Your order is on the way!\")\n",
        "\n",
        "# Test the application\n",
        "app = FoodDeliveryApp()\n",
        "app.place_order(\"John Doe\", \"Pizza\", \"card\")"
      ]
    },
    {
      "cell_type": "markdown",
      "source": [
        "## After Refactoring"
      ],
      "metadata": {
        "id": "zHnqhDNqdoFT"
      }
    },
    {
      "cell_type": "code",
      "source": [
        "class Order:\n",
        "    def __init__(self, customer_name, food_item):\n",
        "        self.customer_name = customer_name\n",
        "        self.food_item = food_item\n",
        "\n",
        "class Payment:\n",
        "    def pay(self, order: Order):\n",
        "        raise NotImplementedError()\n",
        "\n",
        "class PayWithCard(Payment):\n",
        "    def pay(self, order: Order):\n",
        "        print(f\"Processing credit card payment for {order.customer_name}...\")\n",
        "\n",
        "class PayWithCash(Payment):\n",
        "    def pay(self, order: Order):\n",
        "        print(f\"Processing cash payment for {order.customer_name}...\")\n",
        "\n",
        "class DeliveryMethod:\n",
        "    def assign(self, order: Order):\n",
        "        raise NotImplementedError()\n",
        "\n",
        "class DriverAssignment(DeliveryMethod):\n",
        "    def __init__(self):\n",
        "        self.drivers = ['Alice', 'Bob', 'Charlie']\n",
        "    def assign(self, order: Order):\n",
        "        assigned_driver = self.drivers[0]\n",
        "        print(f\"{assigned_driver} is assigned to deliver {order.food_item}\")\n",
        "        return assigned_driver\n",
        "\n",
        "class Notifier:\n",
        "    def send(self, order: Order):\n",
        "        raise NotImplementedError()\n",
        "\n",
        "class SimpleNotifier(Notifier):\n",
        "    def send(self, order: Order):\n",
        "        print(f\"Mr. {order.customer_name}! Your {order.food_item} is on the way!\")\n",
        "\n",
        "\n",
        "class FoodDeliveryApp:\n",
        "    def __init__(self, payment: Payment, assigner: DeliveryMethod, notifier: Notifier):\n",
        "        self.payment = payment\n",
        "        self.assigner = assigner\n",
        "        self.notifier = notifier\n",
        "\n",
        "    def place_order(self, order: Order):\n",
        "        self.payment.pay(order)\n",
        "        self.assigner.assign(order)\n",
        "        self.notifier.send(order)\n",
        "\n",
        "# Test\n",
        "order = Order(\"Tanaka\", \"Ramen\")\n",
        "app = FoodDeliveryApp(\n",
        "    PayWithCard(),\n",
        "    DriverAssignment(),\n",
        "    SimpleNotifier()\n",
        ")\n",
        "app.place_order(order)"
      ],
      "metadata": {
        "colab": {
          "base_uri": "https://localhost:8080/"
        },
        "id": "RbkoEFYbj1lL",
        "outputId": "538c6481-9ce4-4e4f-b85b-87d5993b854d"
      },
      "execution_count": 12,
      "outputs": [
        {
          "output_type": "stream",
          "name": "stdout",
          "text": [
            "Processing credit card payment for Tanaka...\n",
            "Alice is assigned to deliver Ramen\n",
            "Mr. Tanaka! Your Ramen is on the way!\n"
          ]
        }
      ]
    },
    {
      "cell_type": "markdown",
      "source": [
        "## Model Answer"
      ],
      "metadata": {
        "id": "gzKgNxjDiy0m"
      }
    },
    {
      "cell_type": "code",
      "source": [
        "# Applying SRP: Separate concerns into individual classes\n",
        "class Order:\n",
        "    def __init__(self, customer_name, food_item):\n",
        "        self.customer_name = customer_name\n",
        "        self.food_item = food_item\n",
        "\n",
        "# Applying OCP & DIP: Using abstraction for payment methods\n",
        "class PaymentProcessor:\n",
        "    def process_payment(self, payment_method):\n",
        "        raise NotImplementedError(\"Subclasses must implement process_payment method\")\n",
        "\n",
        "class CardPayment(PaymentProcessor):\n",
        "    def process_payment(self):\n",
        "        print(\"Processing card payment...\")\n",
        "        return True\n",
        "\n",
        "class CashPayment(PaymentProcessor):\n",
        "    def process_payment(self):\n",
        "        print(\"Cash on delivery selected.\")\n",
        "        return True\n",
        "\n",
        "# Applying LSP: Abstracting delivery types\n",
        "class DeliveryMethod:\n",
        "    def assign_driver(self):\n",
        "        raise NotImplementedError(\"Subclasses must implement assign_driver method\")\n",
        "\n",
        "class DriverDelivery(DeliveryMethod):\n",
        "    def __init__(self):\n",
        "        self.drivers = ['Alice', 'Bob', 'Charlie']\n",
        "\n",
        "    def assign_driver(self):\n",
        "        assigned_driver = self.drivers[0]  # Placeholder assignment logic\n",
        "        print(f\"{assigned_driver} will deliver the order.\")\n",
        "        return assigned_driver\n",
        "\n",
        "# Applying SRP: Separate Notification Service\n",
        "class NotificationService:\n",
        "    def send_notification(self, customer_name):\n",
        "        print(f\"Notification sent to {customer_name}: Your order is on the way!\")\n",
        "\n",
        "# The main application class follows DIP by depending on abstractions\n",
        "class FoodDeliveryApp:\n",
        "    def __init__(self):\n",
        "        self.orders = []\n",
        "        self.notification_service = NotificationService()\n",
        "\n",
        "    def place_order(self, customer_name, food_item, payment_method):\n",
        "        order = Order(customer_name, food_item)\n",
        "        payment_processor = CardPayment() if payment_method == 'card' else CashPayment()\n",
        "\n",
        "        if not payment_processor.process_payment():\n",
        "            return\n",
        "\n",
        "        self.orders.append(order)\n",
        "        print(f\"Order placed successfully for {customer_name}.\")\n",
        "\n",
        "        delivery = DriverDelivery()\n",
        "        assigned_driver = delivery.assign_driver()\n",
        "        self.notification_service.send_notification(customer_name)\n",
        "\n",
        "# Test the improved application\n",
        "app = FoodDeliveryApp()\n",
        "app.place_order(\"John Doe\", \"Pizza\", \"card\")"
      ],
      "metadata": {
        "colab": {
          "base_uri": "https://localhost:8080/"
        },
        "id": "vu8TqHMchyQa",
        "outputId": "aa1bbd08-3945-42a8-f99e-0feba59423c3"
      },
      "execution_count": 11,
      "outputs": [
        {
          "output_type": "stream",
          "name": "stdout",
          "text": [
            "Processing card payment...\n",
            "Order placed successfully for John Doe.\n",
            "Alice will deliver the order.\n",
            "Notification sent to John Doe: Your order is on the way!\n"
          ]
        }
      ]
    },
    {
      "cell_type": "code",
      "source": [],
      "metadata": {
        "id": "keqdzzD5ip0V"
      },
      "execution_count": null,
      "outputs": []
    }
  ]
}