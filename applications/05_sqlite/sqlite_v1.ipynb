{
 "cells": [
  {
   "cell_type": "code",
   "execution_count": 1,
   "id": "491815fa",
   "metadata": {},
   "outputs": [],
   "source": [
    "import sqlite3\n",
    "import pandas as pd"
   ]
  },
  {
   "cell_type": "markdown",
   "id": "c2929406",
   "metadata": {},
   "source": [
    "## Step 1: Create SQLite Database"
   ]
  },
  {
   "cell_type": "code",
   "execution_count": 2,
   "id": "7dd456f1",
   "metadata": {},
   "outputs": [],
   "source": [
    "# Create SQLite Database and Tables\n",
    "def create_database():\n",
    "    \"\"\"\n",
    "    Creates an SQLite database and initializes two tables:\n",
    "    1. TxAntennaDAB: Stores information about the antenna sites, including location, height, and power.\n",
    "    2. TxParamsDAB: Stores parameters of DAB transmissions, such as date, ensemble area, and frequency.\n",
    "    \"\"\"\n",
    "    conn = sqlite3.connect('formative_week2.db')  # Connect to SQLite database\n",
    "    cursor = conn.cursor()\n",
    "    \n",
    "    # Create TxAntennaDAB table\n",
    "    cursor.execute('''\n",
    "        CREATE TABLE IF NOT EXISTS TxAntennaDAB (\n",
    "            id INTEGER PRIMARY KEY,               -- Unique identifier for each antenna\n",
    "            NGR TEXT,                             -- National Grid Reference\n",
    "            Longitude_Latitude TEXT,              -- Longitude and Latitude as a single string\n",
    "            Site_Height INTEGER,                  -- Height of the antenna site in meters\n",
    "            Aerial_height_m REAL,                 -- Height of the antenna in meters\n",
    "            Power_kW REAL,                        -- Effective Radiated Power (ERP) in kilowatts\n",
    "            Dir_Max_ERP REAL                      -- Directional Max ERP\n",
    "        )\n",
    "    ''')\n",
    "    \n",
    "    # Create TxParamsDAB table\n",
    "    cursor.execute('''\n",
    "        CREATE TABLE IF NOT EXISTS TxParamsDAB (\n",
    "            id INTEGER PRIMARY KEY,               -- Unique identifier for each record\n",
    "            Date TEXT,                            -- Date of transmission\n",
    "            Ensemble TEXT,                        -- Ensemble group\n",
    "            Licence TEXT,                         -- Licence ID\n",
    "            Ensemble_Area TEXT,                   -- Broadcast area name\n",
    "            EID TEXT,                             -- Multiplex Block ID (e.g., C19A)\n",
    "            DAB_Multiplex TEXT,                   -- Extracted multiplex type (C18A, C18F, C188)\n",
    "            Transmitter_Area TEXT,                -- Transmitter Area\n",
    "            Site TEXT,                            -- Site name\n",
    "            Freq REAL,                            -- Frequency in MHz\n",
    "            Block TEXT,                           -- Frequency Block\n",
    "            Serv_Label1 TEXT,                     -- Service Label 1\n",
    "            Serv_Label2 TEXT,                     -- Service Label 2\n",
    "            Serv_Label3 TEXT,                     -- Service Label 3\n",
    "            Serv_Label4 TEXT,                     -- Service Label 4\n",
    "            Serv_Label10 TEXT,                    -- Service Label 10\n",
    "            FOREIGN KEY (id) REFERENCES TxAntennaDAB (id) -- Links to TxAntennaDAB by ID\n",
    "        )\n",
    "    ''')\n",
    "    \n",
    "    conn.commit() # Save changes\n",
    "    conn.close() # Close connection\n",
    "    print(\"\\nStep1: Database and tables created successfully.\")"
   ]
  },
  {
   "cell_type": "markdown",
   "id": "bf170e51",
   "metadata": {},
   "source": [
    "## Step 2: Load CSV Files and Clean Data"
   ]
  },
  {
   "cell_type": "code",
   "execution_count": 11,
   "id": "cd252b8b",
   "metadata": {},
   "outputs": [],
   "source": [
    "def load_and_clean_data(antenna_csv, params_csv):\n",
    "    \"\"\"\n",
    "    Loads the given CSV files, cleans the data, and standardises column names:\n",
    "    - Antenna data: Includes site information, power, and antenna height.\n",
    "    - Parameters data: Includes multiplex details, frequency, and site.\n",
    "    Returns cleaned pandas DataFrames for both datasets.\n",
    "    \"\"\"\n",
    "    # Load Antenna data\n",
    "    df_antenna = pd.read_csv(antenna_csv, encoding='ISO-8859-1')\n",
    "    df_antenna = df_antenna.rename(columns={\n",
    "        'Site Height': 'Site_Height',      # Standardises the column name\n",
    "        'In-Use Ae Ht': 'Aerial_height_m', # Rename with unit\n",
    "        'In-Use ERP Total': 'Power_kW',    # Rename with unit\n",
    "        'Dir Max ERP': 'Dir_Max_ERP'       # Standardises the column name\n",
    "    })\n",
    "    # Keep only the relevant columns\n",
    "    df_antenna = df_antenna[['id', 'NGR', 'Longitude/Latitude', 'Site_Height', 'Aerial_height_m', 'Power_kW', 'Dir_Max_ERP']]\n",
    "    \n",
    "    # Load Parameters data\n",
    "    df_params = pd.read_csv(params_csv, encoding='ISO-8859-1')\n",
    "    df_params = df_params.rename(columns={\n",
    "        'Ensemble Area': 'Ensemble_Area',         # Standardises the column name\n",
    "        'Transmitter Area': 'Transmitter_Area',   # Standardises the column name\n",
    "        'Freq.': 'Freq',                          # Standardises the column name\n",
    "        'Serv Label1 ': 'Serv_Label1',            # Standardises the column name\n",
    "        'Serv Label2 ': 'Serv_Label2',            # Standardises the column name\n",
    "        'Serv Label3 ': 'Serv_Label3',            # Standardises the column name\n",
    "        'Serv Label4 ': 'Serv_Label4',            # Standardises the column name\n",
    "        'Serv Label10 ': 'Serv_Label10'           # Standardises the column name \n",
    "    })\n",
    "    # Keep only the relevant columns\n",
    "    df_params = df_params[['id', 'Date', 'Ensemble', 'Licence', 'Ensemble_Area', 'EID', 'Transmitter_Area', \n",
    "                           'Site', 'Freq', 'Block', \n",
    "                           'Serv_Label1', 'Serv_Label2', 'Serv_Label3', 'Serv_Label4', 'Serv_Label10']]\n",
    "    \n",
    "    return df_antenna, df_params"
   ]
  },
  {
   "cell_type": "markdown",
   "id": "90820f3b",
   "metadata": {},
   "source": [
    "##  Step 3: Save Data to Database"
   ]
  },
  {
   "cell_type": "code",
   "execution_count": 6,
   "id": "a435678e",
   "metadata": {},
   "outputs": [],
   "source": [
    "def save_data_to_database(df_antenna, df_params):\n",
    "    \"\"\"\n",
    "    Saves the cleaned DataFrames to the SQLite database as tables:\n",
    "    - TxAntennaDAB: Antenna data.\n",
    "    - TxParamsDAB: Parameters data.\n",
    "    \"\"\"\n",
    "    conn = sqlite3.connect('formative_week2.db')\n",
    "    \n",
    "    # Save DataFrames to database\n",
    "    df_antenna.to_sql('TxAntennaDAB', conn, if_exists='replace', index=False)\n",
    "    df_params.to_sql('TxParamsDAB', conn, if_exists='replace', index=False)\n",
    "    \n",
    "    conn.close()\n",
    "    print(\"\\nStep3: Data saved to SQLite database successfully.\")"
   ]
  },
  {
   "cell_type": "markdown",
   "id": "626251b0",
   "metadata": {},
   "source": [
    "## Step 4: Filter and Add Multiplex Data"
   ]
  },
  {
   "cell_type": "code",
   "execution_count": 7,
   "id": "33c664ef",
   "metadata": {},
   "outputs": [],
   "source": [
    "def filter_and_add_multiplex():\n",
    "    \"\"\"\n",
    "    Filters out rows with specific NGR values from TxAntennaDAB and adds a DAB_Multiplex column\n",
    "    to TxParamsDAB to indicate the multiplex type (C18A, C18F, C188).\n",
    "    \"\"\"\n",
    "    conn = sqlite3.connect('formative_week2.db')\n",
    "    cursor = conn.cursor()\n",
    "\n",
    "    # Remove unwanted NGR values\n",
    "    exclude_ngrs = ['NZ02553847', 'SE213515', 'NT05399374', 'NT252675908']\n",
    "    cursor.execute('''\n",
    "        DELETE FROM TxAntennaDAB WHERE NGR IN (?, ?, ?, ?)\n",
    "    ''', exclude_ngrs)\n",
    "    conn.commit()\n",
    "    print(\"\\nStep4-1: Unwanted NGR values removed from TxAntennaDAB table.\")\n",
    "\n",
    "    # Add Multiplex column to TxParamsDAB\n",
    "    multiplexes = ['C18A', 'C18F', 'C188']\n",
    "    df_params = pd.read_sql('SELECT * FROM TxParamsDAB', conn)\n",
    "    df_params['DAB_Multiplex'] = df_params['EID'].str.extract('(C18A|C18F|C188)', expand=False) # Create a new column for DAB Multiplex based on EID\n",
    "\n",
    "    # Save updated data back to the database\n",
    "    df_params.to_sql('TxParamsDAB', conn, if_exists='replace', index=False)\n",
    "    conn.close()\n",
    "    print(\"\\nStep4-2: DAB_Multiplex column added and saved to TxParamsDAB table.\")\n"
   ]
  },
  {
   "cell_type": "markdown",
   "id": "a9a30f61",
   "metadata": {},
   "source": [
    "## Step 5: Execution Workflow"
   ]
  },
  {
   "cell_type": "code",
   "execution_count": 12,
   "id": "87c37e4b",
   "metadata": {},
   "outputs": [
    {
     "name": "stdout",
     "output_type": "stream",
     "text": [
      "\n",
      "Step1: Database and tables created successfully.\n",
      "\n",
      "Step3: Data saved to SQLite database successfully.\n",
      "\n",
      "Step4-1: Unwanted NGR values removed from TxAntennaDAB table.\n",
      "\n",
      "Step4-2: DAB_Multiplex column added and saved to TxParamsDAB table.\n"
     ]
    }
   ],
   "source": [
    "antenna_csv_path = \"Data sets/TxAntennaDAB.csv\"\n",
    "params_csv_path = \"Data sets/TxParamsDAB.csv\"\n",
    "\n",
    "# Execute the full workflow\n",
    "create_database()                                                               \n",
    "df_antenna, df_params = load_and_clean_data(antenna_csv_path, params_csv_path) \n",
    "save_data_to_database(df_antenna, df_params)                                   \n",
    "filter_and_add_multiplex()                                           "
   ]
  },
  {
   "cell_type": "markdown",
   "id": "e59867d3",
   "metadata": {},
   "source": [
    "## Step 6: Validation"
   ]
  },
  {
   "cell_type": "markdown",
   "id": "e3f5158a",
   "metadata": {},
   "source": [
    "###  Step 6-1: Data Integrity Check"
   ]
  },
  {
   "cell_type": "code",
   "execution_count": 13,
   "id": "6c824fee",
   "metadata": {},
   "outputs": [],
   "source": [
    "def check_data_integrity():\n",
    "    \"\"\"\n",
    "    Validates the integrity of the data in the database:\n",
    "    - Checks row counts for both tables.\n",
    "    - Ensures NGR filtering was successful.\n",
    "    \"\"\"\n",
    "    conn = sqlite3.connect('formative_week2.db')\n",
    "    cursor = conn.cursor()\n",
    "    \n",
    "    # Check row counts\n",
    "    cursor.execute('SELECT COUNT(*) FROM TxAntennaDAB')\n",
    "    print(f\"Step6-1-1. TxAntennaDAB row count: {cursor.fetchone()[0]}\")\n",
    "    cursor.execute('SELECT COUNT(*) FROM TxParamsDAB')\n",
    "    print(f\"Step6-1-2. TxParamsDAB row count: {cursor.fetchone()[0]}\")\n",
    "    \n",
    "    # Check if NGR filtering was successful\n",
    "    exclude_ngrs = ['NZ02553847', 'SE213515', 'NT05399374', 'NT252675908']\n",
    "    cursor.execute(f'''\n",
    "        SELECT * FROM TxAntennaDAB \n",
    "        WHERE NGR IN ({','.join(['?']*len(exclude_ngrs))})\n",
    "    ''', exclude_ngrs)\n",
    "    if cursor.fetchall():\n",
    "        print(\"\\nStep6-1-3. NGR filtering failed.\")\n",
    "    else:\n",
    "        print(\"\\nStep6-1-3. NGR filtering successful.\")\n",
    "    # Close the connection\n",
    "    conn.close()"
   ]
  },
  {
   "cell_type": "markdown",
   "id": "ae1353b6",
   "metadata": {},
   "source": [
    "### Step 6-2: Data Join Check"
   ]
  },
  {
   "cell_type": "code",
   "execution_count": 14,
   "id": "50bad841",
   "metadata": {},
   "outputs": [],
   "source": [
    "#  Data Join Check\n",
    "def check_data_join():\n",
    "    \"\"\"\n",
    "    Ensures that the join between TxAntennaDAB and TxParamsDAB on `id` works correctly.\n",
    "    \"\"\"\n",
    "\n",
    "    conn = sqlite3.connect('formative_week2.db')\n",
    "    query = '''\n",
    "        SELECT a.id, a.NGR, p.Date, p.EID\n",
    "        FROM TxAntennaDAB AS a\n",
    "        JOIN TxParamsDAB AS p\n",
    "        ON a.id = p.id\n",
    "        LIMIT 30\n",
    "    '''\n",
    "    joined_data = pd.read_sql_query(query, conn)\n",
    "    print(\"\\nStep6-2. Checking data join:\")\n",
    "    print(joined_data)\n",
    "    # Close the connection\n",
    "    conn.close()"
   ]
  },
  {
   "cell_type": "markdown",
   "id": "ebd1b8b3",
   "metadata": {},
   "source": [
    "### Step 6-3: DAB_Multiplex Column Verification"
   ]
  },
  {
   "cell_type": "code",
   "execution_count": 15,
   "id": "2ea152a8",
   "metadata": {},
   "outputs": [],
   "source": [
    "# DAB_Multiplex Column Verification\n",
    "def check_dab_multiplex():\n",
    "    \"\"\"\n",
    "    Check if DAB_Multiplex column is correctly populated in TxParamsDAB.\n",
    "    \"\"\"\n",
    "    conn = sqlite3.connect('formative_week2.db')\n",
    "    print(\"\\nStep6-3. Checking DAB_Multiplex column:\")\n",
    "    query = '''\n",
    "        SELECT EID, DAB_Multiplex\n",
    "        FROM TxParamsDAB\n",
    "        WHERE DAB_Multiplex IS NOT NULL\n",
    "        LIMIT 10\n",
    "    '''\n",
    "    # Fetch and display multiplex data\n",
    "    multiplex_data = pd.read_sql_query(query, conn)\n",
    "    print(multiplex_data)\n",
    "    # Close the connection\n",
    "    conn.close()"
   ]
  },
  {
   "cell_type": "markdown",
   "id": "974b58b7",
   "metadata": {},
   "source": [
    "### Step 6-4: Execute all checks"
   ]
  },
  {
   "cell_type": "code",
   "execution_count": 16,
   "id": "0beed9e0",
   "metadata": {},
   "outputs": [
    {
     "name": "stdout",
     "output_type": "stream",
     "text": [
      "Step6-1-1. TxAntennaDAB row count: 1210\n",
      "Step6-1-2. TxParamsDAB row count: 1214\n",
      "\n",
      "Step6-1-3. NGR filtering successful.\n",
      "\n",
      "Step6-2. Checking data join:\n",
      "        id         NGR        Date   EID\n",
      "0   745392  NO76418994  23/11/2001  C19A\n",
      "1   745393  NJ76043299  22/11/2001  C19A\n",
      "2   745394  NJ98315700  21/11/2001  C19A\n",
      "3   745395  NJ94270253  24/05/2016  C19A\n",
      "4   745396  NS29181617  04/04/2002  C19B\n",
      "5   745397  NS55753413  03/04/2002  C19B\n",
      "6   745398  NX21179812  29/11/2016  C19B\n",
      "7   745399  NS21494835  03/04/2002  C19B\n",
      "8   745400  SU64314792  30/11/2022  C1DF\n",
      "9   745401  SO03450129  30/01/2014  CE15\n",
      "10  745402  SO24411270  11/09/2008  CE15\n",
      "11  745403  SO22440237  18/09/2009  CE15\n",
      "12  745404  SE79536190  19/03/2007  CE15\n",
      "13  745405  SE12401978  27/01/2015  CE15\n",
      "14  745406  TM44175962  13/05/2009  CE15\n",
      "15  745407  TQ29689006  27/09/1995  CE15\n",
      "16  745408  SJ81274781  01/08/1997  CE15\n",
      "17  745409  SU72233862  25/09/2014  CE15\n",
      "18  745410  SH47069066  20/10/2015  CE15\n",
      "19  745411  NO39484078  29/10/2003  CE15\n",
      "20  745412    NO590580  24/02/2016  CE15\n",
      "21  745413  SH47604937  04/09/2008  CE15\n",
      "22  745414  IH89184461  01/05/2009  CE15\n",
      "23  745415  SK18194603  07/03/2014  CE15\n",
      "24  745416  SX75826876  24/10/2014  CE15\n",
      "25  745417  NT51617605  18/09/2009  CE15\n",
      "26  745418    SP820141  18/01/2017  CE15\n",
      "27  745419  SH96893750  12/03/2014  CE15\n",
      "28  745420  NJ92721046  05/11/2009  CE15\n",
      "29  745421  ID11803969  08/09/2015  CE15\n",
      "\n",
      "Step6-3. Checking DAB_Multiplex column:\n",
      "    EID DAB_Multiplex\n",
      "0  C18A          C18A\n",
      "1  C18A          C18A\n",
      "2  C18A          C18A\n",
      "3  C18A          C18A\n",
      "4  C18A          C18A\n",
      "5  C18A          C18A\n",
      "6  C18A          C18A\n",
      "7  C18A          C18A\n",
      "8  C18F          C18F\n",
      "9  C18F          C18F\n",
      "\n",
      "Database connection closed.\n"
     ]
    }
   ],
   "source": [
    "check_data_integrity()  # Verify row counts and filtering\n",
    "check_data_join()       # Verify join integrity between the two tables\n",
    "check_dab_multiplex()   # Verigy if DAB_Multiplex column can store 'C18A', 'C18F', and 'C188'\n",
    "\n",
    "print(\"\\nDatabase connection closed.\")"
   ]
  },
  {
   "cell_type": "markdown",
   "id": "73b16d85",
   "metadata": {},
   "source": [
    "## EOF"
   ]
  }
 ],
 "metadata": {
  "kernelspec": {
   "display_name": "Python 3 (ipykernel)",
   "language": "python",
   "name": "python3"
  },
  "language_info": {
   "codemirror_mode": {
    "name": "ipython",
    "version": 3
   },
   "file_extension": ".py",
   "mimetype": "text/x-python",
   "name": "python",
   "nbconvert_exporter": "python",
   "pygments_lexer": "ipython3",
   "version": "3.8.2"
  }
 },
 "nbformat": 4,
 "nbformat_minor": 5
}
