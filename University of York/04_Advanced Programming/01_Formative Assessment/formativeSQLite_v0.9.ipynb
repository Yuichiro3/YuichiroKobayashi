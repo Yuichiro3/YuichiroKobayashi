{
 "cells": [
  {
   "cell_type": "code",
   "execution_count": 13,
   "id": "491815fa",
   "metadata": {},
   "outputs": [],
   "source": [
    "import sqlite3\n",
    "import pandas as pd"
   ]
  },
  {
   "cell_type": "markdown",
   "id": "c2929406",
   "metadata": {},
   "source": [
    "## Step 1: Create SQLite Database"
   ]
  },
  {
   "cell_type": "code",
   "execution_count": 14,
   "id": "7dd456f1",
   "metadata": {},
   "outputs": [],
   "source": [
    "# Step 1: Create SQLite Database and Tables\n",
    "def create_database():\n",
    "    \"\"\"Create SQLite database with TxAntennaDAB and TxParamsDAB tables.\"\"\"\n",
    "    conn = sqlite3.connect('formative_week2.db')  # Create SQLite database\n",
    "    cursor = conn.cursor()\n",
    "    \n",
    "    # Create TxAntennaDAB table\n",
    "    cursor.execute('''\n",
    "        CREATE TABLE IF NOT EXISTS TxAntennaDAB (\n",
    "            id INTEGER PRIMARY KEY,               -- Unique identifier\n",
    "            NGR TEXT,                             -- National Grid Reference\n",
    "            Longitude_Latitude TEXT,              -- Longitude and Latitude as a string\n",
    "            Site_Height INTEGER,                  -- Site Height in meters\n",
    "            In_Use_Ae_Ht REAL,                    -- In-Use Antenna Height in meters\n",
    "            In_Use_ERP_Total REAL,                -- In-Use Effective Radiated Power (ERP)\n",
    "            Dir_Max_ERP REAL                      -- Directional Max ERP\n",
    "        )\n",
    "    ''')\n",
    "    \n",
    "    # Create TxParamsDAB table\n",
    "    cursor.execute('''\n",
    "        CREATE TABLE IF NOT EXISTS TxParamsDAB (\n",
    "            id INTEGER PRIMARY KEY,               -- Unique identifier\n",
    "            Date TEXT,                            -- Date of entry\n",
    "            Ensemble TEXT,                        -- Ensemble group\n",
    "            Licence TEXT,                         -- Licence ID\n",
    "            Ensemble_Area TEXT,                   -- Name of Ensemble Area\n",
    "            EID TEXT,                             -- Multiplex Block ID (e.g., C19A)\n",
    "            Transmitter_Area TEXT,                -- Transmitter Area\n",
    "            Site TEXT,                            -- Site name\n",
    "            Freq REAL,                            -- Frequency in MHz\n",
    "            Block TEXT,                           -- Frequency Block\n",
    "            FOREIGN KEY (id) REFERENCES TxAntennaDAB (id) -- Link to Antenna table\n",
    "        )\n",
    "    ''')\n",
    "    \n",
    "    conn.commit()\n",
    "    conn.close()\n",
    "    print(\"Database and tables created successfully.\")"
   ]
  },
  {
   "cell_type": "markdown",
   "id": "af7b3914",
   "metadata": {},
   "source": [
    "## Step 2: Load CSV Files and Clean Data"
   ]
  },
  {
   "cell_type": "code",
   "execution_count": 15,
   "id": "6e464abf",
   "metadata": {},
   "outputs": [],
   "source": [
    "def load_and_clean_data(antenna_csv, params_csv):\n",
    "    \"\"\"Load CSV data, clean it, and ensure column names match the database.\"\"\"\n",
    "    # Load Antenna data\n",
    "    df_antenna = pd.read_csv(antenna_csv, encoding='ISO-8859-1')\n",
    "    df_antenna = df_antenna.rename(columns={\n",
    "        'Site Height': 'Site_Height',\n",
    "        'In-Use Ae Ht': 'In_Use_Ae_Ht',\n",
    "        'In-Use ERP Total': 'In_Use_ERP_Total',\n",
    "        'Dir Max ERP': 'Dir_Max_ERP'\n",
    "    })\n",
    "    # Drop unnecessary columns\n",
    "    df_antenna = df_antenna[['id', 'NGR', 'Longitude/Latitude', 'Site_Height', 'In_Use_Ae_Ht', 'In_Use_ERP_Total', 'Dir_Max_ERP']]\n",
    "    \n",
    "    # Load Params data\n",
    "    df_params = pd.read_csv(params_csv, encoding='ISO-8859-1')\n",
    "    df_params = df_params.rename(columns={\n",
    "        'Ensemble Area': 'Ensemble_Area',\n",
    "        'Transmitter Area': 'Transmitter_Area',\n",
    "        'Freq.': 'Freq'\n",
    "    })\n",
    "    # Drop unnecessary columns\n",
    "    df_params = df_params[['id', 'Date', 'Ensemble', 'Licence', 'Ensemble_Area', 'EID', 'Transmitter_Area', 'Site', 'Freq', 'Block']]\n",
    "    \n",
    "    return df_antenna, df_params"
   ]
  },
  {
   "cell_type": "markdown",
   "id": "0c7d7c8c",
   "metadata": {},
   "source": [
    "##  Step 3: Save Data to Database"
   ]
  },
  {
   "cell_type": "code",
   "execution_count": 16,
   "id": "cae78bfd",
   "metadata": {},
   "outputs": [],
   "source": [
    "def save_data_to_database(df_antenna, df_params):\n",
    "    \"\"\"Save cleaned CSV data into SQLite database.\"\"\"\n",
    "    conn = sqlite3.connect('formative_week2.db')\n",
    "    \n",
    "    # Save DataFrames to database\n",
    "    df_antenna.to_sql('TxAntennaDAB', conn, if_exists='replace', index=False)\n",
    "    df_params.to_sql('TxParamsDAB', conn, if_exists='replace', index=False)\n",
    "    \n",
    "    conn.close()\n",
    "    print(\"Data saved to SQLite database successfully.\")"
   ]
  },
  {
   "cell_type": "markdown",
   "id": "c022daa4",
   "metadata": {},
   "source": [
    "## Step 4: Filter and Add Multiplex Data"
   ]
  },
  {
   "cell_type": "code",
   "execution_count": 17,
   "id": "029bd90f",
   "metadata": {},
   "outputs": [],
   "source": [
    "def filter_and_add_multiplex():\n",
    "    \"\"\"Filter out unwanted rows and create DAB_Multiplex column.\"\"\"\n",
    "    conn = sqlite3.connect('formative_week2.db')\n",
    "    cursor = conn.cursor()\n",
    "\n",
    "    # Filter out unwanted NGR values in TxAntennaDAB\n",
    "    exclude_ngrs = ['NZ02553847', 'SE213515', 'NT05399374', 'NT252675908']\n",
    "    cursor.execute('''\n",
    "        DELETE FROM TxAntennaDAB WHERE NGR IN (?, ?, ?, ?)\n",
    "    ''', exclude_ngrs)\n",
    "    conn.commit()\n",
    "    print(\"Unwanted NGR values removed from TxAntennaDAB table.\")\n",
    "\n",
    "    # Add Multiplex information to TxParamsDAB\n",
    "    multiplexes = ['C18A', 'C18F', 'C188']\n",
    "    df_params = pd.read_sql('SELECT * FROM TxParamsDAB', conn)\n",
    "\n",
    "    # Create a new column for DAB Multiplex based on EID\n",
    "    df_params['DAB_Multiplex'] = df_params['EID'].str.extract('(C18A|C18F|C188)', expand=False)\n",
    "\n",
    "    # Save updated Params table\n",
    "    df_params.to_sql('TxParamsDAB', conn, if_exists='replace', index=False)\n",
    "    conn.close()\n",
    "    print(\"DAB_Multiplex column added and saved to TxParamsDAB table.\")\n"
   ]
  },
  {
   "cell_type": "markdown",
   "id": "8913be7f",
   "metadata": {},
   "source": [
    "## Step 5: Execution"
   ]
  },
  {
   "cell_type": "code",
   "execution_count": 19,
   "id": "a4cd530f",
   "metadata": {},
   "outputs": [
    {
     "name": "stdout",
     "output_type": "stream",
     "text": [
      "Database and tables created successfully.\n",
      "Data saved to SQLite database successfully.\n",
      "Unwanted NGR values removed from TxAntennaDAB table.\n",
      "DAB_Multiplex column added and saved to TxParamsDAB table.\n"
     ]
    }
   ],
   "source": [
    "antenna_csv_path = \"Data sets/TxAntennaDAB.csv\"  # Replace with your file path\n",
    "params_csv_path = \"Data sets/TxParamsDAB.csv\"    # Replace with your file path\n",
    "\n",
    "create_database()\n",
    "df_antenna, df_params = load_and_clean_data(antenna_csv_path, params_csv_path)\n",
    "save_data_to_database(df_antenna, df_params)\n",
    "filter_and_add_multiplex()"
   ]
  },
  {
   "cell_type": "markdown",
   "id": "4684db41",
   "metadata": {},
   "source": [
    "## Step 6: Validation"
   ]
  },
  {
   "cell_type": "code",
   "execution_count": 26,
   "id": "c8f677ed",
   "metadata": {},
   "outputs": [],
   "source": [
    "# Connect to the SQLite database\n",
    "conn = sqlite3.connect('formative_week2.db')"
   ]
  },
  {
   "cell_type": "markdown",
   "id": "7b515ae7",
   "metadata": {},
   "source": [
    "###  Data Integrity Check"
   ]
  },
  {
   "cell_type": "code",
   "execution_count": 22,
   "id": "eb01349c",
   "metadata": {},
   "outputs": [],
   "source": [
    "# Step 1: Data Integrity Check\n",
    "def check_data_integrity():\n",
    "    \"\"\"Check if data is correctly stored in the database.\"\"\"\n",
    "    cursor = conn.cursor()\n",
    "    \n",
    "    # Check the row counts for both tables\n",
    "    print(\"Checking row counts:\")\n",
    "    cursor.execute('SELECT COUNT(*) FROM TxAntennaDAB')\n",
    "    antenna_count = cursor.fetchone()[0]\n",
    "    print(f\"TxAntennaDAB row count: {antenna_count}\")\n",
    "    \n",
    "    cursor.execute('SELECT COUNT(*) FROM TxParamsDAB')\n",
    "    params_count = cursor.fetchone()[0]\n",
    "    print(f\"TxParamsDAB row count: {params_count}\")\n",
    "    \n",
    "    # Check if NGR filtering was successful\n",
    "    print(\"\\nChecking NGR filtering:\")\n",
    "    exclude_ngrs = ['NZ02553847', 'SE213515', 'NT05399374', 'NT252675908']\n",
    "    cursor.execute(f'''\n",
    "        SELECT * FROM TxAntennaDAB \n",
    "        WHERE NGR IN ({','.join(['?']*len(exclude_ngrs))})\n",
    "    ''', exclude_ngrs)\n",
    "    ngr_results = cursor.fetchall()\n",
    "    \n",
    "    if ngr_results:\n",
    "        print(f\"Filtering failed for {len(ngr_results)} rows: {ngr_results}\")\n",
    "    else:\n",
    "        print(\"NGR filtering successful. No excluded NGRs found.\")"
   ]
  },
  {
   "cell_type": "markdown",
   "id": "5d3fd51e",
   "metadata": {},
   "source": [
    "### Data Join Check"
   ]
  },
  {
   "cell_type": "code",
   "execution_count": 23,
   "id": "aaf01cac",
   "metadata": {},
   "outputs": [],
   "source": [
    "# Step 2: Data Join Check\n",
    "def check_data_join():\n",
    "    \"\"\"Check if data joins correctly between TxAntennaDAB and TxParamsDAB.\"\"\"\n",
    "    print(\"\\nChecking data join:\")\n",
    "    query = '''\n",
    "        SELECT a.id, a.NGR, p.Date, p.EID\n",
    "        FROM TxAntennaDAB AS a\n",
    "        JOIN TxParamsDAB AS p\n",
    "        ON a.id = p.id\n",
    "        LIMIT 10\n",
    "    '''\n",
    "    # Use pandas to fetch and display the joined data\n",
    "    joined_data = pd.read_sql_query(query, conn)\n",
    "    print(joined_data)"
   ]
  },
  {
   "cell_type": "markdown",
   "id": "7bd39448",
   "metadata": {},
   "source": [
    "### DAB_Multiplex Column Verification"
   ]
  },
  {
   "cell_type": "code",
   "execution_count": 24,
   "id": "b8241515",
   "metadata": {},
   "outputs": [],
   "source": [
    "# Step 3: DAB_Multiplex Column Verification\n",
    "def check_dab_multiplex():\n",
    "    \"\"\"Check if DAB_Multiplex column is correctly populated in TxParamsDAB.\"\"\"\n",
    "    print(\"\\nChecking DAB_Multiplex column:\")\n",
    "    query = '''\n",
    "        SELECT EID, DAB_Multiplex\n",
    "        FROM TxParamsDAB\n",
    "        WHERE DAB_Multiplex IS NOT NULL\n",
    "        LIMIT 10\n",
    "    '''\n",
    "    # Fetch and display multiplex data\n",
    "    multiplex_data = pd.read_sql_query(query, conn)\n",
    "    print(multiplex_data)"
   ]
  },
  {
   "cell_type": "code",
   "execution_count": 27,
   "id": "7f29a721",
   "metadata": {},
   "outputs": [
    {
     "name": "stdout",
     "output_type": "stream",
     "text": [
      "Checking row counts:\n",
      "TxAntennaDAB row count: 1210\n",
      "TxParamsDAB row count: 1214\n",
      "\n",
      "Checking NGR filtering:\n",
      "NGR filtering successful. No excluded NGRs found.\n",
      "\n",
      "Checking data join:\n",
      "       id         NGR        Date   EID\n",
      "0  745392  NO76418994  23/11/2001  C19A\n",
      "1  745393  NJ76043299  22/11/2001  C19A\n",
      "2  745394  NJ98315700  21/11/2001  C19A\n",
      "3  745395  NJ94270253  24/05/2016  C19A\n",
      "4  745396  NS29181617  04/04/2002  C19B\n",
      "5  745397  NS55753413  03/04/2002  C19B\n",
      "6  745398  NX21179812  29/11/2016  C19B\n",
      "7  745399  NS21494835  03/04/2002  C19B\n",
      "8  745400  SU64314792  30/11/2022  C1DF\n",
      "9  745401  SO03450129  30/01/2014  CE15\n",
      "\n",
      "Checking DAB_Multiplex column:\n",
      "    EID DAB_Multiplex\n",
      "0  C18A          C18A\n",
      "1  C18A          C18A\n",
      "2  C18A          C18A\n",
      "3  C18A          C18A\n",
      "4  C18A          C18A\n",
      "5  C18A          C18A\n",
      "6  C18A          C18A\n",
      "7  C18A          C18A\n",
      "8  C18F          C18F\n",
      "9  C18F          C18F\n",
      "Database connection closed.\n"
     ]
    }
   ],
   "source": [
    "# Execute all checks\n",
    "check_data_integrity()  # Verify row counts and filtering\n",
    "check_data_join()       # Verify join integrity between the two tables\n",
    "check_dab_multiplex()   # Verify the DAB_Multiplex column\n",
    "\n",
    "# Close the database connection\n",
    "conn.close()\n",
    "print(\"Database connection closed.\")"
   ]
  },
  {
   "cell_type": "markdown",
   "id": "73b16d85",
   "metadata": {},
   "source": [
    "## EOF"
   ]
  }
 ],
 "metadata": {
  "kernelspec": {
   "display_name": "Python 3 (ipykernel)",
   "language": "python",
   "name": "python3"
  },
  "language_info": {
   "codemirror_mode": {
    "name": "ipython",
    "version": 3
   },
   "file_extension": ".py",
   "mimetype": "text/x-python",
   "name": "python",
   "nbconvert_exporter": "python",
   "pygments_lexer": "ipython3",
   "version": "3.8.2"
  }
 },
 "nbformat": 4,
 "nbformat_minor": 5
}
