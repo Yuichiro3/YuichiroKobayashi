{
 "cells": [
  {
   "cell_type": "code",
   "execution_count": 1,
   "id": "0bd8a0af",
   "metadata": {},
   "outputs": [],
   "source": [
    "import numpy as np"
   ]
  },
  {
   "cell_type": "code",
   "execution_count": 2,
   "id": "e0bfac96",
   "metadata": {},
   "outputs": [],
   "source": [
    "fileName = \"Two_RandomeValues.csv\""
   ]
  },
  {
   "cell_type": "code",
   "execution_count": 3,
   "id": "2fed0c70",
   "metadata": {},
   "outputs": [
    {
     "data": {
      "text/plain": [
       "array([[ 68.,  54.,  95.,  65.,  68.,   6.,  50.,  63.,  99.,  81.,  14.],\n",
       "       [  5.,  85.,  83.,  22.,  39.,  26.,  73.,  77.,  97.,  75.,  33.],\n",
       "       [  1.,  46.,  39.,  53.,  67.,  19.,  87.,   3.,  84.,  58.,  26.],\n",
       "       [ 83.,  81.,  31.,  96.,  13.,   3.,  58.,  32., 100., 100.,  96.],\n",
       "       [ 71.,   2.,  63.,  84.,  85.,   5.,  67.,  35.,  76.,  77.,  76.],\n",
       "       [ 79.,  67.,  44., 100.,  89.,  71.,  27.,  46.,  45.,  13.,  32.],\n",
       "       [100.,  27.,  23.,  76.,  53.,  86.,   2.,  59.,  30.,  52.,   2.],\n",
       "       [ 37.,  43.,  10.,  16.,  77.,  40.,  62.,   4.,  22.,  64.,  15.],\n",
       "       [ 97.,  61.,   8.,  99.,  67.,  42.,  59.,   7.,  86.,  42.,  21.],\n",
       "       [ 80.,  93.,  76.,  46.,  46.,  35.,  57.,  70.,  93.,  36.,  86.],\n",
       "       [ 25.,  23.,  89.,  58.,  89.,  52.,  21.,  65.,  52.,  25.,  45.]])"
      ]
     },
     "execution_count": 3,
     "metadata": {},
     "output_type": "execute_result"
    }
   ],
   "source": [
    "# Read csv using Numpy\n",
    "data_array = np.loadtxt(fileName, delimiter=\",\")\n",
    "data_array"
   ]
  },
  {
   "cell_type": "code",
   "execution_count": 4,
   "id": "c76d5cd2",
   "metadata": {},
   "outputs": [
    {
     "data": {
      "text/plain": [
       "array([[ 79.,  67.,  44., 100.,  89.,  71.,  27.,  46.,  45.,  13.,  32.],\n",
       "       [ 37.,  43.,  10.,  16.,  77.,  40.,  62.,   4.,  22.,  64.,  15.],\n",
       "       [ 80.,  93.,  76.,  46.,  46.,  35.,  57.,  70.,  93.,  36.,  86.]])"
      ]
     },
     "execution_count": 4,
     "metadata": {},
     "output_type": "execute_result"
    }
   ],
   "source": [
    "# Extract rows (5, 7, 9)\n",
    "rows_5_7_9 = data_array[[5,7,9], :]\n",
    "rows_5_7_9"
   ]
  },
  {
   "cell_type": "code",
   "execution_count": 6,
   "id": "69d65c89",
   "metadata": {},
   "outputs": [
    {
     "data": {
      "text/plain": [
       "array([[ 68.,  63.,  14.],\n",
       "       [  5.,  77.,  33.],\n",
       "       [  1.,   3.,  26.],\n",
       "       [ 83.,  32.,  96.],\n",
       "       [ 71.,  35.,  76.],\n",
       "       [ 79.,  46.,  32.],\n",
       "       [100.,  59.,   2.],\n",
       "       [ 37.,   4.,  15.],\n",
       "       [ 97.,   7.,  21.],\n",
       "       [ 80.,  70.,  86.],\n",
       "       [ 25.,  65.,  45.]])"
      ]
     },
     "execution_count": 6,
     "metadata": {},
     "output_type": "execute_result"
    }
   ],
   "source": [
    "# Extract columns (0, 7, 10)\n",
    "columns_0_7_10 = data_array[:, [0, 7, 10]]\n",
    "columns_0_7_10"
   ]
  },
  {
   "cell_type": "code",
   "execution_count": 10,
   "id": "4e09d2e5",
   "metadata": {},
   "outputs": [
    {
     "data": {
      "text/plain": [
       "array([[43., 10., 16.],\n",
       "       [61.,  8., 99.],\n",
       "       [93., 76., 46.],\n",
       "       [23., 89., 58.]])"
      ]
     },
     "execution_count": 10,
     "metadata": {},
     "output_type": "execute_result"
    }
   ],
   "source": [
    "# Extract data from rows (7 to 10) and columns (1 to 3)\n",
    "extractedData = data_array[7:11, 1:4] # Note: The end of each data does not mean including data\n",
    "extractedData"
   ]
  },
  {
   "cell_type": "code",
   "execution_count": null,
   "id": "6eca14ea",
   "metadata": {},
   "outputs": [],
   "source": []
  }
 ],
 "metadata": {
  "kernelspec": {
   "display_name": "Python 3 (ipykernel)",
   "language": "python",
   "name": "python3"
  },
  "language_info": {
   "codemirror_mode": {
    "name": "ipython",
    "version": 3
   },
   "file_extension": ".py",
   "mimetype": "text/x-python",
   "name": "python",
   "nbconvert_exporter": "python",
   "pygments_lexer": "ipython3",
   "version": "3.8.2"
  }
 },
 "nbformat": 4,
 "nbformat_minor": 5
}
