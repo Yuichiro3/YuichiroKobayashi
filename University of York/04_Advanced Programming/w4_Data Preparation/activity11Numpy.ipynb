{
 "cells": [
  {
   "cell_type": "code",
   "execution_count": 1,
   "id": "682984bf",
   "metadata": {},
   "outputs": [],
   "source": [
    "import numpy as np"
   ]
  },
  {
   "cell_type": "code",
   "execution_count": 9,
   "id": "6fb4eeda",
   "metadata": {},
   "outputs": [
    {
     "name": "stdout",
     "output_type": "stream",
     "text": [
      "The random array: \n",
      "[[0.85944406 0.38395669 0.48328177 ... 0.84380736 0.82784867 0.12676501]\n",
      " [0.06571031 0.16473683 0.73290514 ... 0.96252457 0.79483036 0.90078123]\n",
      " [0.5683299  0.36154228 0.85169267 ... 0.95113415 0.20956985 0.15613233]\n",
      " ...\n",
      " [0.61267913 0.35593377 0.51522406 ... 0.16827966 0.23123354 0.05209559]\n",
      " [0.53298793 0.26038127 0.81894272 ... 0.09990872 0.68477709 0.98885147]\n",
      " [0.47295154 0.00652617 0.39393081 ... 0.31886414 0.14715263 0.39269817]]\n"
     ]
    }
   ],
   "source": [
    "# Generate a 2D array with 10,000 random numbers\n",
    "random_array = np.random.rand(100, 100) # Create a 100x100 array, which has 10,000 elements.\n",
    "print(\"The random array: \") \n",
    "print(random_array)"
   ]
  },
  {
   "cell_type": "code",
   "execution_count": 10,
   "id": "bb8f1185",
   "metadata": {},
   "outputs": [
    {
     "name": "stdout",
     "output_type": "stream",
     "text": [
      "The square root of random array: \n",
      "[[0.92706206 0.61964239 0.6951847  ... 0.91858987 0.90986189 0.35604074]\n",
      " [0.25634023 0.40587785 0.85609879 ... 0.98108336 0.89153259 0.94909495]\n",
      " [0.75387658 0.60128386 0.92287197 ... 0.97526107 0.45778799 0.39513584]\n",
      " ...\n",
      " [0.78273823 0.59660185 0.7177911  ... 0.41021904 0.48086748 0.22824459]\n",
      " [0.73006022 0.51027568 0.90495454 ... 0.3160834  0.82751259 0.99441011]\n",
      " [0.68771472 0.08078472 0.62763907 ... 0.56468057 0.38360478 0.62665634]]\n"
     ]
    }
   ],
   "source": [
    "# Calculate the square root of each value in the array\n",
    "sqrt_array = np.sqrt(random_array)\n",
    "print(\"The square root of random array: \")\n",
    "print(sqrt_array)"
   ]
  },
  {
   "cell_type": "code",
   "execution_count": 7,
   "id": "24a5d3ac",
   "metadata": {},
   "outputs": [
    {
     "name": "stdout",
     "output_type": "stream",
     "text": [
      "The sum of square roots of all elements:  6633.655377383929\n"
     ]
    }
   ],
   "source": [
    "# Sum all the square root values\n",
    "total_sum = np.sum(sqrt_array)\n",
    "print(\"The sum of square roots of all elements: \", total_sum)"
   ]
  },
  {
   "cell_type": "code",
   "execution_count": null,
   "id": "58d9c53d",
   "metadata": {},
   "outputs": [],
   "source": []
  }
 ],
 "metadata": {
  "kernelspec": {
   "display_name": "Python 3 (ipykernel)",
   "language": "python",
   "name": "python3"
  },
  "language_info": {
   "codemirror_mode": {
    "name": "ipython",
    "version": 3
   },
   "file_extension": ".py",
   "mimetype": "text/x-python",
   "name": "python",
   "nbconvert_exporter": "python",
   "pygments_lexer": "ipython3",
   "version": "3.8.2"
  }
 },
 "nbformat": 4,
 "nbformat_minor": 5
}
