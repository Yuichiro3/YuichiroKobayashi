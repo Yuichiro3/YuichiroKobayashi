{
 "cells": [
  {
   "cell_type": "code",
   "execution_count": 2,
   "id": "8940fb11",
   "metadata": {},
   "outputs": [],
   "source": [
    "import numpy as np"
   ]
  },
  {
   "cell_type": "code",
   "execution_count": 26,
   "id": "1122ad93",
   "metadata": {},
   "outputs": [
    {
     "data": {
      "text/plain": [
       "array([['', 'Apr-18', 'May-18', 'Jun-18', 'Jul-18', 'Aug-18', 'Sep-18',\n",
       "        'Oct-18', 'Nov-18', 'Dec-18', 'Jan-19', 'Feb-19', 'Mar-19'],\n",
       "       ['L3', '390', '345', '379', '353', '365', '326', '363', '459',\n",
       "        '539', '474', '340', '343'],\n",
       "       ['L1', '392', '377', '347', '395', '330', '332', '340', '446',\n",
       "        '573', '464', '223', '216'],\n",
       "       ['P2', '250', '270', '300', '398', '376', '382', '306', '489',\n",
       "        '552', '488', '298', '269'],\n",
       "       ['N6', '460', '480', '450', '310', '392', '383', '314', '402',\n",
       "        '640', '495', '215', '243'],\n",
       "       ['N4', '460', '480', '450', '387', '388', '320', '337', '478',\n",
       "        '676', '408', '338', '263'],\n",
       "       ['B8', '470', '510', '360', '472', '423', '385', '353', '464',\n",
       "        '598', '419', '459', '659']], dtype='<U6')"
      ]
     },
     "execution_count": 26,
     "metadata": {},
     "output_type": "execute_result"
    }
   ],
   "source": [
    "# Load the data from the CSV file\n",
    "fileName = \"Three_SalesData.csv\"\n",
    "data = np.genfromtxt(fileName, delimiter=\",\", dtype=str)\n",
    "data"
   ]
  },
  {
   "cell_type": "code",
   "execution_count": 27,
   "id": "0367fa14",
   "metadata": {},
   "outputs": [
    {
     "data": {
      "text/plain": [
       "array(['Apr-18', 'May-18', 'Jun-18', 'Jul-18', 'Aug-18', 'Sep-18',\n",
       "       'Oct-18', 'Nov-18', 'Dec-18', 'Jan-19', 'Feb-19', 'Mar-19'],\n",
       "      dtype='<U6')"
      ]
     },
     "execution_count": 27,
     "metadata": {},
     "output_type": "execute_result"
    }
   ],
   "source": [
    "# Extract column headers\n",
    "column_headers = data[0,1:]\n",
    "column_headers"
   ]
  },
  {
   "cell_type": "code",
   "execution_count": 28,
   "id": "1474b464",
   "metadata": {},
   "outputs": [
    {
     "data": {
      "text/plain": [
       "array(['L3', 'L1', 'P2', 'N6', 'N4', 'B8'], dtype='<U6')"
      ]
     },
     "execution_count": 28,
     "metadata": {},
     "output_type": "execute_result"
    }
   ],
   "source": [
    "# Extract row headers\n",
    "row_headers = data[1:, 0]\n",
    "row_headers"
   ]
  },
  {
   "cell_type": "code",
   "execution_count": 29,
   "id": "f328df29",
   "metadata": {},
   "outputs": [
    {
     "data": {
      "text/plain": [
       "array([[390., 345., 379., 353., 365., 326., 363., 459., 539., 474., 340.,\n",
       "        343.],\n",
       "       [392., 377., 347., 395., 330., 332., 340., 446., 573., 464., 223.,\n",
       "        216.],\n",
       "       [250., 270., 300., 398., 376., 382., 306., 489., 552., 488., 298.,\n",
       "        269.],\n",
       "       [460., 480., 450., 310., 392., 383., 314., 402., 640., 495., 215.,\n",
       "        243.],\n",
       "       [460., 480., 450., 387., 388., 320., 337., 478., 676., 408., 338.,\n",
       "        263.],\n",
       "       [470., 510., 360., 472., 423., 385., 353., 464., 598., 419., 459.,\n",
       "        659.]])"
      ]
     },
     "execution_count": 29,
     "metadata": {},
     "output_type": "execute_result"
    }
   ],
   "source": [
    "# Extract the numerical data and convert it to float\n",
    "data_values = data[1:, 1:].astype(float)\n",
    "data_values"
   ]
  },
  {
   "cell_type": "markdown",
   "id": "3e854ae7",
   "metadata": {},
   "source": [
    "### 1. All the sales for the second quarter (Jul-18 to Sep-18 inclusive), calculating the total and the mean for each month."
   ]
  },
  {
   "cell_type": "code",
   "execution_count": 30,
   "id": "ee833b69",
   "metadata": {},
   "outputs": [
    {
     "data": {
      "text/plain": [
       "[3, 4, 5]"
      ]
     },
     "execution_count": 30,
     "metadata": {},
     "output_type": "execute_result"
    }
   ],
   "source": [
    "# Define the months for the second quarter\n",
    "second_quarter_months = ['Jul-18', 'Aug-18', 'Sep-18']\n",
    "\n",
    "# Find the indices of these months in the column headers\n",
    "month_indices = [np.where(column_headers == month)[0][0] for month in second_quarter_months]\n",
    "month_indices"
   ]
  },
  {
   "cell_type": "code",
   "execution_count": 31,
   "id": "42ee057d",
   "metadata": {},
   "outputs": [
    {
     "data": {
      "text/plain": [
       "array([[353., 365., 326.],\n",
       "       [395., 330., 332.],\n",
       "       [398., 376., 382.],\n",
       "       [310., 392., 383.],\n",
       "       [387., 388., 320.],\n",
       "       [472., 423., 385.]])"
      ]
     },
     "execution_count": 31,
     "metadata": {},
     "output_type": "execute_result"
    }
   ],
   "source": [
    "# Extract the sales data from these months\n",
    "second_quarter_sales = data_values[:, month_indices] # column 3, 4, 5\n",
    "second_quarter_sales"
   ]
  },
  {
   "cell_type": "code",
   "execution_count": 32,
   "id": "be1660e4",
   "metadata": {},
   "outputs": [
    {
     "name": "stdout",
     "output_type": "stream",
     "text": [
      "total_sales_per_month: \n",
      "[2315. 2274. 2128.]\n",
      "\n",
      "mean_sales_per_month: \n",
      "[385.83333333 379.         354.66666667]\n"
     ]
    }
   ],
   "source": [
    "# Calculate the total and mean for each month\n",
    "total_sales_per_month = np.sum(second_quarter_sales, axis=0)\n",
    "mean_sales_per_month = np.mean(second_quarter_sales, axis=0)\n",
    "\n",
    "print(\"total_sales_per_month: \")\n",
    "print(total_sales_per_month)\n",
    "\n",
    "print(\"\")\n",
    "print(\"mean_sales_per_month: \")\n",
    "print(mean_sales_per_month)"
   ]
  },
  {
   "cell_type": "code",
   "execution_count": 33,
   "id": "b77291a9",
   "metadata": {},
   "outputs": [
    {
     "name": "stdout",
     "output_type": "stream",
     "text": [
      "----------------------------------------\n",
      "Month: Jul-18\n",
      "Total Sales: 2315.0\n",
      "Average Sales: 385.8333333333333\n",
      "----------------------------------------\n",
      "Month: Aug-18\n",
      "Total Sales: 2274.0\n",
      "Average Sales: 379.0\n",
      "----------------------------------------\n",
      "Month: Sep-18\n",
      "Total Sales: 2128.0\n",
      "Average Sales: 354.6666666666667\n"
     ]
    }
   ],
   "source": [
    "# Display the results\n",
    "for i, month in enumerate(second_quarter_months): # enumerate is used to add index number to i\n",
    "    print(\"-\"*40)\n",
    "    print(f\"Month: {month}\")\n",
    "    print(f\"Total Sales: {total_sales_per_month[i]}\")\n",
    "    print(f\"Average Sales: {mean_sales_per_month[i]}\") \n",
    "    "
   ]
  },
  {
   "cell_type": "markdown",
   "id": "089d2b1b",
   "metadata": {},
   "source": [
    "### 2. All the sales for stores L3 and L1, for the first and third quarter, calculating the total and mean for each quarter for each store."
   ]
  },
  {
   "cell_type": "code",
   "execution_count": 39,
   "id": "927c0c77",
   "metadata": {},
   "outputs": [],
   "source": [
    "# Define the stores and quarters\n",
    "stores = [\"L3\", \"L1\"]\n",
    "first_quarter_months = ['Apr-18', 'May-18', 'Jun-18']\n",
    "third_quarter_months = ['Oct-18', 'Nov-18', 'Dec-18']"
   ]
  },
  {
   "cell_type": "code",
   "execution_count": 40,
   "id": "86cf02bb",
   "metadata": {},
   "outputs": [
    {
     "data": {
      "text/plain": [
       "[0, 1]"
      ]
     },
     "execution_count": 40,
     "metadata": {},
     "output_type": "execute_result"
    }
   ],
   "source": [
    "# Find store indices\n",
    "store_indices = [np.where(row_headers == store)[0][0] for store in stores]\n",
    "store_indices"
   ]
  },
  {
   "cell_type": "code",
   "execution_count": 42,
   "id": "ff1af8b5",
   "metadata": {},
   "outputs": [
    {
     "name": "stdout",
     "output_type": "stream",
     "text": [
      "First quarter indices: [0, 1, 2]\n",
      "Third quarter indices: [6, 7, 8]\n"
     ]
    }
   ],
   "source": [
    "# Find month indices for each quarter\n",
    "first_quarter_indices = [np.where(column_headers == month)[0][0] for month in first_quarter_months]\n",
    "third_quarter_indices = [np.where(column_headers == month)[0][0] for month in third_quarter_months]\n",
    "print(f\"First quarter indices: {first_quarter_indices}\")\n",
    "print(f\"Third quarter indices: {third_quarter_indices}\")"
   ]
  },
  {
   "cell_type": "code",
   "execution_count": 45,
   "id": "72ee2a48",
   "metadata": {},
   "outputs": [],
   "source": [
    "# Prepare a dictionary to store results\n",
    "results = {}\n",
    "for store, store_idx in zip(stores, store_indices):\n",
    "    results[store] = {}\n",
    "    # Extract sales data for the first quarter\n",
    "    first_quarter_sales = data_values[store_idx, first_quarter_indices]\n",
    "    total_first_quarter = np.sum(first_quarter_sales)\n",
    "    mean_first_quarter = np.mean(first_quarter_sales)\n",
    "    \n",
    "    # Extract sales data for the third quarter\n",
    "    third_quarter_sales = data_values[store_idx, third_quarter_indices]\n",
    "    total_third_quarter = np.sum(third_quarter_sales)\n",
    "    mean_third_quarter = np.mean(third_quarter_sales)\n",
    "    \n",
    "    # Store the results\n",
    "    results[store]['First Quarter'] = {\n",
    "        'Total': total_first_quarter,\n",
    "        'Mean': mean_first_quarter\n",
    "    }\n",
    "    results[store]['Third Quarter'] = {\n",
    "        'Total': total_third_quarter,\n",
    "        'Mean': mean_third_quarter\n",
    "    }\n"
   ]
  },
  {
   "cell_type": "code",
   "execution_count": 46,
   "id": "1fc7ceb1",
   "metadata": {},
   "outputs": [
    {
     "name": "stdout",
     "output_type": "stream",
     "text": [
      "Store: L3\n",
      "  First Quarter:\n",
      "    Total Sales: 1114.0\n",
      "    Mean Sales: 371.3333333333333\n",
      "  Third Quarter:\n",
      "    Total Sales: 1361.0\n",
      "    Mean Sales: 453.6666666666667\n",
      "---------------------------\n",
      "Store: L1\n",
      "  First Quarter:\n",
      "    Total Sales: 1116.0\n",
      "    Mean Sales: 372.0\n",
      "  Third Quarter:\n",
      "    Total Sales: 1359.0\n",
      "    Mean Sales: 453.0\n",
      "---------------------------\n"
     ]
    }
   ],
   "source": [
    "# Display the results\n",
    "for store in results:\n",
    "    print(f\"Store: {store}\")\n",
    "    for quarter in results[store]:\n",
    "        print(f\"  {quarter}:\")\n",
    "        print(f\"    Total Sales: {results[store][quarter]['Total']}\")\n",
    "        print(f\"    Mean Sales: {results[store][quarter]['Mean']}\")\n",
    "    print(\"---------------------------\")"
   ]
  },
  {
   "cell_type": "markdown",
   "id": "04d63019",
   "metadata": {},
   "source": [
    "### 3. All the sales for N6 and N4 that are lower than 400 and list the months in which they occur."
   ]
  },
  {
   "cell_type": "code",
   "execution_count": 48,
   "id": "7b0364e5",
   "metadata": {},
   "outputs": [
    {
     "data": {
      "text/plain": [
       "[3, 4]"
      ]
     },
     "execution_count": 48,
     "metadata": {},
     "output_type": "execute_result"
    }
   ],
   "source": [
    "# Define the stores\n",
    "stores = ['N6', 'N4']\n",
    "\n",
    "# Find store indices\n",
    "store_indices = [np.where(row_headers == store)[0][0] for store in stores]\n",
    "store_indices"
   ]
  },
  {
   "cell_type": "code",
   "execution_count": 49,
   "id": "bc11a39e",
   "metadata": {},
   "outputs": [
    {
     "name": "stdout",
     "output_type": "stream",
     "text": [
      "Store: N6\n",
      "  Month: Jul-18, Sales: 310.0\n",
      "  Month: Aug-18, Sales: 392.0\n",
      "  Month: Sep-18, Sales: 383.0\n",
      "  Month: Oct-18, Sales: 314.0\n",
      "  Month: Feb-19, Sales: 215.0\n",
      "  Month: Mar-19, Sales: 243.0\n",
      "---------------------------\n",
      "Store: N4\n",
      "  Month: Jul-18, Sales: 387.0\n",
      "  Month: Aug-18, Sales: 388.0\n",
      "  Month: Sep-18, Sales: 320.0\n",
      "  Month: Oct-18, Sales: 337.0\n",
      "  Month: Feb-19, Sales: 338.0\n",
      "  Month: Mar-19, Sales: 263.0\n",
      "---------------------------\n"
     ]
    }
   ],
   "source": [
    "for store, store_idx in zip(stores, store_indices):\n",
    "    # Extract sales data for the store\n",
    "    sales_data = data_values[store_idx, :]\n",
    "    \n",
    "    # Find indices where sales are less than 400\n",
    "    low_sales_indices = np.where(sales_data < 400)[0]\n",
    "    \n",
    "    # Get the corresponding months\n",
    "    low_sales_months = column_headers[low_sales_indices]\n",
    "    low_sales_values = sales_data[low_sales_indices]\n",
    "    \n",
    "    # Display the results\n",
    "    print(f\"Store: {store}\")\n",
    "    for month, sale in zip(low_sales_months, low_sales_values):\n",
    "        print(f\"  Month: {month}, Sales: {sale}\")\n",
    "    if len(low_sales_months) == 0:\n",
    "        print(\"  No sales lower than 400.\")\n",
    "    print(\"---------------------------\")"
   ]
  },
  {
   "cell_type": "markdown",
   "id": "b51267c2",
   "metadata": {},
   "source": [
    "## EOF"
   ]
  }
 ],
 "metadata": {
  "kernelspec": {
   "display_name": "Python 3 (ipykernel)",
   "language": "python",
   "name": "python3"
  },
  "language_info": {
   "codemirror_mode": {
    "name": "ipython",
    "version": 3
   },
   "file_extension": ".py",
   "mimetype": "text/x-python",
   "name": "python",
   "nbconvert_exporter": "python",
   "pygments_lexer": "ipython3",
   "version": "3.8.2"
  }
 },
 "nbformat": 4,
 "nbformat_minor": 5
}
