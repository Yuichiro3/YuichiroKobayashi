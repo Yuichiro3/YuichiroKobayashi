{
 "cells": [
  {
   "cell_type": "markdown",
   "id": "823f9a62",
   "metadata": {},
   "source": [
    "## Lambda"
   ]
  },
  {
   "cell_type": "code",
   "execution_count": 8,
   "id": "6e56c076",
   "metadata": {},
   "outputs": [
    {
     "name": "stdout",
     "output_type": "stream",
     "text": [
      "input is 4:  8\n",
      "input is 111: 222\n"
     ]
    }
   ],
   "source": [
    "# 1. Define a lambda that takes one parameter (x) and returns it doubled\n",
    "double = lambda x: x * 2\n",
    "print(\"input is 4: \", double(4))\n",
    "print(\"input is 111:\", double(111))"
   ]
  },
  {
   "cell_type": "code",
   "execution_count": 10,
   "id": "7d168922",
   "metadata": {},
   "outputs": [
    {
     "name": "stdout",
     "output_type": "stream",
     "text": [
      "4 is even:  True\n",
      "9 is even: False\n"
     ]
    }
   ],
   "source": [
    "#  2. Define a labda that checks if x is even (True if even, False if odd)\n",
    "is_even = lambda x: x % 2 == 0\n",
    "\n",
    "print(\"4 is even: \", is_even(4))\n",
    "print(\"9 is even:\", is_even(9))"
   ]
  },
  {
   "cell_type": "code",
   "execution_count": 11,
   "id": "4b1a468d",
   "metadata": {},
   "outputs": [
    {
     "data": {
      "text/plain": [
       "4.5"
      ]
     },
     "execution_count": 11,
     "metadata": {},
     "output_type": "execute_result"
    }
   ],
   "source": [
    "# 3. Define a labda that takes eight parameters (a, b, c, d, e, f, g, h) and returns their average\n",
    "average_num = lambda a, b, c, d, e, f, g, h: (a + b + c + d + e + f + g + h) / 8\n",
    "average_num(1, 2, 3, 4, 5, 6, 7, 8)"
   ]
  },
  {
   "cell_type": "markdown",
   "id": "0d7f7060",
   "metadata": {},
   "source": [
    "## Closures"
   ]
  },
  {
   "cell_type": "code",
   "execution_count": 12,
   "id": "eb4a5a63",
   "metadata": {},
   "outputs": [
    {
     "data": {
      "text/plain": [
       "6"
      ]
     },
     "execution_count": 12,
     "metadata": {},
     "output_type": "execute_result"
    }
   ],
   "source": [
    "# 1. Understand how to call a function via a variable\n",
    "\n",
    "#Define a simple function that adds two numbers\n",
    "def add_values(num1, num2):\n",
    "    return num1 + num2\n",
    "\n",
    "# Assign the function to a variable (my_function)\n",
    "my_function = add_values\n",
    "\n",
    "# Call add_values via my_function\n",
    "my_function(4,2)"
   ]
  },
  {
   "cell_type": "code",
   "execution_count": 13,
   "id": "2d6a0656",
   "metadata": {},
   "outputs": [],
   "source": [
    "#2.  Define closure for using inner function\n",
    "def create_multiplier(factor):\n",
    "    # Define a inner function\n",
    "    def multiplier(number):\n",
    "        return number * factor\n",
    "    # Closure (Return inner function)\n",
    "    return multiplier"
   ]
  },
  {
   "cell_type": "code",
   "execution_count": 20,
   "id": "540843f5",
   "metadata": {},
   "outputs": [
    {
     "data": {
      "text/plain": [
       "30"
      ]
     },
     "execution_count": 20,
     "metadata": {},
     "output_type": "execute_result"
    }
   ],
   "source": [
    "# First, outer function is called\n",
    "factor_in = create_multiplier(10)\n",
    "# Second, inner function is called via variable(factor_in)\n",
    "factor_in(3)"
   ]
  },
  {
   "cell_type": "markdown",
   "id": "0ae1db21",
   "metadata": {},
   "source": [
    "## EOF"
   ]
  }
 ],
 "metadata": {
  "kernelspec": {
   "display_name": "Python 3 (ipykernel)",
   "language": "python",
   "name": "python3"
  },
  "language_info": {
   "codemirror_mode": {
    "name": "ipython",
    "version": 3
   },
   "file_extension": ".py",
   "mimetype": "text/x-python",
   "name": "python",
   "nbconvert_exporter": "python",
   "pygments_lexer": "ipython3",
   "version": "3.8.2"
  }
 },
 "nbformat": 4,
 "nbformat_minor": 5
}
