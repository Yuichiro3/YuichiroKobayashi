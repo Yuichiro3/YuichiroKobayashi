{
  "nbformat": 4,
  "nbformat_minor": 0,
  "metadata": {
    "colab": {
      "provenance": [],
      "toc_visible": true
    },
    "kernelspec": {
      "name": "python3",
      "display_name": "Python 3"
    },
    "language_info": {
      "name": "python"
    }
  },
  "cells": [
    {
      "cell_type": "markdown",
      "source": [
        "## Exercise one\n",
        "Write a program in Python that asks the user for a sentence and analyses it to establish the number of separate vowels (A, E, I, O, U) and the number of “other” non-space characters contained in the sentence. Your program should output a histogram which indicates a * (star) for each vowel character, followed by a statement indicating the number of other non-space characters."
      ],
      "metadata": {
        "id": "BSicG5Vc_M3b"
      }
    },
    {
      "cell_type": "code",
      "execution_count": 9,
      "metadata": {
        "colab": {
          "base_uri": "https://localhost:8080/"
        },
        "id": "lINDZwz77yTx",
        "outputId": "a71c80fd-db81-4217-a485-866415cbfb0b"
      },
      "outputs": [
        {
          "name": "stdout",
          "output_type": "stream",
          "text": [
            "Enter a sentence: I am Yuichiro Kobayashi from Japan.\n"
          ]
        }
      ],
      "source": [
        "sentence = input(\"Enter a sentence: \")"
      ]
    },
    {
      "cell_type": "code",
      "source": [
        "# Function of making the vowel dictionary\n",
        "def make_vowel_dict(sentence):\n",
        "    # Initialise conters for each vowel\n",
        "    vowel_counts ={\"A\": 0, \"E\": 0, \"I\": 0, \"O\": 0, \"U\": 0, \"Other\": 0}\n",
        "\n",
        "    # Make the vowel dictionary\n",
        "    for i in range(len(sentence)):\n",
        "        if sentence[i].upper() in vowel_counts:\n",
        "            vowel_counts[sentence[i].upper()] += 1\n",
        "        elif sentence[i] != \" \":\n",
        "            vowel_counts[\"Other\"] += 1\n",
        "    return vowel_counts"
      ],
      "metadata": {
        "id": "vWKClJ07_Wgu"
      },
      "execution_count": 20,
      "outputs": []
    },
    {
      "cell_type": "code",
      "source": [
        "# Function of showing the number of vowels\n",
        "def show_vowel_counts(vowel_counts):\n",
        "    # Print * (star) for each vowel\n",
        "    for vowel, count in vowel_counts.items():\n",
        "        if vowel != \"Other\":\n",
        "            print(f\"{vowel}: {'*' * count}\")\n",
        "        elif vowel == \"Other\":\n",
        "            print(f\"{vowel} (non-space) Characters: {count}\")"
      ],
      "metadata": {
        "id": "v8r6ffc3AY4X"
      },
      "execution_count": 21,
      "outputs": []
    },
    {
      "cell_type": "code",
      "source": [
        "sentence = input(\"Enter a sentence: \")\n",
        "\n",
        "# Call the first function (to make the vowel dictionary)\n",
        "vowel_counts = make_vowel_dict(sentence)\n",
        "\n",
        "# Call the second function (to show the number of characters)\n",
        "print(\"\")\n",
        "print(f\"The number of vowels: {vowel_counts}\")\n",
        "show_vowel_counts(vowel_counts)"
      ],
      "metadata": {
        "colab": {
          "base_uri": "https://localhost:8080/"
        },
        "id": "d4wKB2IAFT8e",
        "outputId": "b7df1e85-a09a-4858-ad45-a2b4d1cd97d0"
      },
      "execution_count": 25,
      "outputs": [
        {
          "output_type": "stream",
          "name": "stdout",
          "text": [
            "Enter a sentence: Yuichiro\n",
            "\n",
            "The number of vowels: {'A': 0, 'E': 0, 'I': 2, 'O': 1, 'U': 1, 'Other': 4}\n",
            "A: \n",
            "E: \n",
            "I: **\n",
            "O: *\n",
            "U: *\n",
            "Other (non-space) Characters: 4\n"
          ]
        }
      ]
    },
    {
      "cell_type": "markdown",
      "source": [
        "## Exercise two\n",
        "Write a program in Python that checks if two inputted words are ‘anagrams’. If the user inputs ‘note’ and ‘tone’, the program would output “These are anagrams”. If the user entered 'cat' and 'sat' the program would output \"These are not anagrams\". Your program should contain a function “isAnagram()” that returns either true or false. The main part of the program should provide a suitable interface for the user."
      ],
      "metadata": {
        "id": "HFTAZhe-EMfz"
      }
    },
    {
      "cell_type": "code",
      "source": [
        "# Check two words whether they are anagrams\n",
        "def isAnagram(word1, word2):\n",
        "    word1 = word1.lower()\n",
        "    word2 = word2.lower()\n",
        "\n",
        "    if len(word1) == len(word2):\n",
        "        for i in range(len(word1)):\n",
        "            if word1.count(word1[i]) != word2.count(word1[i]):\n",
        "                return False\n",
        "            return True\n",
        "    else:\n",
        "        return False"
      ],
      "metadata": {
        "id": "dXY4t96DEPLB"
      },
      "execution_count": 27,
      "outputs": []
    },
    {
      "cell_type": "code",
      "source": [
        "# Show the results, using \"isAnagram\" function\n",
        "word1 = input(\"Enter the first word: \")\n",
        "word2 = input(\"Enter the second word: \")\n",
        "\n",
        "if isAnagram(word1, word2):\n",
        "    print(\"They are anagrams\")\n",
        "else:\n",
        "    print(\"They are not anagrams\")"
      ],
      "metadata": {
        "colab": {
          "base_uri": "https://localhost:8080/"
        },
        "id": "FwT8DIqPJ8Hi",
        "outputId": "3c070330-3c36-4101-bb9f-a022954afe47"
      },
      "execution_count": 28,
      "outputs": [
        {
          "output_type": "stream",
          "name": "stdout",
          "text": [
            "Enter the first word: cat\n",
            "Enter the second word: act\n",
            "They are anagrams\n"
          ]
        }
      ]
    },
    {
      "cell_type": "markdown",
      "source": [
        "# EOF"
      ],
      "metadata": {
        "id": "y4aViJK-EQ7J"
      }
    }
  ]
}
