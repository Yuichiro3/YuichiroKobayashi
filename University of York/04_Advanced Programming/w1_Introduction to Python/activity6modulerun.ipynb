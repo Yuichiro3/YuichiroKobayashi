{
  "nbformat": 4,
  "nbformat_minor": 0,
  "metadata": {
    "colab": {
      "provenance": []
    },
    "kernelspec": {
      "name": "python3",
      "display_name": "Python 3"
    },
    "language_info": {
      "name": "python"
    }
  },
  "cells": [
    {
      "cell_type": "markdown",
      "source": [
        "# Modules and Classes\n",
        "## Exercise one\n",
        "Write a module that provides the following conversions:\n",
        "\n",
        "Length - feet (') and inches ('') to meters (m)\n",
        "Mass - pounds (lbs) to kilograms (kg)\n",
        "Temperature - Kelvin (K) to Celsius (oC)\n",
        "Time - hours (h) and minutes(m) to seconds (s)\n",
        "Each calculation should be within its own function, with the module, so you will write eight functions altogether. Write a program that provides a suitable menu system for your conversion functions. This program should import the module and access the functions (functions should not be defined in the same file as the user interface). You will need to carefully consider how the user enters information and the upper and lower bounds (valid range) for each type of conversion. For example, the temperature cannot go below 0o Kelvin."
      ],
      "metadata": {
        "id": "OafuWDezX4Nr"
      }
    },
    {
      "cell_type": "code",
      "source": [
        "from Activity6_Converters import feet_inches_to_meters, pounds_to_kilograms, kelvin_to_celsius, hours_minutes_to_seconds"
      ],
      "metadata": {
        "id": "ntRfk4t4aTl-"
      },
      "execution_count": null,
      "outputs": []
    },
    {
      "cell_type": "code",
      "source": [
        "# Choose the one function and input data from users\n",
        "\n",
        "# Function: Display menu\n",
        "def display_menu():\n",
        "    print(\"1. Feet and Inches to Meters\")\n",
        "    print(\"2. Pounds to Kilograms\")\n",
        "    print(\"3. Kelvin to Celsius\")\n",
        "    print(\"4. Hours and Minutes to Seconds\")\n",
        "    print(\"5. Exit\")\n",
        "\n",
        "# Get user input\n",
        "while True:\n",
        "    display_menu()\n",
        "    choice = input(\"Enter your choice (1-5): \")\n",
        "\n",
        "    if choice == '1':\n",
        "        feet = float(input(\"Enter the number of feet: \"))\n",
        "        inches = float(input(\"Enter the number of inches: \"))\n",
        "        result = feet_inches_to_meters(feet, inches)\n",
        "\n",
        "    elif choice == '2':\n",
        "        pounds = float(input(\"Enter the weight in pounds: \"))\n",
        "        result = pounds_to_kilograms(pounds)\n",
        "\n",
        "    elif choice == '3':\n",
        "        kelvin = float(input(\"Enter the temperature in Kelvin: \"))\n",
        "        result = kelvin_to_celsius(kelvin)\n",
        "\n",
        "    elif choice == '4':\n",
        "        hours = float(input(\"Enter the number of hours: \"))\n",
        "        minutes = float(input(\"Enter the number of minutes: \"))\n",
        "        result = hours_minutes_to_seconds(hours, minutes)\n",
        "\n",
        "    elif choice == '5':\n",
        "        print(\"Exiting the program.\")\n",
        "        break\n",
        "\n",
        "    else:\n",
        "        print(\"Invalid choice. Please try again.\")\n",
        "        continue\n",
        "\n",
        "    print(\"Result:\", result)"
      ],
      "metadata": {
        "colab": {
          "base_uri": "https://localhost:8080/"
        },
        "id": "82ZeIWLka524",
        "outputId": "ca4411c5-9de2-4e91-d104-f6f6268eeca7"
      },
      "execution_count": null,
      "outputs": [
        {
          "output_type": "stream",
          "name": "stdout",
          "text": [
            "1. Feet and Inches to Meters\n",
            "2. Pounds to Kilograms\n",
            "3. Kelvin to Celsius\n",
            "4. Hours and Minutes to Seconds\n",
            "5. Exit\n",
            "Enter your choice (1-5): 2\n",
            "Enter the weight in pounds: 3\n",
            "Result: 1.360776\n",
            "1. Feet and Inches to Meters\n",
            "2. Pounds to Kilograms\n",
            "3. Kelvin to Celsius\n",
            "4. Hours and Minutes to Seconds\n",
            "5. Exit\n",
            "Enter your choice (1-5): 2\n",
            "Enter the weight in pounds: 4\n",
            "Result: 1.814368\n",
            "1. Feet and Inches to Meters\n",
            "2. Pounds to Kilograms\n",
            "3. Kelvin to Celsius\n",
            "4. Hours and Minutes to Seconds\n",
            "5. Exit\n",
            "Enter your choice (1-5): 1\n",
            "Enter the number of feet: 34\n",
            "Enter the number of inches: 22\n",
            "Result: 10.921999999999999\n",
            "1. Feet and Inches to Meters\n",
            "2. Pounds to Kilograms\n",
            "3. Kelvin to Celsius\n",
            "4. Hours and Minutes to Seconds\n",
            "5. Exit\n",
            "Enter your choice (1-5): 12345\n",
            "Invalid choice. Please try again.\n",
            "1. Feet and Inches to Meters\n",
            "2. Pounds to Kilograms\n",
            "3. Kelvin to Celsius\n",
            "4. Hours and Minutes to Seconds\n",
            "5. Exit\n",
            "Enter your choice (1-5): 4\n",
            "Enter the number of hours: 1234\n",
            "Enter the number of minutes: 1234\n",
            "Result: 4516440.0\n",
            "1. Feet and Inches to Meters\n",
            "2. Pounds to Kilograms\n",
            "3. Kelvin to Celsius\n",
            "4. Hours and Minutes to Seconds\n",
            "5. Exit\n",
            "Enter your choice (1-5): 5\n",
            "Exiting the program.\n"
          ]
        }
      ]
    },
    {
      "cell_type": "code",
      "source": [],
      "metadata": {
        "id": "CpDQDtWmaTog"
      },
      "execution_count": null,
      "outputs": []
    },
    {
      "cell_type": "code",
      "source": [],
      "metadata": {
        "id": "_Zqfl4k8aTq3"
      },
      "execution_count": null,
      "outputs": []
    },
    {
      "cell_type": "code",
      "source": [],
      "metadata": {
        "id": "m1VZuO-SaTtc"
      },
      "execution_count": null,
      "outputs": []
    },
    {
      "cell_type": "markdown",
      "source": [
        "# EOF"
      ],
      "metadata": {
        "id": "p1YtJgyrYWIR"
      }
    }
  ]
}
