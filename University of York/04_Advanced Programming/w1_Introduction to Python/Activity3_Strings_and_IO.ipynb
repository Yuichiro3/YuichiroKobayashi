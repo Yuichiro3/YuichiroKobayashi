{
 "cells": [
  {
   "cell_type": "markdown",
   "id": "6db5cf50",
   "metadata": {},
   "source": [
    "## Activity 3: Strings and I/O"
   ]
  },
  {
   "cell_type": "markdown",
   "id": "2d439072",
   "metadata": {},
   "source": [
    "### Exercise one\n",
    "Write a program that outputs a times table from a given (user entered) integer value. It should start at 2 and output only the EVEN multiples. If the user entered the value 13, the even times table would be outputted in the following format:\n",
    "\n",
    "The even timetable for 13 is: \n",
    "        2 times 13 is 26\n",
    "        4 times 13 is 52\n",
    "        6 times 13 is 78\n",
    "This program should continue until the user chooses to exit. You should format this so that the text “times” and “is” is always in the same column. The program should output up to and including 20 times the user value."
   ]
  },
  {
   "cell_type": "code",
   "execution_count": 5,
   "id": "a27ca5e7",
   "metadata": {},
   "outputs": [
    {
     "name": "stdout",
     "output_type": "stream",
     "text": [
      "\tEnter number: 13\n",
      "\n",
      "The even timetable for 13 is: \n",
      "　　2 times 13 is 26\n",
      "　　4 times 13 is 52\n",
      "　　6 times 13 is 78\n"
     ]
    }
   ],
   "source": [
    "# Inputting number \n",
    "inputNum = int(input(\"\\tEnter number: \"))\n",
    "\n",
    "# Outputting the even timetable\n",
    "print(f\"\\nThe even timetable for {inputNum} is: \" + \n",
    "      f\"\\n　　2 times {inputNum} is {inputNum * 2}\" +\n",
    "      f\"\\n　　4 times {inputNum} is {inputNum * 4}\" +\n",
    "      f\"\\n　　6 times {inputNum} is {inputNum * 6}\")"
   ]
  },
  {
   "cell_type": "markdown",
   "id": "15e03e7d",
   "metadata": {},
   "source": [
    "### Exercise two\n",
    "In the sample code given for 'Iteration' in 1.1, there is a program for printing out a left-sided triangle of stars. \n",
    "\n",
    "Adapt the code to create a right-sided triangle.\n",
    "Adapt the code to output a diamond.\n",
    "Write a menu system so the user can choose the left or right-sided triangle, or diamond.\n",
    "Enable the program to take user input for the symbol used to generate the pattern and dictate the size of the pattern.\n"
   ]
  },
  {
   "cell_type": "code",
   "execution_count": 8,
   "id": "9a019a68",
   "metadata": {},
   "outputs": [
    {
     "name": "stdout",
     "output_type": "stream",
     "text": [
      "*\n",
      "**\n",
      "***\n",
      "****\n"
     ]
    }
   ],
   "source": [
    "# Using nested for loops to generate a left handed triangle\n",
    "numStars = 4 ;\n",
    "spaces = numStars - 1;     \n",
    "\n",
    "\n",
    "for i in range(1, numStars+1):  \n",
    "    for j in range(1, i+1):\n",
    "        print(\"*\", end=\"\")\n",
    "    print()"
   ]
  },
  {
   "cell_type": "code",
   "execution_count": 11,
   "id": "8ceeecca",
   "metadata": {},
   "outputs": [
    {
     "name": "stdout",
     "output_type": "stream",
     "text": [
      "   *\n",
      "  **\n",
      " ***\n",
      "****\n"
     ]
    }
   ],
   "source": [
    "# Using nested for loops to generate a right handed triangle\n",
    "numStars = 4\n",
    "spaces = numStars - 1\n",
    "\n",
    "for i in range(1, numStars + 1):  \n",
    "    # Print spaces first\n",
    "    for j in range(spaces, 0, -1):\n",
    "        print(\" \", end=\"\")\n",
    "    # Then print stars\n",
    "    for k in range(1, i + 1):\n",
    "        print(\"*\", end=\"\")\n",
    "    # Move to the next line\n",
    "    print()\n",
    "    spaces -= 1"
   ]
  },
  {
   "cell_type": "code",
   "execution_count": 20,
   "id": "28adb31d",
   "metadata": {},
   "outputs": [
    {
     "name": "stdout",
     "output_type": "stream",
     "text": [
      "  *\n",
      " ***\n",
      "*****\n",
      " ***\n",
      "  *\n"
     ]
    }
   ],
   "source": [
    "# Using nested for loops to generate a diamond\n",
    "numStars = 5  # Total height of diamond (must be an odd number)\n",
    "midPoint = numStars // 2  # Middle row of the diamond\n",
    "\n",
    "# Upper half of the diamond\n",
    "for i in range(midPoint + 1):\n",
    "    # Print leading spaces\n",
    "    for j in range(midPoint - i):\n",
    "        print(\" \", end=\"\")\n",
    "    # Print stars\n",
    "    for k in range(2 * i + 1):\n",
    "        print(\"*\", end=\"\")\n",
    "    # Move to the next line\n",
    "    print()\n",
    "\n",
    "# Lower half of the diamond\n",
    "for i in range(midPoint - 1, -1, -1):\n",
    "    # Print leading spaces\n",
    "    for j in range(midPoint - i):\n",
    "        print(\" \", end=\"\")\n",
    "    # Print stars\n",
    "    for k in range(2 * i + 1):\n",
    "        print(\"*\", end=\"\")\n",
    "    # Move to the next line\n",
    "    print()"
   ]
  },
  {
   "cell_type": "code",
   "execution_count": 22,
   "id": "6bf0dc61",
   "metadata": {},
   "outputs": [
    {
     "name": "stdout",
     "output_type": "stream",
     "text": [
      "\n",
      "Pattern Generator\n",
      "1. Left-sided Triangle\n",
      "2. Right-sided Triangle\n",
      "3. Diamond\n",
      "4. Exit\n",
      "Choose a pattern (1-4): 4\n",
      "Exiting the program.\n"
     ]
    }
   ],
   "source": [
    "# Generating a left triangle\n",
    "def left_triangle(symbol, size):\n",
    "    for i in range(1, size + 1):\n",
    "        print(symbol * i)\n",
    "\n",
    "# Generating a right triangle\n",
    "def right_triangle(symbol, size):\n",
    "    for i in range(1, size + 1):\n",
    "        # Print spaces followed by symbols\n",
    "        print(\" \" * (size - i) + symbol * i)\n",
    "\n",
    "# Generating a diamond\n",
    "def diamond(symbol, size):\n",
    "    midPoint = size // 2\n",
    "\n",
    "    # Upper half of the diamond\n",
    "    for i in range(midPoint + 1):\n",
    "        print(\" \" * (midPoint - i) + symbol * (2 * i + 1))\n",
    "\n",
    "    # Lower half of the diamond\n",
    "    for i in range(midPoint - 1, -1, -1):\n",
    "        print(\" \" * (midPoint - i) + symbol * (2 * i + 1))\n",
    "\n",
    "def main():\n",
    "    while True:\n",
    "        print(\"\\nPattern Generator\")\n",
    "        print(\"1. Left-sided Triangle\")\n",
    "        print(\"2. Right-sided Triangle\")\n",
    "        print(\"3. Diamond\")\n",
    "        print(\"4. Exit\")\n",
    "        \n",
    "        choice = input(\"Choose a pattern (1-4): \")\n",
    "        \n",
    "        if choice == \"4\":\n",
    "            print(\"Exiting the program.\")\n",
    "            break\n",
    "        \n",
    "        symbol = input(\"Enter the symbol to use: \")\n",
    "        size = int(input(\"Enter the size of the pattern (positive integer): \"))\n",
    "        \n",
    "        if choice == \"1\":\n",
    "            left_triangle(symbol, size)\n",
    "        elif choice == \"2\":\n",
    "            right_triangle(symbol, size)\n",
    "        elif choice == \"3\":\n",
    "            if size % 2 == 0:\n",
    "                print(\"For a diamond pattern, size must be an odd number.\")\n",
    "            else:\n",
    "                diamond(symbol, size)\n",
    "        else:\n",
    "            print(\"Invalid choice. Please enter a number from 1 to 4.\")\n",
    "\n",
    "if __name__ == \"__main__\":\n",
    "    main()"
   ]
  },
  {
   "cell_type": "markdown",
   "id": "feeed79e",
   "metadata": {},
   "source": [
    "### Exercise three\n",
    "Write a program that outputs a calendar, given two values inputted by the user. If the user inputs the values of 30 and 7, the following structure will be produced, where 30 generates the number of days in the month and 7 (Sunday) indicates which day of the week the calendar starts on. The user should only be able to input a valid range of numbers, and regardless of the values entered the calendar should always output 7 lines (even if some of them are blank). "
   ]
  },
  {
   "cell_type": "code",
   "execution_count": 26,
   "id": "d142c33a",
   "metadata": {},
   "outputs": [
    {
     "name": "stdout",
     "output_type": "stream",
     "text": [
      "Enter number of days in the month (28-31): 30\n",
      "Enter starting day (1 for Monday, ..., 7 for Sunday): 1\n",
      "M  T  W  Th  F  S  Su\n",
      " 1  2  3  4  5  6  7 \n",
      " 8  9 10 11 12 13 14 \n",
      "15 16 17 18 19 20 21 \n",
      "22 23 24 25 26 27 28 \n",
      "29 30                \n",
      "                     \n",
      "                     \n"
     ]
    }
   ],
   "source": [
    "def print_calendar(num_days, start_day):\n",
    "    # Days of the week header\n",
    "    days_of_week = [\"M\", \"T\", \"W\", \"Th\", \"F\", \"S\", \"Su\"]\n",
    "    print(\"  \".join(days_of_week))  # Adjusted spacing for consistent width\n",
    "\n",
    "    # Initialise calendar structure with leading spaces based on start day\n",
    "    calendar_output = [\"   \"] * (start_day - 1)\n",
    "\n",
    "    # Add each day of the month to the calendar output\n",
    "    for day in range(1, num_days + 1):\n",
    "        calendar_output.append(f\"{day:2} \")\n",
    "\n",
    "    # Pad with empty spaces to ensure 7 lines of output (7 days per line, 7 lines total)\n",
    "    while len(calendar_output) < 49:\n",
    "        calendar_output.append(\"   \")\n",
    "\n",
    "    # Print each week line by line\n",
    "    for i in range(0, len(calendar_output), 7):\n",
    "        print(\"\".join(calendar_output[i:i + 7]))\n",
    "\n",
    "# Input and validation\n",
    "while True:\n",
    "    try:\n",
    "        num_days = int(input(\"Enter number of days in the month (28-31): \"))\n",
    "        if 28 <= num_days <= 31:\n",
    "            break\n",
    "        else:\n",
    "            print(\"Please enter a valid number of days (28-31).\")\n",
    "    except ValueError:\n",
    "        print(\"Invalid input. Please enter a number between 28 and 31.\")\n",
    "\n",
    "while True:\n",
    "    try:\n",
    "        start_day = int(input(\"Enter starting day (1 for Monday, ..., 7 for Sunday): \"))\n",
    "        if 1 <= start_day <= 7:\n",
    "            break\n",
    "        else:\n",
    "            print(\"Please enter a valid start day (1-7).\")\n",
    "    except ValueError:\n",
    "        print(\"Invalid input. Please enter a number between 1 and 7.\")\n",
    "\n",
    "# Print the calendar\n",
    "print_calendar(num_days, start_day)"
   ]
  },
  {
   "cell_type": "code",
   "execution_count": null,
   "id": "a7535c26",
   "metadata": {},
   "outputs": [],
   "source": []
  }
 ],
 "metadata": {
  "kernelspec": {
   "display_name": "Python 3 (ipykernel)",
   "language": "python",
   "name": "python3"
  },
  "language_info": {
   "codemirror_mode": {
    "name": "ipython",
    "version": 3
   },
   "file_extension": ".py",
   "mimetype": "text/x-python",
   "name": "python",
   "nbconvert_exporter": "python",
   "pygments_lexer": "ipython3",
   "version": "3.8.2"
  }
 },
 "nbformat": 4,
 "nbformat_minor": 5
}
