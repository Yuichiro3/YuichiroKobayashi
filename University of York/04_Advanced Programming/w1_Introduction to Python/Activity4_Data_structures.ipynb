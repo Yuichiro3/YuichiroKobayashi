{
  "nbformat": 4,
  "nbformat_minor": 0,
  "metadata": {
    "colab": {
      "provenance": []
    },
    "kernelspec": {
      "name": "python3",
      "display_name": "Python 3"
    },
    "language_info": {
      "name": "python"
    }
  },
  "cells": [
    {
      "cell_type": "markdown",
      "source": [
        "## Data structures\n",
        "### Exercise one\n",
        "Using an appropriate Python data structure, implement two programs that demonstrate the behaviour of a stack (LIFO) queue (FIFO). For each program, you should create a menu system to enable the user to manipulate the structure, and the program should keep running until the user chooses to exit. An example menu for a stack would be:\n",
        "\n",
        "1. Push\n",
        "2. Pop\n",
        "3. View"
      ],
      "metadata": {
        "id": "doBgzXZDabEX"
      }
    },
    {
      "cell_type": "code",
      "execution_count": 1,
      "metadata": {
        "id": "oT1JUMoQZ4HX"
      },
      "outputs": [],
      "source": [
        "# Making a class for Last-in First-out (i.e., Stack)\n",
        "class Stack:\n",
        "    def __init__(self):\n",
        "        self.stack = []\n",
        "\n",
        "    # Adding the item into the stack\n",
        "    def push(self, item):\n",
        "        self.stack.append(item)\n",
        "        print(f\"'{item}' added to stack.\")\n",
        "\n",
        "    # Removing the item from the item lastly added\n",
        "    def pop(self):\n",
        "        if self.is_empty():\n",
        "            print(\"Stack is empty. Nothing to pop.\")\n",
        "        else:\n",
        "            removed = self.stack.pop()\n",
        "            print(f\"'{removed}' removed from stack.\")\n",
        "\n",
        "    # Showing the stack\n",
        "    def view(self):\n",
        "        print(\"Current stack:\", self.stack if self.stack else \"Stack is empty.\")\n",
        "\n",
        "    # Checking if the stack does not have any elements\n",
        "    def is_empty(self):\n",
        "        return len(self.stack) == 0\n",
        "\n",
        "# Showing the menu\n",
        "def stack_menu():\n",
        "    stack = Stack()\n",
        "    while True:\n",
        "        print(\"\\nStack Menu:\")\n",
        "        print(\"1. Push\")\n",
        "        print(\"2. Pop\")\n",
        "        print(\"3. View\")\n",
        "        print(\"4. Exit\")\n",
        "\n",
        "        # Inputting the option from users\n",
        "        choice = input(\"Choose an option (1-4): \")\n",
        "\n",
        "        # Calling one function after inputting from users\n",
        "        if choice == '1':\n",
        "            item = input(\"Enter item to push onto stack: \")\n",
        "            stack.push(item)\n",
        "        elif choice == '2':\n",
        "            stack.pop()\n",
        "        elif choice == '3':\n",
        "            stack.view()\n",
        "        elif choice == '4':\n",
        "            print(\"Exiting stack program.\")\n",
        "            break\n",
        "        else:\n",
        "            print(\"Invalid choice. Please enter a number between 1 and 4.\")"
      ]
    },
    {
      "cell_type": "code",
      "source": [
        "stack_menu()"
      ],
      "metadata": {
        "colab": {
          "base_uri": "https://localhost:8080/"
        },
        "id": "TZVUhW0CZ9SI",
        "outputId": "13988c89-6015-4b56-ddf1-c3eb4295b9ed"
      },
      "execution_count": 2,
      "outputs": [
        {
          "output_type": "stream",
          "name": "stdout",
          "text": [
            "\n",
            "Stack Menu:\n",
            "1. Push\n",
            "2. Pop\n",
            "3. View\n",
            "4. Exit\n",
            "Choose an option (1-4): 1\n",
            "Enter item to push onto stack: 9\n",
            "'9' added to stack.\n",
            "\n",
            "Stack Menu:\n",
            "1. Push\n",
            "2. Pop\n",
            "3. View\n",
            "4. Exit\n",
            "Choose an option (1-4): 2\n",
            "'9' removed from stack.\n",
            "\n",
            "Stack Menu:\n",
            "1. Push\n",
            "2. Pop\n",
            "3. View\n",
            "4. Exit\n",
            "Choose an option (1-4): 3\n",
            "Current stack: Stack is empty.\n",
            "\n",
            "Stack Menu:\n",
            "1. Push\n",
            "2. Pop\n",
            "3. View\n",
            "4. Exit\n",
            "Choose an option (1-4): 1\n",
            "Enter item to push onto stack: 4\n",
            "'4' added to stack.\n",
            "\n",
            "Stack Menu:\n",
            "1. Push\n",
            "2. Pop\n",
            "3. View\n",
            "4. Exit\n",
            "Choose an option (1-4): \n",
            "Invalid choice. Please enter a number between 1 and 4.\n",
            "\n",
            "Stack Menu:\n",
            "1. Push\n",
            "2. Pop\n",
            "3. View\n",
            "4. Exit\n",
            "Choose an option (1-4): \n",
            "Invalid choice. Please enter a number between 1 and 4.\n",
            "\n",
            "Stack Menu:\n",
            "1. Push\n",
            "2. Pop\n",
            "3. View\n",
            "4. Exit\n",
            "Choose an option (1-4): 1\n",
            "Enter item to push onto stack: 3\n",
            "'3' added to stack.\n",
            "\n",
            "Stack Menu:\n",
            "1. Push\n",
            "2. Pop\n",
            "3. View\n",
            "4. Exit\n",
            "Choose an option (1-4): 1\n",
            "Enter item to push onto stack: 4\n",
            "'4' added to stack.\n",
            "\n",
            "Stack Menu:\n",
            "1. Push\n",
            "2. Pop\n",
            "3. View\n",
            "4. Exit\n",
            "Choose an option (1-4): 3\n",
            "Current stack: ['4', '3', '4']\n",
            "\n",
            "Stack Menu:\n",
            "1. Push\n",
            "2. Pop\n",
            "3. View\n",
            "4. Exit\n",
            "Choose an option (1-4): 2\n",
            "'4' removed from stack.\n",
            "\n",
            "Stack Menu:\n",
            "1. Push\n",
            "2. Pop\n",
            "3. View\n",
            "4. Exit\n",
            "Choose an option (1-4): 3\n",
            "Current stack: ['4', '3']\n",
            "\n",
            "Stack Menu:\n",
            "1. Push\n",
            "2. Pop\n",
            "3. View\n",
            "4. Exit\n",
            "Choose an option (1-4): 4\n",
            "Exiting stack program.\n"
          ]
        }
      ]
    },
    {
      "cell_type": "code",
      "source": [
        "# Making a First in First Out (i.e., Queue)\n",
        "class Queue:\n",
        "    def __init__(self):\n",
        "        self.queue = []\n",
        "\n",
        "    # Checking if the queue does not have any elements\n",
        "    def is_empty(self):\n",
        "        return len(self.queue) == 0\n",
        "\n",
        "    # Adding the element into the queue\n",
        "    def enqueue(self, item):\n",
        "        self.queue.append(item)\n",
        "        print(f\"'{item}' added to queue.\")\n",
        "\n",
        "    # Removing the element firstly added\n",
        "    def dequeue(self):\n",
        "        if self.is_empty():\n",
        "            print(\"Queue is empty. Nothing to dequeue.\")\n",
        "        else:\n",
        "            removed = self.queue.pop(0)\n",
        "            print(f\"'{removed}' removed from queue.\")\n",
        "\n",
        "    # Showing the queue\n",
        "    def view(self):\n",
        "        print(\"Current queue:\", self.queue if self.queue else \"Queue is empty.\")\n",
        "\n",
        "# Showing the menu and calling the function defined above\n",
        "def queue_menu():\n",
        "    queue = Queue()\n",
        "    while True:\n",
        "        print(\"\\nQueue Menu:\")\n",
        "        print(\"1. Enqueue\")\n",
        "        print(\"2. Dequeue\")\n",
        "        print(\"3. View\")\n",
        "        print(\"4. Exit\")\n",
        "\n",
        "        choice = input(\"Choose an option (1-4): \")\n",
        "\n",
        "        if choice == '1':\n",
        "            item = input(\"Enter item to enqueue: \")\n",
        "            queue.enqueue(item)\n",
        "        elif choice == '2':\n",
        "            queue.dequeue()\n",
        "        elif choice == '3':\n",
        "            queue.view()\n",
        "        elif choice == '4':\n",
        "            print(\"Exiting queue program.\")\n",
        "            break\n",
        "        else:\n",
        "            print(\"Invalid choice. Please enter a number between 1 and 4.\")"
      ],
      "metadata": {
        "id": "9SGlAsMeaDW0"
      },
      "execution_count": 3,
      "outputs": []
    },
    {
      "cell_type": "code",
      "source": [
        "queue_menu()"
      ],
      "metadata": {
        "colab": {
          "base_uri": "https://localhost:8080/"
        },
        "id": "ej6QDnbdbXiZ",
        "outputId": "7a568a08-440c-4d40-f0a0-4104dca80eb2"
      },
      "execution_count": 4,
      "outputs": [
        {
          "output_type": "stream",
          "name": "stdout",
          "text": [
            "\n",
            "Queue Menu:\n",
            "1. Enqueue\n",
            "2. Dequeue\n",
            "3. View\n",
            "4. Exit\n",
            "Choose an option (1-4): 1\n",
            "Enter item to enqueue: 2\n",
            "'2' added to queue.\n",
            "\n",
            "Queue Menu:\n",
            "1. Enqueue\n",
            "2. Dequeue\n",
            "3. View\n",
            "4. Exit\n",
            "Choose an option (1-4): 13\n",
            "Invalid choice. Please enter a number between 1 and 4.\n",
            "\n",
            "Queue Menu:\n",
            "1. Enqueue\n",
            "2. Dequeue\n",
            "3. View\n",
            "4. Exit\n",
            "Choose an option (1-4): 1\n",
            "Enter item to enqueue: 3\n",
            "'3' added to queue.\n",
            "\n",
            "Queue Menu:\n",
            "1. Enqueue\n",
            "2. Dequeue\n",
            "3. View\n",
            "4. Exit\n",
            "Choose an option (1-4): 1\n",
            "Enter item to enqueue: 6\n",
            "'6' added to queue.\n",
            "\n",
            "Queue Menu:\n",
            "1. Enqueue\n",
            "2. Dequeue\n",
            "3. View\n",
            "4. Exit\n",
            "Choose an option (1-4): 1\n",
            "Enter item to enqueue: 9\n",
            "'9' added to queue.\n",
            "\n",
            "Queue Menu:\n",
            "1. Enqueue\n",
            "2. Dequeue\n",
            "3. View\n",
            "4. Exit\n",
            "Choose an option (1-4): 1\n",
            "Enter item to enqueue: Japan\n",
            "'Japan' added to queue.\n",
            "\n",
            "Queue Menu:\n",
            "1. Enqueue\n",
            "2. Dequeue\n",
            "3. View\n",
            "4. Exit\n",
            "Choose an option (1-4): UK\n",
            "Invalid choice. Please enter a number between 1 and 4.\n",
            "\n",
            "Queue Menu:\n",
            "1. Enqueue\n",
            "2. Dequeue\n",
            "3. View\n",
            "4. Exit\n",
            "Choose an option (1-4): 3\n",
            "Current queue: ['2', '3', '6', '9', 'Japan']\n",
            "\n",
            "Queue Menu:\n",
            "1. Enqueue\n",
            "2. Dequeue\n",
            "3. View\n",
            "4. Exit\n",
            "Choose an option (1-4): 2\n",
            "'2' removed from queue.\n",
            "\n",
            "Queue Menu:\n",
            "1. Enqueue\n",
            "2. Dequeue\n",
            "3. View\n",
            "4. Exit\n",
            "Choose an option (1-4): 1\n",
            "Enter item to enqueue: UK\n",
            "'UK' added to queue.\n",
            "\n",
            "Queue Menu:\n",
            "1. Enqueue\n",
            "2. Dequeue\n",
            "3. View\n",
            "4. Exit\n",
            "Choose an option (1-4): 3\n",
            "Current queue: ['3', '6', '9', 'Japan', 'UK']\n",
            "\n",
            "Queue Menu:\n",
            "1. Enqueue\n",
            "2. Dequeue\n",
            "3. View\n",
            "4. Exit\n",
            "Choose an option (1-4): 4\n",
            "Exiting queue program.\n"
          ]
        }
      ]
    },
    {
      "cell_type": "code",
      "source": [],
      "metadata": {
        "id": "S86UGwY4bZxK"
      },
      "execution_count": null,
      "outputs": []
    },
    {
      "cell_type": "markdown",
      "source": [
        "### Exercise two\n",
        "A business has a number of retail outlets across the world. Each outlet keeps a track of its monthly sales and sends a quarterly report to the company's headquarters. Using at least two different data structures, write a program that calculates the average for each outlet and each month, the total for each outlet and each month, and the grand total for the quarter. You should hard code (write data into your program directly) all the data you need once only. The output should be formatted as shown below.\n",
        "\n",
        "Hint: Remember, a data structure can be nested within another data structure, and the content of one data structure can be used as a reference point in another (see the sample code)."
      ],
      "metadata": {
        "id": "CUrEegBWc5Wp"
      }
    },
    {
      "cell_type": "code",
      "source": [
        "sales_data = {\n",
        "    \"L3\": {\"April 18\": 390, \"May 18\": 345, \"June 18\": 370},\n",
        "    \"P2\": {\"April 18\": 250, \"May 18\": 270, \"June 18\": 300},\n",
        "    \"N6\": {\"April 18\": 460, \"May 18\": 480, \"June 18\": 450},\n",
        "    \"B8\": {\"April 18\": 470, \"May 18\": 510, \"June 18\": 360},\n",
        "}"
      ],
      "metadata": {
        "id": "FWxNU4b-c-3g"
      },
      "execution_count": 21,
      "outputs": []
    },
    {
      "cell_type": "code",
      "source": [
        "# Calculating the total sales for each country\n",
        "\n",
        "print(\"Total sales for each country\")\n",
        "for country, monthly_sales in sales_data.items():\n",
        "    total_sales = sum(monthly_sales.values())\n",
        "    print(f'{country}: {total_sales}')"
      ],
      "metadata": {
        "colab": {
          "base_uri": "https://localhost:8080/"
        },
        "id": "qoU2wDwmd5FN",
        "outputId": "52dd8704-0cd3-48c9-af21-b4f3e6e9791f"
      },
      "execution_count": 22,
      "outputs": [
        {
          "output_type": "stream",
          "name": "stdout",
          "text": [
            "Total sales for each country\n",
            "L3: 1105\n",
            "P2: 820\n",
            "N6: 1390\n",
            "B8: 1340\n"
          ]
        }
      ]
    },
    {
      "cell_type": "code",
      "source": [
        "# Calculating the average sales for each country\n",
        "\n",
        "print(\"Average sales for each country in three mounths\")\n",
        "for country, monthly_sales in sales_data.items():\n",
        "    total_sales = sum(monthly_sales.values())\n",
        "    average_sales = total_sales / len(monthly_sales)\n",
        "    print(f'{country}: {average_sales: .1f}')"
      ],
      "metadata": {
        "colab": {
          "base_uri": "https://localhost:8080/"
        },
        "id": "HN6q8qqJfbY5",
        "outputId": "76039380-c38b-48bd-dbff-01301301e4b2"
      },
      "execution_count": 23,
      "outputs": [
        {
          "output_type": "stream",
          "name": "stdout",
          "text": [
            "Average sales for each country in three mounths\n",
            "L3:  368.3\n",
            "P2:  273.3\n",
            "N6:  463.3\n",
            "B8:  446.7\n"
          ]
        }
      ]
    },
    {
      "cell_type": "code",
      "source": [
        "# Calculating the total sales for each month\n",
        "\n",
        "print(\"Total sales for each month in four countries\")\n",
        "monthly_sales_data = {\"April 18\": 0, \"May 18\": 0, \"June 18\": 0}\n",
        "\n",
        "for monthly_sales in sales_data.values():\n",
        "    for month, sales in monthly_sales.items():\n",
        "        monthly_sales_data[month] += sales\n",
        "\n",
        "for month, total_sales_month in monthly_sales_data.items():\n",
        "    print(f'{month}: {total_sales_month}')"
      ],
      "metadata": {
        "colab": {
          "base_uri": "https://localhost:8080/"
        },
        "id": "hMfemCv7elfF",
        "outputId": "3b2f512e-985d-447c-9f4d-59e338b78019"
      },
      "execution_count": 24,
      "outputs": [
        {
          "output_type": "stream",
          "name": "stdout",
          "text": [
            "Total sales for each month in four countries\n",
            "April 18: 1570\n",
            "May 18: 1605\n",
            "June 18: 1480\n"
          ]
        }
      ]
    },
    {
      "cell_type": "code",
      "source": [
        "# Calculating the average sales for each month\n",
        "\n",
        "print(\"Average sales for each month in four countries\")\n",
        "monthly_sales_data = {\"April 18\": 0, \"May 18\": 0, \"June 18\": 0}\n",
        "\n",
        "for monthly_sales in sales_data.values():\n",
        "    for month, sales in monthly_sales.items():\n",
        "        monthly_sales_data[month] += sales\n",
        "for month, total_sales_month in monthly_sales_data.items():\n",
        "    average_sales_month = total_sales_month / len(sales_data)\n",
        "    print(f'{month}: {average_sales_month: .1f}')\n"
      ],
      "metadata": {
        "colab": {
          "base_uri": "https://localhost:8080/"
        },
        "id": "aE1ZPvOViMl5",
        "outputId": "d61bacb7-b2ed-4333-fcbf-3b1420ab503b"
      },
      "execution_count": 26,
      "outputs": [
        {
          "output_type": "stream",
          "name": "stdout",
          "text": [
            "Average sales for each month in four countries\n",
            "April 18:  392.5\n",
            "May 18:  401.2\n",
            "June 18:  370.0\n"
          ]
        }
      ]
    },
    {
      "cell_type": "markdown",
      "source": [
        "## EOF"
      ],
      "metadata": {
        "id": "PfsqB4fslsdy"
      }
    }
  ]
}