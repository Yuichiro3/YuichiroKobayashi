{
  "nbformat": 4,
  "nbformat_minor": 0,
  "metadata": {
    "colab": {
      "provenance": []
    },
    "kernelspec": {
      "name": "python3",
      "display_name": "Python 3"
    },
    "language_info": {
      "name": "python"
    }
  },
  "cells": [
    {
      "cell_type": "markdown",
      "source": [
        "# Classes\n",
        "## Exercise two\n",
        "Copy the code used in the examples above and extend it in the following ways:\n",
        "\n",
        "Create a Name class that has the attributes firstName, surname, title and otherNames. You will need to use a suitable data structure for other names.\n",
        "Write a method in the class called formalName() that will output a name in the following format:\n",
        "Mr J. S. Greenhold or Mr J. Greenhold if there are no middle names.\n",
        "Use the Name class within a Person object to demonstrate composition.\n",
        "Create a sub-class of Student for DistanceStudent and add the attribute currentModule.\n",
        "Using this structure and any other appropriate methods, create a DistanceStudent and printout the following:\n",
        "Mr J. S. Greenhold is currently studying the Advanced Programming module."
      ],
      "metadata": {
        "id": "OafuWDezX4Nr"
      }
    },
    {
      "cell_type": "code",
      "source": [
        "# Create a Name class\n",
        "class Name:\n",
        "    def __init__(self, firstName, surname, title, otherNames):\n",
        "        self.firstName = firstName\n",
        "        self.surname = surname\n",
        "        self.title = title\n",
        "        self.otherNames = otherNames\n",
        "\n",
        "    def formalName(self):\n",
        "        if self.otherNames:\n",
        "            return f\"{self.title} {self.firstName[0]}. {self.otherNames[0]}. {self.surname}\"\n",
        "        else:\n",
        "            return f\"{self.title} {self.firstName[0]}. {self.surname}\""
      ],
      "metadata": {
        "id": "JQs-TPnhYYli"
      },
      "execution_count": 35,
      "outputs": []
    },
    {
      "cell_type": "code",
      "source": [
        "# Create a Person class\n",
        "class Person:\n",
        "    def __init__(self, name):\n",
        "        self.name = name\n",
        "\n",
        "    def get_formal_name(self):\n",
        "        return self.name.formalName() # Access the formalName method within its Name object to get a formatted name."
      ],
      "metadata": {
        "id": "av08YWpejbek"
      },
      "execution_count": 36,
      "outputs": []
    },
    {
      "cell_type": "code",
      "source": [
        "# Student class inheriting from Person\n",
        "class Student(Person):\n",
        "    def __init__(self, name):\n",
        "        super().__init__(name) # Call the Person constructor\n",
        "\n",
        "# DistanceStudent subclass inheriting from Student\n",
        "class DistanceStudent(Student):\n",
        "    def __init__(self, name, currentModule):\n",
        "        super().__init__(name) # Call the Student constructor\n",
        "        self.currentModule = currentModule\n",
        "\n",
        "    def study_status(self):\n",
        "        return f\"{self.get_formal_name()} is currently studying the {self.currentModule} module.\""
      ],
      "metadata": {
        "id": "2JRC4062jbhK"
      },
      "execution_count": 37,
      "outputs": []
    },
    {
      "cell_type": "code",
      "source": [
        "yk = Name(\"Yuichiro\", \"Kobayashi\", \"Mr\", []) # can use \"\" instead of []"
      ],
      "metadata": {
        "id": "6Whw9pXMhuWT"
      },
      "execution_count": 38,
      "outputs": []
    },
    {
      "cell_type": "code",
      "source": [
        "print(DistanceStudent(yk, \"Advanced Programming\").study_status())"
      ],
      "metadata": {
        "colab": {
          "base_uri": "https://localhost:8080/"
        },
        "id": "sDe7eoj5l_T_",
        "outputId": "8bcb6230-dc69-4b2a-db4f-9a31252ffcbd"
      },
      "execution_count": 42,
      "outputs": [
        {
          "output_type": "stream",
          "name": "stdout",
          "text": [
            "Mr Y. Kobayashi is currently studying the Advanced Programming module.\n"
          ]
        }
      ]
    },
    {
      "cell_type": "markdown",
      "source": [
        "# EOF"
      ],
      "metadata": {
        "id": "p1YtJgyrYWIR"
      }
    }
  ]
}