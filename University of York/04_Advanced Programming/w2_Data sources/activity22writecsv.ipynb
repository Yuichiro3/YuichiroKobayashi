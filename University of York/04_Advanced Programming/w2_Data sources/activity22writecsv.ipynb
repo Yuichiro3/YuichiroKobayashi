{
 "cells": [
  {
   "cell_type": "markdown",
   "id": "7a9ec9bd",
   "metadata": {},
   "source": [
    "## Read CSV"
   ]
  },
  {
   "cell_type": "code",
   "execution_count": 1,
   "id": "04425dbe",
   "metadata": {},
   "outputs": [
    {
     "name": "stdout",
     "output_type": "stream",
     "text": [
      "Requirement already satisfied: tabulate in /opt/anaconda3/lib/python3.8/site-packages (0.9.0)\n",
      "Note: you may need to restart the kernel to use updated packages.\n"
     ]
    }
   ],
   "source": [
    "pip install tabulate"
   ]
  },
  {
   "cell_type": "code",
   "execution_count": 2,
   "id": "82163232",
   "metadata": {},
   "outputs": [],
   "source": [
    "import csv\n",
    "from tabulate import tabulate"
   ]
  },
  {
   "cell_type": "code",
   "execution_count": 3,
   "id": "435bdca6",
   "metadata": {},
   "outputs": [],
   "source": [
    "# Relative file path of csv data\n",
    "file_path = \"PeopleTrainngDate.csv\""
   ]
  },
  {
   "cell_type": "code",
   "execution_count": 4,
   "id": "2bb47e1c",
   "metadata": {},
   "outputs": [
    {
     "name": "stdout",
     "output_type": "stream",
     "text": [
      "+---------+-----------------------+---------------+----------------------------------------------+--------------------------------------+------------+\n",
      "| Title   | Name                  | ID            | Email                                        | Company                              | Updated    |\n",
      "+=========+=======================+===============+==============================================+======================================+============+\n",
      "| Mr.     | Clarke, Nita Z.       | 16220630-3253 | pharetra.Nam@egestashendreritneque.com       | Aliquam Nec Enim Institute           | 01/04/2017 |\n",
      "+---------+-----------------------+---------------+----------------------------------------------+--------------------------------------+------------+\n",
      "|         | Cobb, Lenore G.       | 16190501-6752 | ullamcorper.Duis.cursus@vehiculaetrutrum.edu | Turpis Egestas Aliquam Ltd           | 14/04/2017 |\n",
      "+---------+-----------------------+---------------+----------------------------------------------+--------------------------------------+------------+\n",
      "| Ms.     | Burris, Naomi J.      | 16010323-3201 | amet.ante.Vivamus@arcuacorci.com             | A Malesuada Associates               | 27/04/2017 |\n",
      "+---------+-----------------------+---------------+----------------------------------------------+--------------------------------------+------------+\n",
      "|         | Wilson, Mariam X.     | 16450125-7713 | ligula@velesttempor.ca                       | Ligula LLP                           | 28/04/2017 |\n",
      "+---------+-----------------------+---------------+----------------------------------------------+--------------------------------------+------------+\n",
      "| Ms.     | Martin, Zena K.       | 16750216-5116 | Nam.nulla.magna@massaIntegervitae.com        | Volutpat Nulla Corp.                 | 04/05/2017 |\n",
      "+---------+-----------------------+---------------+----------------------------------------------+--------------------------------------+------------+\n",
      "| Ms.     | Herrera, Armand W.    | 16181221-7600 | libero@dapibusgravida.com                    | Conubia Nostra Per Corp.             | 28/05/2017 |\n",
      "+---------+-----------------------+---------------+----------------------------------------------+--------------------------------------+------------+\n",
      "|         | Perry, Martena A.     | 16270708-2430 | pellentesque@ipsumacmi.org                   | Eget Magna Limited                   | 07/06/2017 |\n",
      "+---------+-----------------------+---------------+----------------------------------------------+--------------------------------------+------------+\n",
      "| Dr.     | Mccall, Noble U.      | 16401029-9123 | Curabitur.massa@auguemalesuada.org           | Sit Amet Incorporated                | 16/06/2017 |\n",
      "+---------+-----------------------+---------------+----------------------------------------------+--------------------------------------+------------+\n",
      "| Mrs.    | Rollins, Callum M.    | 16170921-4512 | libero.nec@acsem.edu                         | Duis Mi Enim PC                      | 16/06/2017 |\n",
      "+---------+-----------------------+---------------+----------------------------------------------+--------------------------------------+------------+\n",
      "| Mrs.    | Carr, Zeus Z.         | 16590305-1224 | mollis.Phasellus.libero@nuncullamcorpereu.ca | Proin Vel Inc.                       | 18/06/2017 |\n",
      "+---------+-----------------------+---------------+----------------------------------------------+--------------------------------------+------------+\n",
      "| Mrs.    | Estes, Alice O.       | 16300416-9417 | orci.Phasellus@libero.edu                    | Arcu Vestibulum Corporation          | 25/06/2017 |\n",
      "+---------+-----------------------+---------------+----------------------------------------------+--------------------------------------+------------+\n",
      "| Ms.     | Holden, Blaze P.      | 16061220-6730 | neque.Nullam@purusinmolestie.ca              | Cursus Et Institute                  | 28/06/2017 |\n",
      "+---------+-----------------------+---------------+----------------------------------------------+--------------------------------------+------------+\n",
      "| Ms.     | Rosales, Cathleen U.  | 16180427-7828 | mi.fringilla@CuraeDonectincidunt.ca          | Quisque Fringilla Consulting         | 30/06/2017 |\n",
      "+---------+-----------------------+---------------+----------------------------------------------+--------------------------------------+------------+\n",
      "| Mr.     | Walsh, Vincent Z.     | 16390402-1171 | enim@suscipitest.net                         | Donec Luctus Aliquet Institute       | 08/07/2017 |\n",
      "+---------+-----------------------+---------------+----------------------------------------------+--------------------------------------+------------+\n",
      "| Mrs.    | Pace, Bianca O.       | 16201004-2212 | egestas@Nuncmauris.com                       | Quam A Felis Incorporated            | 09/07/2017 |\n",
      "+---------+-----------------------+---------------+----------------------------------------------+--------------------------------------+------------+\n",
      "| Mr.     | Davidson, Urielle C.  | 16480313-6177 | tincidunt@dictumPhasellus.co.uk              | Pede Nunc Corp.                      | 10/07/2017 |\n",
      "+---------+-----------------------+---------------+----------------------------------------------+--------------------------------------+------------+\n",
      "|         | Peters, Samuel B.     | 16000705-4570 | eget@sedpede.ca                              | Blandit LLC                          | 12/07/2017 |\n",
      "+---------+-----------------------+---------------+----------------------------------------------+--------------------------------------+------------+\n",
      "| Dr.     | Baird, Mia L.         | 16721115-1878 | Praesent.eu.nulla@ipsum.com                  | Turpis In Institute                  | 12/07/2017 |\n",
      "+---------+-----------------------+---------------+----------------------------------------------+--------------------------------------+------------+\n",
      "| Ms.     | Travis, Akeem B.      | 16970110-2619 | nec.luctus@aceleifendvitae.com               | Sed Eu Nibh Company                  | 16/07/2017 |\n",
      "+---------+-----------------------+---------------+----------------------------------------------+--------------------------------------+------------+\n",
      "| Ms.     | Houston, Allegra R.   | 16180606-9751 | velit@semperegestasurna.com                  | Convallis Est Vitae Foundation       | 27/07/2017 |\n",
      "+---------+-----------------------+---------------+----------------------------------------------+--------------------------------------+------------+\n",
      "| Mr.     | Collins, Evan C.      | 16620201-0705 | fermentum@rutrumjustoPraesent.ca             | Tincidunt Incorporated               | 17/08/2017 |\n",
      "+---------+-----------------------+---------------+----------------------------------------------+--------------------------------------+------------+\n",
      "|         | Cooke, Elizabeth K.   | 16170503-2421 | convallis@enim.edu                           | A Auctor Limited                     | 24/08/2017 |\n",
      "+---------+-----------------------+---------------+----------------------------------------------+--------------------------------------+------------+\n",
      "| Dr.     | Mack, Hermione H.     | 16880521-4809 | In.tincidunt.congue@Duis.org                 | Tincidunt Corporation                | 25/08/2017 |\n",
      "+---------+-----------------------+---------------+----------------------------------------------+--------------------------------------+------------+\n",
      "| Mrs.    | Burton, Amery G.      | 16520318-6746 | mauris@CraspellentesqueSed.net               | Nec Enim Industries                  | 28/08/2017 |\n",
      "+---------+-----------------------+---------------+----------------------------------------------+--------------------------------------+------------+\n",
      "| Mrs.    | Curtis, Roth Y.       | 16290320-9498 | nibh@velitQuisque.net                        | Ut Pellentesque Limited              | 28/08/2017 |\n",
      "+---------+-----------------------+---------------+----------------------------------------------+--------------------------------------+------------+\n",
      "| Mr.     | Goodman, Devin C.     | 16720911-1181 | Maecenas@sociisnatoquepenatibus.com          | Elementum Inc.                       | 02/09/2017 |\n",
      "+---------+-----------------------+---------------+----------------------------------------------+--------------------------------------+------------+\n",
      "|         | Patterson, Gil X.     | 16740421-2065 | ligula@at.ca                                 | Egestas Aliquam Corporation          | 16/09/2017 |\n",
      "+---------+-----------------------+---------------+----------------------------------------------+--------------------------------------+------------+\n",
      "| Dr.     | Frye, Reed L.         | 16031128-0812 | nec.metus.facilisis@natoque.net              | Augue Industries                     | 23/09/2017 |\n",
      "+---------+-----------------------+---------------+----------------------------------------------+--------------------------------------+------------+\n",
      "| Mrs.    | Mcclure, Irma K.      | 16530225-7224 | Fusce.diam@Sednulla.edu                      | Imperdiet Non Vestibulum Corporation | 05/10/2017 |\n",
      "+---------+-----------------------+---------------+----------------------------------------------+--------------------------------------+------------+\n",
      "| Ms.     | Bates, Mannix P.      | 16580830-7879 | rutrum@nequeSedeget.com                      | Maecenas Libero Est Institute        | 28/10/2017 |\n",
      "+---------+-----------------------+---------------+----------------------------------------------+--------------------------------------+------------+\n",
      "| Mrs.    | Madden, Ciaran N.     | 16390419-5033 | sit@musAenean.co.uk                          | Enim Inc.                            | 13/11/2017 |\n",
      "+---------+-----------------------+---------------+----------------------------------------------+--------------------------------------+------------+\n",
      "|         | Brady, Lana I.        | 16610917-7029 | per.conubia@ornare.org                       | Non LLC                              | 17/11/2017 |\n",
      "+---------+-----------------------+---------------+----------------------------------------------+--------------------------------------+------------+\n",
      "|         | Gaines, Wynne R.      | 16770607-7596 | luctus.et@tellusfaucibusleo.co.uk            | Ante Limited                         | 26/11/2017 |\n",
      "+---------+-----------------------+---------------+----------------------------------------------+--------------------------------------+------------+\n",
      "| Dr.     | Hopper, Eliana D.     | 16450819-1824 | magna@Duisvolutpat.edu                       | Gravida Mauris Ut Ltd                | 27/11/2017 |\n",
      "+---------+-----------------------+---------------+----------------------------------------------+--------------------------------------+------------+\n",
      "| Mrs.    | Rosario, Sonya A.     | 16571009-6768 | ornare@nonjustoProin.co.uk                   | At LLC                               | 05/12/2017 |\n",
      "+---------+-----------------------+---------------+----------------------------------------------+--------------------------------------+------------+\n",
      "| Ms.     | Harmon, Quynn G.      | 16400822-0206 | enim.non.nisi@sit.com                        | Magna Tellus Faucibus Institute      | 13/12/2017 |\n",
      "+---------+-----------------------+---------------+----------------------------------------------+--------------------------------------+------------+\n",
      "| Dr.     | Horton, Olga X.       | 16090504-7759 | taciti.sociosqu.ad@amet.net                  | Gravida Sit Incorporated             | 28/12/2017 |\n",
      "+---------+-----------------------+---------------+----------------------------------------------+--------------------------------------+------------+\n",
      "| Mr.     | Barlow, Kirestin O.   | 16221210-9249 | Donec.feugiat.metus@velturpis.net            | Felis Eget Varius Foundation         | 04/01/2018 |\n",
      "+---------+-----------------------+---------------+----------------------------------------------+--------------------------------------+------------+\n",
      "|         | Payne, Wayne R.       | 16410315-0704 | amet.consectetuer@justo.org                  | Enim Non LLC                         | 16/01/2018 |\n",
      "+---------+-----------------------+---------------+----------------------------------------------+--------------------------------------+------------+\n",
      "| Ms.     | Owen, Jenette B.      | 16440901-5817 | malesuada@enim.org                           | Euismod Enim Etiam Ltd               | 23/01/2018 |\n",
      "+---------+-----------------------+---------------+----------------------------------------------+--------------------------------------+------------+\n",
      "| Mrs.    | Wilson, Iliana C.     | 16021029-8865 | natoque@ac.net                               | Pharetra Associates                  | 10/02/2018 |\n",
      "+---------+-----------------------+---------------+----------------------------------------------+--------------------------------------+------------+\n",
      "| Ms.     | Knowles, Hanna Z.     | 16301024-5003 | odio.vel@Nullamenim.co.uk                    | At Iaculis Quis Consulting           | 19/02/2018 |\n",
      "+---------+-----------------------+---------------+----------------------------------------------+--------------------------------------+------------+\n",
      "| Mrs.    | Mcclure, Elizabeth R. | 16700723-3047 | in.tempus@ligula.co.uk                       | Auctor Mauris Vel LLC                | 28/02/2018 |\n",
      "+---------+-----------------------+---------------+----------------------------------------------+--------------------------------------+------------+\n",
      "| Mr.     | Joseph, Cynthia D.    | 16700712-1911 | pretium.neque@morbitristique.co.uk           | Et Tristique Incorporated            | 05/03/2018 |\n",
      "+---------+-----------------------+---------------+----------------------------------------------+--------------------------------------+------------+\n",
      "|         | Parsons, Christian F. | 16160128-5156 | leo.Cras.vehicula@nibh.org                   | Et Magnis Dis Limited                | 09/03/2018 |\n",
      "+---------+-----------------------+---------------+----------------------------------------------+--------------------------------------+------------+\n",
      "| Mrs.    | Cole, Harrison W.     | 16170726-6811 | eu.tempor@vehicularisus.ca                   | Lectus Quis Massa Industries         | 11/03/2018 |\n",
      "+---------+-----------------------+---------------+----------------------------------------------+--------------------------------------+------------+\n",
      "|         | Crawford, Marshall P. | 16270523-2979 | semper.cursus@nuncsit.net                    | Pellentesque Tellus Sem Industries   | 12/03/2018 |\n",
      "+---------+-----------------------+---------------+----------------------------------------------+--------------------------------------+------------+\n",
      "| Mr.     | Mills, Lynn G.        | 16810113-6169 | ligula.consectetuer.rhoncus@lacinia.edu      | Suspendisse Consulting               | 23/03/2018 |\n",
      "+---------+-----------------------+---------------+----------------------------------------------+--------------------------------------+------------+\n",
      "| Mrs.    | Roth, Cody N.         | 16901118-2434 | Nullam.nisl@arcuSed.edu                      | Vel Associates                       | 26/03/2018 |\n",
      "+---------+-----------------------+---------------+----------------------------------------------+--------------------------------------+------------+\n",
      "| Ms.     | Barker, Sonya P.      | 16341025-7228 | et@vitaealiquameros.org                      | Cras Lorem Lorem Ltd                 | 29/03/2018 |\n",
      "+---------+-----------------------+---------------+----------------------------------------------+--------------------------------------+------------+\n",
      "| Mr.     | Wilcox, Ifeoma Q.     | 16001123-3541 | Proin@Duis.edu                               | Auctor Nunc Nulla Corp.              | 31/03/2018 |\n",
      "+---------+-----------------------+---------------+----------------------------------------------+--------------------------------------+------------+\n",
      "| Ms.     | Perkins, Blaze E.     | 16221113-2648 | natoque@est.edu                              | Cursus Corporation                   | 07/04/2018 |\n",
      "+---------+-----------------------+---------------+----------------------------------------------+--------------------------------------+------------+\n",
      "| Mrs.    | Luna, Mariko M.       | 16740112-8611 | libero@egetmagna.net                         | Nulla Donec Non Industries           | 09/04/2018 |\n",
      "+---------+-----------------------+---------------+----------------------------------------------+--------------------------------------+------------+\n",
      "| Ms.     | Hammond, Bell B.      | 16151221-6134 | lorem.auctor@lectusCumsociis.co.uk           | Tincidunt Dui Ltd                    | 17/04/2018 |\n",
      "+---------+-----------------------+---------------+----------------------------------------------+--------------------------------------+------------+\n",
      "| Mrs.    | Gallegos, Hu B.       | 16150918-6068 | Suspendisse@sempertellus.net                 | Enim Sit Amet Foundation             | 18/04/2018 |\n",
      "+---------+-----------------------+---------------+----------------------------------------------+--------------------------------------+------------+\n",
      "| Mrs.    | Hebert, Vivian P.     | 16310307-6240 | molestie.pharetra.nibh@egestasa.edu          | Vehicula Corp.                       | 02/05/2018 |\n",
      "+---------+-----------------------+---------------+----------------------------------------------+--------------------------------------+------------+\n",
      "| Ms.     | Mcgee, Richard O.     | 16860624-8295 | aliquet.magna@aliquet.co.uk                  | Ipsum Non Arcu LLP                   | 24/05/2018 |\n",
      "+---------+-----------------------+---------------+----------------------------------------------+--------------------------------------+------------+\n",
      "| Ms.     | Galloway, Raymond H.  | 16821009-1008 | Aenean.massa.Integer@nequevitaesemper.edu    | Egestas PC                           | 26/05/2018 |\n",
      "+---------+-----------------------+---------------+----------------------------------------------+--------------------------------------+------------+\n",
      "| Mr.     | Riddle, Hyatt W.      | 16740415-9845 | posuere.cubilia@consectetuerrhoncus.edu      | Libero LLP                           | 05/06/2018 |\n",
      "+---------+-----------------------+---------------+----------------------------------------------+--------------------------------------+------------+\n",
      "| Mrs.    | Alford, Sean Z.       | 16530904-3122 | et.euismod.et@hendreritid.org                | Et Ultrices Posuere Inc.             | 18/06/2018 |\n",
      "+---------+-----------------------+---------------+----------------------------------------------+--------------------------------------+------------+\n",
      "| Dr.     | Hartman, Genevieve J. | 16251124-2873 | In.nec@est.ca                                | Nunc Sed Consulting                  | 19/06/2018 |\n",
      "+---------+-----------------------+---------------+----------------------------------------------+--------------------------------------+------------+\n",
      "| Dr.     | Davenport, Melinda N. | 16280430-8563 | aliquet.Phasellus@sagittisDuisgravida.ca     | Interdum Ligula Eu Inc.              | 05/07/2018 |\n",
      "+---------+-----------------------+---------------+----------------------------------------------+--------------------------------------+------------+\n",
      "| Mr.     | Malone, Cynthia M.    | 16860530-8256 | Quisque.ornare.tortor@sapiencursusin.com     | Curabitur Vel Inc.                   | 11/07/2018 |\n",
      "+---------+-----------------------+---------------+----------------------------------------------+--------------------------------------+------------+\n",
      "| Ms.     | Merrill, Rosalyn O.   | 16460330-3936 | ullamcorper.nisl.arcu@erateget.edu           | Blandit Institute                    | 13/07/2018 |\n",
      "+---------+-----------------------+---------------+----------------------------------------------+--------------------------------------+------------+\n",
      "| Mrs.    | Chaney, Martha X.     | 16800729-0466 | et.malesuada@lacusUtnec.co.uk                | Duis At Company                      | 13/07/2018 |\n",
      "+---------+-----------------------+---------------+----------------------------------------------+--------------------------------------+------------+\n",
      "| Mrs.    | Mcintosh, Rahim N.    | 16670811-1668 | mauris@necligula.org                         | Luctus Ut Incorporated               | 19/07/2018 |\n",
      "+---------+-----------------------+---------------+----------------------------------------------+--------------------------------------+------------+\n",
      "| Mrs.    | Carey, Sebastian D.   | 16411129-7125 | iaculis.lacus.pede@vitaesodales.com          | Posuere Cubilia Curae; Ltd           | 24/07/2018 |\n",
      "+---------+-----------------------+---------------+----------------------------------------------+--------------------------------------+------------+\n",
      "| Ms.     | Reyes, Kamal P.       | 16000205-4757 | molestie.tortor.nibh@ridiculus.com           | Neque Sed LLC                        | 02/08/2018 |\n",
      "+---------+-----------------------+---------------+----------------------------------------------+--------------------------------------+------------+\n",
      "| Dr.     | Avery, Virginia D.    | 16500306-1974 | sodales@senectus.com                         | Tristique Neque Venenatis Institute  | 27/08/2018 |\n",
      "+---------+-----------------------+---------------+----------------------------------------------+--------------------------------------+------------+\n",
      "| Mr.     | Benton, Joel I.       | 16020608-0053 | eu.eros.Nam@Donecvitae.co.uk                 | Non Limited                          | 29/08/2018 |\n",
      "+---------+-----------------------+---------------+----------------------------------------------+--------------------------------------+------------+\n",
      "|         | Cameron, Lynn B.      | 16610116-1526 | senectus@elitCurabitursed.net                | Suspendisse Foundation               | 03/09/2018 |\n",
      "+---------+-----------------------+---------------+----------------------------------------------+--------------------------------------+------------+\n",
      "| Mr.     | Daniel, Ignatius K.   | 16680823-5359 | quis.turpis.vitae@dolor.com                  | Sit Amet Dapibus Corp.               | 08/09/2018 |\n",
      "+---------+-----------------------+---------------+----------------------------------------------+--------------------------------------+------------+\n",
      "| Ms.     | Blanchard, Carter V.  | 16381210-6619 | dolor.tempus@Donecnonjusto.edu               | Non Industries                       | 18/09/2018 |\n",
      "+---------+-----------------------+---------------+----------------------------------------------+--------------------------------------+------------+\n",
      "|         | Hardin, Griffin L.    | 16810107-4519 | pharetra.nibh@ultricies.com                  | Velit Egestas Lacinia Foundation     | 20/09/2018 |\n",
      "+---------+-----------------------+---------------+----------------------------------------------+--------------------------------------+------------+\n",
      "| Ms.     | Charles, Kim Y.       | 16840214-6545 | eu.enim@enimnec.co.uk                        | Lacus LLP                            | 27/09/2018 |\n",
      "+---------+-----------------------+---------------+----------------------------------------------+--------------------------------------+------------+\n",
      "| Mr.     | Gutierrez, Kameko Q.  | 16681023-3103 | non.lobortis@quamquisdiam.com                | Convallis Ante PC                    | 29/10/2018 |\n",
      "+---------+-----------------------+---------------+----------------------------------------------+--------------------------------------+------------+\n",
      "| Ms.     | Woodard, Preston O.   | 16641022-5210 | ultrices.sit.amet@Loremipsumdolor.edu        | In Faucibus LLC                      | 30/10/2018 |\n",
      "+---------+-----------------------+---------------+----------------------------------------------+--------------------------------------+------------+\n",
      "| Mr.     | Briggs, Frances G.    | 16450121-0233 | pede.sagittis@nisisem.net                    | Lacinia At Iaculis Ltd               | 31/10/2018 |\n",
      "+---------+-----------------------+---------------+----------------------------------------------+--------------------------------------+------------+\n"
     ]
    }
   ],
   "source": [
    "# Initialise empty lists for each column for further processing if required\n",
    "title_list = []\n",
    "name_list = []\n",
    "id_list = []\n",
    "email_list = []\n",
    "company_list = []\n",
    "updated_list = []\n",
    "\n",
    "# Open csv file in read mode and store rows data\n",
    "with open(file_path, mode='r', newline='') as file:\n",
    "    rows = csv.DictReader(file) # Read the each row of the csv as a dictionary\n",
    "    \n",
    "    # Loop through each row and append data to each list\n",
    "    for row in rows:\n",
    "        title_list.append(row['Title'])\n",
    "        name_list.append(row['Name'])\n",
    "        id_list.append(row['ID'])\n",
    "        email_list.append(row['Email'])\n",
    "        company_list.append(row['Company'])\n",
    "        updated_list.append(row['Updated'])\n",
    "\n",
    "# Combine all columns into a list of lists for easy processing\n",
    "headers = ['Title', 'Name', 'ID', 'Email', 'Company', 'Updated']\n",
    "columns = [title_list, name_list, id_list, email_list, company_list, updated_list]\n",
    "\n",
    "# Transpose columns to create rows for each record\n",
    "data = list(zip(*columns))\n",
    "\n",
    "# Display data in a neat table format\n",
    "# tabulate is a library to show the table with well-organised format\n",
    "print(tabulate(data, headers=headers, tablefmt=\"grid\"))"
   ]
  },
  {
   "cell_type": "markdown",
   "id": "2785119b",
   "metadata": {},
   "source": [
    "## Write CSV"
   ]
  },
  {
   "cell_type": "code",
   "execution_count": 5,
   "id": "29bb09e4",
   "metadata": {},
   "outputs": [],
   "source": [
    "from datetime import datetime"
   ]
  },
  {
   "cell_type": "code",
   "execution_count": 6,
   "id": "40cf273e",
   "metadata": {},
   "outputs": [],
   "source": [
    "# Relative file path of csv data\n",
    "file_path = \"PeopleTrainngDate.csv\"\n",
    "output_file_path = \"SortedPeopleTrainingDate.csv\""
   ]
  },
  {
   "cell_type": "code",
   "execution_count": 7,
   "id": "b7aea566",
   "metadata": {},
   "outputs": [],
   "source": [
    "# Initialise empty list to store row data\n",
    "data_rows = []"
   ]
  },
  {
   "cell_type": "code",
   "execution_count": 8,
   "id": "48f20e07",
   "metadata": {},
   "outputs": [],
   "source": [
    "# Open csv file in read mode and store rows data\n",
    "with open(file_path, mode='r', newline='') as file:\n",
    "    rows = csv.DictReader(file)\n",
    "    \n",
    "    # Loop through each row and add it to data_rows\n",
    "    for row in rows:\n",
    "        data_rows.append(row)"
   ]
  },
  {
   "cell_type": "code",
   "execution_count": 9,
   "id": "f73454c8",
   "metadata": {},
   "outputs": [],
   "source": [
    "# Sort data by 'Updated' date (oldest first)\n",
    "data_rows = sorted(data_rows, key=lambda date_value: datetime.strptime(date_value['Updated'], '%d/%m/%Y'), reverse=False)"
   ]
  },
  {
   "cell_type": "code",
   "execution_count": 10,
   "id": "c3ce60dd",
   "metadata": {},
   "outputs": [],
   "source": [
    "# Define new order of headers with 'Updated' as the first column\n",
    "headers = ['Updated', 'Title', 'Name', 'ID', 'Email', 'Company']"
   ]
  },
  {
   "cell_type": "code",
   "execution_count": 11,
   "id": "bfd5d20b",
   "metadata": {},
   "outputs": [
    {
     "name": "stdout",
     "output_type": "stream",
     "text": [
      "Data has been successfully sorted and written to SortedPeopleTrainingDate.csv\n"
     ]
    }
   ],
   "source": [
    "# Write sorted data to a new csv file with 'Updated' as the first column\n",
    "with open(output_file_path, mode='w', newline='') as output_file:\n",
    "    writer = csv.DictWriter(output_file, fieldnames=headers)\n",
    "    writer.writeheader()\n",
    "    writer.writerows(data_rows)\n",
    "\n",
    "print(\"Data has been successfully sorted and written to\", output_file_path)"
   ]
  },
  {
   "cell_type": "code",
   "execution_count": null,
   "id": "a68f4679",
   "metadata": {},
   "outputs": [],
   "source": []
  },
  {
   "cell_type": "code",
   "execution_count": null,
   "id": "c439192f",
   "metadata": {},
   "outputs": [],
   "source": []
  },
  {
   "cell_type": "code",
   "execution_count": null,
   "id": "4ba493d6",
   "metadata": {},
   "outputs": [],
   "source": []
  },
  {
   "cell_type": "markdown",
   "id": "a610aab8",
   "metadata": {},
   "source": [
    "## EOF"
   ]
  }
 ],
 "metadata": {
  "kernelspec": {
   "display_name": "Python 3 (ipykernel)",
   "language": "python",
   "name": "python3"
  },
  "language_info": {
   "codemirror_mode": {
    "name": "ipython",
    "version": 3
   },
   "file_extension": ".py",
   "mimetype": "text/x-python",
   "name": "python",
   "nbconvert_exporter": "python",
   "pygments_lexer": "ipython3",
   "version": "3.8.2"
  }
 },
 "nbformat": 4,
 "nbformat_minor": 5
}
