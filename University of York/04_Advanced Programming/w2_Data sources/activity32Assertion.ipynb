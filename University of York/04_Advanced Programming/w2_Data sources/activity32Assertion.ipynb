{
 "cells": [
  {
   "cell_type": "markdown",
   "metadata": {
    "id": "BSicG5Vc_M3b"
   },
   "source": [
    "## Exercise two\n",
    "Write assertion"
   ]
  },
  {
   "cell_type": "code",
   "execution_count": 24,
   "metadata": {
    "executionInfo": {
     "elapsed": 3,
     "status": "ok",
     "timestamp": 1730689018396,
     "user": {
      "displayName": "Yuichiro Kobayashi",
      "userId": "02684221739269850722"
     },
     "user_tz": -540
    },
    "id": "vWKClJ07_Wgu"
   },
   "outputs": [],
   "source": [
    "# Function of making the vowel dictionary\n",
    "def make_vowel_dict(sentence):    \n",
    "    # Initialise conters for each vowel\n",
    "    vowel_counts ={\"A\": 0, \"E\": 0, \"I\": 0, \"O\": 0, \"U\": 0, \"Other\": 0}\n",
    "\n",
    "    # Make the vowel dictionary\n",
    "    for char in sentence:\n",
    "        if char.upper() in vowel_counts:\n",
    "            vowel_counts[char.upper()] += 1\n",
    "        elif char != \" \":\n",
    "            vowel_counts[\"Other\"] += 1\n",
    "            \n",
    "    # Assert that the sum of all counts equals the total number of non-space characters in the sentence\n",
    "    total_characters = sum(vowel_counts.values())\n",
    "    non_space_characters = len([c for c in sentence if c != \" \"])\n",
    "    assert total_characters == non_space_characters, \"Character count mismatch.\"\n",
    "\n",
    "    return vowel_counts"
   ]
  },
  {
   "cell_type": "code",
   "execution_count": 25,
   "metadata": {
    "executionInfo": {
     "elapsed": 319,
     "status": "ok",
     "timestamp": 1730689022968,
     "user": {
      "displayName": "Yuichiro Kobayashi",
      "userId": "02684221739269850722"
     },
     "user_tz": -540
    },
    "id": "v8r6ffc3AY4X"
   },
   "outputs": [],
   "source": [
    "# Function of showing the number of vowels\n",
    "def show_vowel_counts(vowel_counts):\n",
    "    # Print * (star) for each vowel\n",
    "    for vowel, count in vowel_counts.items():\n",
    "        if vowel != \"Other\":\n",
    "            print(f\"{vowel}: {'*' * count}\")\n",
    "        elif vowel == \"Other\":\n",
    "            print(f\"{vowel} (non-space) Characters: {count}\")"
   ]
  },
  {
   "cell_type": "code",
   "execution_count": 26,
   "metadata": {
    "colab": {
     "base_uri": "https://localhost:8080/"
    },
    "executionInfo": {
     "elapsed": 2715,
     "status": "ok",
     "timestamp": 1730689155702,
     "user": {
      "displayName": "Yuichiro Kobayashi",
      "userId": "02684221739269850722"
     },
     "user_tz": -540
    },
    "id": "d4wKB2IAFT8e",
    "outputId": "b7df1e85-a09a-4858-ad45-a2b4d1cd97d0"
   },
   "outputs": [
    {
     "name": "stdout",
     "output_type": "stream",
     "text": [
      "Enter a sentence: I am Yuichiro.\n",
      "\n",
      "The number of vowels: {'A': 1, 'E': 0, 'I': 3, 'O': 1, 'U': 1, 'Other': 6}\n",
      "A: *\n",
      "E: \n",
      "I: ***\n",
      "O: *\n",
      "U: *\n",
      "Other (non-space) Characters: 6\n"
     ]
    }
   ],
   "source": [
    "sentence = input(\"Enter a sentence: \")\n",
    "\n",
    "# Call the first function (to make the vowel dictionary)\n",
    "vowel_counts = make_vowel_dict(sentence)\n",
    "\n",
    "# Call the second function (to show the number of characters)\n",
    "print(\"\")\n",
    "print(f\"The number of vowels: {vowel_counts}\")\n",
    "show_vowel_counts(vowel_counts)"
   ]
  },
  {
   "cell_type": "markdown",
   "metadata": {
    "id": "y4aViJK-EQ7J"
   },
   "source": [
    "# EOF"
   ]
  }
 ],
 "metadata": {
  "colab": {
   "authorship_tag": "ABX9TyOLTPNhrJxDBUI7ypwUm3Rv",
   "provenance": []
  },
  "kernelspec": {
   "display_name": "Python 3 (ipykernel)",
   "language": "python",
   "name": "python3"
  },
  "language_info": {
   "codemirror_mode": {
    "name": "ipython",
    "version": 3
   },
   "file_extension": ".py",
   "mimetype": "text/x-python",
   "name": "python",
   "nbconvert_exporter": "python",
   "pygments_lexer": "ipython3",
   "version": "3.8.2"
  }
 },
 "nbformat": 4,
 "nbformat_minor": 1
}
