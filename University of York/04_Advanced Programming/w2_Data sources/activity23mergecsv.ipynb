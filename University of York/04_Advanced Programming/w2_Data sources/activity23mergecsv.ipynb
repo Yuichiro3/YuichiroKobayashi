{
 "cells": [
  {
   "cell_type": "code",
   "execution_count": 1,
   "id": "7157c13b",
   "metadata": {},
   "outputs": [],
   "source": [
    "import csv\n",
    "from datetime import datetime"
   ]
  },
  {
   "cell_type": "code",
   "execution_count": 2,
   "id": "d2d064b9",
   "metadata": {},
   "outputs": [],
   "source": [
    "# Define relative file paths\n",
    "new_file_path = \"PeopleTrainingDateUpdate.csv\"\n",
    "sorted_file_path = \"SortedPeopleTrainingDate.csv\""
   ]
  },
  {
   "cell_type": "code",
   "execution_count": 4,
   "id": "b5beb628",
   "metadata": {},
   "outputs": [],
   "source": [
    "# Read data from the new file, no rows to skip as data has no headers\n",
    "new_data_rows = []\n",
    "with open(new_file_path, mode='r', newline='') as new_file:\n",
    "    reader = csv.reader(new_file)\n",
    "    for row in reader:\n",
    "        # Assign headers and add 'NULL' for the missing 'ID' column, note the order relates to the prior file structure\n",
    "        new_data_rows.append({\n",
    "            'Updated': row[0],\n",
    "            'Title': row[2],\n",
    "            'Name': row[3],\n",
    "            'ID': 'NULL',\n",
    "            'Email': row[1],\n",
    "            'Company': row[4]\n",
    "        })"
   ]
  },
  {
   "cell_type": "code",
   "execution_count": 5,
   "id": "21bb0374",
   "metadata": {},
   "outputs": [],
   "source": [
    "# Sort new data by 'Updated' date\n",
    "new_data_rows = sorted(new_data_rows, key=lambda date_value: datetime.strptime(date_value['Updated'], '%d/%m/%Y'), reverse=False)"
   ]
  },
  {
   "cell_type": "code",
   "execution_count": 6,
   "id": "bf86f68c",
   "metadata": {},
   "outputs": [],
   "source": [
    "# Headers for the new data format\n",
    "headers = ['Updated', 'Title', 'Name', 'ID', 'Email', 'Company']"
   ]
  },
  {
   "cell_type": "code",
   "execution_count": 7,
   "id": "ae523df5",
   "metadata": {},
   "outputs": [
    {
     "name": "stdout",
     "output_type": "stream",
     "text": [
      "New data has been successfully appended to SortedPeopleTrainingDate.csv\n"
     ]
    }
   ],
   "source": [
    "# Open csv in append mode and append sorted new data to the existing sorted file\n",
    "with open(sorted_file_path, mode='a', newline='') as sorted_file:\n",
    "    writer = csv.DictWriter(sorted_file, fieldnames=headers)\n",
    "    \n",
    "    # Write each row from new data\n",
    "    for row in new_data_rows:\n",
    "        writer.writerow(row)\n",
    "\n",
    "print(\"New data has been successfully appended to\", sorted_file_path)"
   ]
  },
  {
   "cell_type": "markdown",
   "id": "4eacd379",
   "metadata": {},
   "source": [
    "## EOF"
   ]
  }
 ],
 "metadata": {
  "kernelspec": {
   "display_name": "Python 3 (ipykernel)",
   "language": "python",
   "name": "python3"
  },
  "language_info": {
   "codemirror_mode": {
    "name": "ipython",
    "version": 3
   },
   "file_extension": ".py",
   "mimetype": "text/x-python",
   "name": "python",
   "nbconvert_exporter": "python",
   "pygments_lexer": "ipython3",
   "version": "3.8.2"
  }
 },
 "nbformat": 4,
 "nbformat_minor": 5
}
