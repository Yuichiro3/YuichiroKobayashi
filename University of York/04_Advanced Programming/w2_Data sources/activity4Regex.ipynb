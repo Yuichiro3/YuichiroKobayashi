{
 "cells": [
  {
   "cell_type": "code",
   "execution_count": 1,
   "id": "edb019b0",
   "metadata": {},
   "outputs": [],
   "source": [
    "import re"
   ]
  },
  {
   "cell_type": "code",
   "execution_count": 2,
   "id": "2ed6b2fc",
   "metadata": {},
   "outputs": [],
   "source": [
    "with open(\"The_Raven.txt\", \"r\") as file:\n",
    "    text = file.read()"
   ]
  },
  {
   "cell_type": "code",
   "execution_count": 5,
   "id": "838df26a",
   "metadata": {},
   "outputs": [
    {
     "data": {
      "text/plain": [
       "'Once upon a midnight dreary, while I\\n\\tpondered, weak and weary,\\nOver many a quaint and curious volume of forgotten lore-\\nWhile I nodded, nearly napping, suddenly\\n\\tthere came a tapping,\\nAs of some one gently rapping, rapping at my chamber door -\\n\\'Tis some visitor,\\' I muttered, \\'tapping at my chamber door -\\nOnly this and nothing more,\\'\\n\\n“Be that word our sign of parting, bird or\\n\\tfiend!” I shrieked, upstarting –\\n“Get thee back into the tempest and the\\n\\tNight’s Plutonian shore!\\nLeave no black plume as a token of that\\n\\tLie thy soul hath spoken!\\nLeave my loneliness unbroken! – quit the bust above my door!\\nTake thy beak from my heart, and take \\nthy form from off my door!”\\n\\tQuoth the raven ‘Nevermore.’\\n\\nExert form Edger Allen Poe\\'s \"The Raven\".\\n'"
      ]
     },
     "execution_count": 5,
     "metadata": {},
     "output_type": "execute_result"
    }
   ],
   "source": [
    "text"
   ]
  },
  {
   "cell_type": "code",
   "execution_count": 4,
   "id": "c746e24c",
   "metadata": {},
   "outputs": [
    {
     "name": "stdout",
     "output_type": "stream",
     "text": [
      "shrieked found 1 time(s).\n"
     ]
    }
   ],
   "source": [
    "# Find the word \"shrieked\"\n",
    "shrieked_matches = re.findall(r\"\\bshrieked\\b\", text)\n",
    "print(f\"shrieked found {len(shrieked_matches)} time(s).\")"
   ]
  },
  {
   "cell_type": "code",
   "execution_count": 6,
   "id": "cb821451",
   "metadata": {},
   "outputs": [
    {
     "name": "stdout",
     "output_type": "stream",
     "text": [
      "bleak found 0 time(s).\n"
     ]
    }
   ],
   "source": [
    "# Find the word \"bleak\"\n",
    "bleak_matches = re.findall(r\"\\bbleak\\b\", text)\n",
    "print(f\"bleak found {len(bleak_matches)} time(s).\")"
   ]
  },
  {
   "cell_type": "code",
   "execution_count": 8,
   "id": "52746393",
   "metadata": {},
   "outputs": [
    {
     "name": "stdout",
     "output_type": "stream",
     "text": [
      "Words containing 'pp': 5\n"
     ]
    }
   ],
   "source": [
    "# Count the number of words that contain \"pp\" \n",
    "pp_matches = re.findall(r\"\\b\\w*pp\\w*\\b\", text)\n",
    "print(f\"Words containing 'pp': {len(pp_matches)}\")"
   ]
  },
  {
   "cell_type": "code",
   "execution_count": 9,
   "id": "6599b234",
   "metadata": {},
   "outputs": [
    {
     "name": "stdout",
     "output_type": "stream",
     "text": [
      "All '!' replaced with '#' in the file 'updated_text.txt'.\n"
     ]
    }
   ],
   "source": [
    "# Replace all \"!\" with \"#\"\n",
    "updated_text = re.sub(r\"!\", \"#\", text)\n",
    "\n",
    "# Save a new file\n",
    "with open(\"updated_text.txt\", \"w\") as updated_file:\n",
    "    updated_file.write(updated_text)\n",
    "print(\"All '!' replaced with '#' in the file 'updated_text.txt'.\")"
   ]
  },
  {
   "cell_type": "code",
   "execution_count": 10,
   "id": "a5ec7cb3",
   "metadata": {},
   "outputs": [
    {
     "data": {
      "text/plain": [
       "'Once upon a midnight dreary, while I\\n\\tpondered, weak and weary,\\nOver many a quaint and curious volume of forgotten lore-\\nWhile I nodded, nearly napping, suddenly\\n\\tthere came a tapping,\\nAs of some one gently rapping, rapping at my chamber door -\\n\\'Tis some visitor,\\' I muttered, \\'tapping at my chamber door -\\nOnly this and nothing more,\\'\\n\\n“Be that word our sign of parting, bird or\\n\\tfiend#” I shrieked, upstarting –\\n“Get thee back into the tempest and the\\n\\tNight’s Plutonian shore#\\nLeave no black plume as a token of that\\n\\tLie thy soul hath spoken#\\nLeave my loneliness unbroken# – quit the bust above my door#\\nTake thy beak from my heart, and take \\nthy form from off my door#”\\n\\tQuoth the raven ‘Nevermore.’\\n\\nExert form Edger Allen Poe\\'s \"The Raven\".\\n'"
      ]
     },
     "execution_count": 10,
     "metadata": {},
     "output_type": "execute_result"
    }
   ],
   "source": [
    "# Confirm updated_text.txt\n",
    "with open(\"updated_text.txt\", \"r\") as file:\n",
    "    text = file.read()\n",
    "text"
   ]
  },
  {
   "cell_type": "code",
   "execution_count": 13,
   "id": "d2c1128f",
   "metadata": {},
   "outputs": [
    {
     "name": "stdout",
     "output_type": "stream",
     "text": [
      "Words that start with 't' but do not end with 'e': 11\n"
     ]
    }
   ],
   "source": [
    "# Identify all words that start with \"t\" but do not end with \"e\"\n",
    "t_words_matches = re.findall(r\"\\bt\\w*[^e\\s]\\b\", text, re.IGNORECASE) # re.IGNORECASE means search both uppercase and lowercase letters.\n",
    "print(f\"Words that start with 't' but do not end with 'e': {len(t_words_matches)}\" )      "
   ]
  },
  {
   "cell_type": "markdown",
   "id": "74f7e30b",
   "metadata": {},
   "source": [
    "## EOF"
   ]
  }
 ],
 "metadata": {
  "kernelspec": {
   "display_name": "Python 3 (ipykernel)",
   "language": "python",
   "name": "python3"
  },
  "language_info": {
   "codemirror_mode": {
    "name": "ipython",
    "version": 3
   },
   "file_extension": ".py",
   "mimetype": "text/x-python",
   "name": "python",
   "nbconvert_exporter": "python",
   "pygments_lexer": "ipython3",
   "version": "3.8.2"
  }
 },
 "nbformat": 4,
 "nbformat_minor": 5
}
