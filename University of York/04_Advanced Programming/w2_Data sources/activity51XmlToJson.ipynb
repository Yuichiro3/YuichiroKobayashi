{
 "cells": [
  {
   "cell_type": "code",
   "execution_count": 1,
   "id": "4705425c",
   "metadata": {},
   "outputs": [],
   "source": [
    "import xml.etree.ElementTree as ET"
   ]
  },
  {
   "cell_type": "code",
   "execution_count": 5,
   "id": "eb265dc3",
   "metadata": {},
   "outputs": [
    {
     "name": "stdout",
     "output_type": "stream",
     "text": [
      "<xml.etree.ElementTree.ElementTree object at 0x7ff318ab2d00>\n",
      "<Element 'students' at 0x7ff3300e9db0>\n"
     ]
    }
   ],
   "source": [
    "# Parse the XML file\n",
    "tree = ET.parse(\"People.xml\")\n",
    "root = tree.getroot()\n",
    "print(tree)\n",
    "print(root)"
   ]
  },
  {
   "cell_type": "code",
   "execution_count": 6,
   "id": "ba255f10",
   "metadata": {},
   "outputs": [],
   "source": [
    "# Convert XML elements to a JSON dictionary\n",
    "def xml_to_dict(element):\n",
    "    # Initialise dictionary for the element\n",
    "    elem_dict = {}\n",
    "    \n",
    "    # If the element has text, add it as a value\n",
    "    if element.text and element.text.strip():\n",
    "        elem_dict[\"text\"] = element.text.strip()\n",
    "    \n",
    "    # Add attributes as key-value pairs\n",
    "    elem_dict.update(element.attrib)\n",
    "    \n",
    "    # Process child elements\n",
    "    for child in element:\n",
    "        # Get the tag of the child and convert it recurcively\n",
    "        child_dict = xml_to_dict(child)\n",
    "        \n",
    "        # If the tag is already in the dictionary, make it a list\n",
    "        if child.tag in elem_dict:\n",
    "            # Check if it's a list or already a single element, convert to list if needed\n",
    "            if not isinstance(elem_dict[child.tag], list):\n",
    "                elem_dict[child.tag] = [elem_dict[child.tag]]\n",
    "            elem_dict[child.tag].append(child_dict)\n",
    "        else:\n",
    "            elem_dict[child.tag] = child_dict\n",
    "    \n",
    "    return elem_dict"
   ]
  },
  {
   "cell_type": "code",
   "execution_count": 7,
   "id": "67422d8e",
   "metadata": {},
   "outputs": [],
   "source": [
    "import json"
   ]
  },
  {
   "cell_type": "code",
   "execution_count": 8,
   "id": "c3598dcb",
   "metadata": {},
   "outputs": [],
   "source": [
    "# Convert the root element to a dictionary\n",
    "xml_dict = xml_to_dict(root)\n",
    "\n",
    "# Convert to JSON format and save to file\n",
    "with open(\"Converted.json\", \"w\") as json_file:\n",
    "    json.dump(xml_dict, json_file, indent=4)"
   ]
  },
  {
   "cell_type": "markdown",
   "id": "32a2eab5",
   "metadata": {},
   "source": [
    "## EOF"
   ]
  }
 ],
 "metadata": {
  "kernelspec": {
   "display_name": "Python 3 (ipykernel)",
   "language": "python",
   "name": "python3"
  },
  "language_info": {
   "codemirror_mode": {
    "name": "ipython",
    "version": 3
   },
   "file_extension": ".py",
   "mimetype": "text/x-python",
   "name": "python",
   "nbconvert_exporter": "python",
   "pygments_lexer": "ipython3",
   "version": "3.8.2"
  }
 },
 "nbformat": 4,
 "nbformat_minor": 5
}
