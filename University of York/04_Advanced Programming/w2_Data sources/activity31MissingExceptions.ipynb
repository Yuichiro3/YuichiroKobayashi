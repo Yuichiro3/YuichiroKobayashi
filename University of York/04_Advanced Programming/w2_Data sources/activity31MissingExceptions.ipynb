{
 "cells": [
  {
   "cell_type": "markdown",
   "metadata": {},
   "source": [
    "## Before modifying"
   ]
  },
  {
   "cell_type": "markdown",
   "metadata": {},
   "source": [
    "This code needs correcting using try .. except\n",
    "\n",
    "Test this with the following pairs of values \n",
    "30 and 3, 5 and 45, 0 and 0, 'hit enter key' \n",
    "to find the type of error/s that are generated"
   ]
  },
  {
   "cell_type": "code",
   "execution_count": 7,
   "metadata": {},
   "outputs": [
    {
     "ename": "SyntaxError",
     "evalue": "invalid syntax (2033837827.py, line 8)",
     "output_type": "error",
     "traceback": [
      "\u001b[0;36m  Input \u001b[0;32mIn [7]\u001b[0;36m\u001b[0m\n\u001b[0;31m    if num2%num1 == 0:Missing E\u001b[0m\n\u001b[0m                              ^\u001b[0m\n\u001b[0;31mSyntaxError\u001b[0m\u001b[0;31m:\u001b[0m invalid syntax\n"
     ]
    }
   ],
   "source": [
    "num1 = int(input(\"Enter a number:\" ))\n",
    "num2 = int(input(\"Enter another number:\" ))\n",
    "\n",
    "if num1 > num2:\n",
    "  if num1%num2 == 0:\n",
    "    print(num1, \" is a multiple of \", num2)\n",
    "else:\n",
    "  if num2%num1 == 0:Missing E\n",
    "    print(num2, \" is a multiple of \", num1)"
   ]
  },
  {
   "cell_type": "markdown",
   "metadata": {},
   "source": [
    "User input requires a list of space seperated words\n",
    "Create a small list to see what error is generated"
   ]
  },
  {
   "cell_type": "code",
   "execution_count": 6,
   "metadata": {},
   "outputs": [
    {
     "name": "stdout",
     "output_type": "stream",
     "text": [
      "List of names:Name\n"
     ]
    },
    {
     "ename": "IndexError",
     "evalue": "list index out of range",
     "output_type": "error",
     "traceback": [
      "\u001b[0;31m---------------------------------------------------------------------------\u001b[0m",
      "\u001b[0;31mIndexError\u001b[0m                                Traceback (most recent call last)",
      "Input \u001b[0;32mIn [6]\u001b[0m, in \u001b[0;36m<cell line: 3>\u001b[0;34m()\u001b[0m\n\u001b[1;32m      1\u001b[0m names \u001b[38;5;241m=\u001b[39m \u001b[38;5;28minput\u001b[39m(\u001b[38;5;124m\"\u001b[39m\u001b[38;5;124mList of names:\u001b[39m\u001b[38;5;124m\"\u001b[39m) \n\u001b[1;32m      2\u001b[0m nameList \u001b[38;5;241m=\u001b[39m names\u001b[38;5;241m.\u001b[39msplit()\n\u001b[0;32m----> 3\u001b[0m \u001b[38;5;28mprint\u001b[39m(\u001b[43mnameList\u001b[49m\u001b[43m[\u001b[49m\u001b[38;5;241;43m1000\u001b[39;49m\u001b[43m]\u001b[49m)\n",
      "\u001b[0;31mIndexError\u001b[0m: list index out of range"
     ]
    }
   ],
   "source": [
    "names = input(\"List of names:\") \n",
    "nameList = names.split()\n",
    "print(nameList[1000])"
   ]
  },
  {
   "cell_type": "markdown",
   "metadata": {},
   "source": [
    "This is an easy misatke to make by users"
   ]
  },
  {
   "cell_type": "code",
   "execution_count": 4,
   "metadata": {},
   "outputs": [
    {
     "name": "stdout",
     "output_type": "stream",
     "text": [
      "670\n",
      "530\n"
     ]
    },
    {
     "ename": "ValueError",
     "evalue": "invalid literal for int() with base 10: '3O'",
     "output_type": "error",
     "traceback": [
      "\u001b[0;31m---------------------------------------------------------------------------\u001b[0m",
      "\u001b[0;31mValueError\u001b[0m                                Traceback (most recent call last)",
      "Input \u001b[0;32mIn [4]\u001b[0m, in \u001b[0;36m<cell line: 3>\u001b[0;34m()\u001b[0m\n\u001b[1;32m      1\u001b[0m randomList \u001b[38;5;241m=\u001b[39m [\u001b[38;5;124m'\u001b[39m\u001b[38;5;124m67\u001b[39m\u001b[38;5;124m'\u001b[39m, \u001b[38;5;241m53\u001b[39m, \u001b[38;5;124m'\u001b[39m\u001b[38;5;124m3O\u001b[39m\u001b[38;5;124m'\u001b[39m,\u001b[38;5;241m72\u001b[39m, \u001b[38;5;124m'\u001b[39m\u001b[38;5;124m10\u001b[39m\u001b[38;5;124m'\u001b[39m]\n\u001b[1;32m      3\u001b[0m \u001b[38;5;28;01mfor\u001b[39;00m i \u001b[38;5;129;01min\u001b[39;00m randomList:\n\u001b[0;32m----> 4\u001b[0m   \u001b[38;5;28mprint\u001b[39m(\u001b[38;5;28;43mint\u001b[39;49m\u001b[43m(\u001b[49m\u001b[43mi\u001b[49m\u001b[43m)\u001b[49m \u001b[38;5;241m*\u001b[39m \u001b[38;5;241m10\u001b[39m)\n",
      "\u001b[0;31mValueError\u001b[0m: invalid literal for int() with base 10: '3O'"
     ]
    }
   ],
   "source": [
    "randomList = ['67', 53, '3O',72, '10']\n",
    "\n",
    "for i in randomList:\n",
    "  print(int(i) * 10)"
   ]
  },
  {
   "cell_type": "markdown",
   "metadata": {},
   "source": [
    "validating user given file names, what can go wrong?"
   ]
  },
  {
   "cell_type": "code",
   "execution_count": 13,
   "metadata": {},
   "outputs": [
    {
     "name": "stdout",
     "output_type": "stream",
     "text": [
      "Enter File:s\n"
     ]
    },
    {
     "ename": "FileNotFoundError",
     "evalue": "[Errno 2] No such file or directory: 's'",
     "output_type": "error",
     "traceback": [
      "\u001b[0;31m---------------------------------------------------------------------------\u001b[0m",
      "\u001b[0;31mFileNotFoundError\u001b[0m                         Traceback (most recent call last)",
      "Input \u001b[0;32mIn [13]\u001b[0m, in \u001b[0;36m<cell line: 2>\u001b[0;34m()\u001b[0m\n\u001b[1;32m      1\u001b[0m fileName \u001b[38;5;241m=\u001b[39m \u001b[38;5;28minput\u001b[39m(\u001b[38;5;124m\"\u001b[39m\u001b[38;5;124mEnter File:\u001b[39m\u001b[38;5;124m\"\u001b[39m)\n\u001b[0;32m----> 2\u001b[0m \u001b[38;5;28mprint\u001b[39m(\u001b[38;5;28;43mopen\u001b[39;49m\u001b[43m(\u001b[49m\u001b[43mfileName\u001b[49m\u001b[43m)\u001b[49m\u001b[38;5;241m.\u001b[39mread())\n",
      "\u001b[0;31mFileNotFoundError\u001b[0m: [Errno 2] No such file or directory: 's'"
     ]
    }
   ],
   "source": [
    "fileName = input(\"Enter File:\")\n",
    "print(open(fileName).read())"
   ]
  },
  {
   "cell_type": "markdown",
   "metadata": {},
   "source": [
    "## After modifying"
   ]
  },
  {
   "cell_type": "code",
   "execution_count": 1,
   "metadata": {},
   "outputs": [
    {
     "name": "stdout",
     "output_type": "stream",
     "text": [
      "Enter a number: a\n",
      "Invalid input: Please re-enter numeric values.\n"
     ]
    }
   ],
   "source": [
    "# Use try and except to show the numerical error message\n",
    "try:\n",
    "    num1 = int(input(\"Enter a number: \"))\n",
    "    num2 = int(input(\"ENnter another number: \"))\n",
    "    \n",
    "    if num1 > num2:\n",
    "        if num1 % num2 == 0:\n",
    "            print(f\"{num1} is a multiple of {num2}\")\n",
    "        else:\n",
    "            print(f\"{num1} is not a multiple of {num2}\")\n",
    "    else:\n",
    "        if num2 % num1 == 1:\n",
    "            print(f\"{num2} is a multiple of {num1}\")\n",
    "        else:\n",
    "            print(f\"{num2} is not a multiple of {num1}\")\n",
    "\n",
    "# Handle the error of the non-numerical input\n",
    "except ValueError:\n",
    "    print(\"Invalid input: Please re-enter numeric values.\")\n",
    "# Handle the error of the zero input\n",
    "except ZeroDivisionError:\n",
    "    print(\"Division by zero error: One of the number is zero.\")        "
   ]
  },
  {
   "cell_type": "code",
   "execution_count": 3,
   "metadata": {},
   "outputs": [
    {
     "name": "stdout",
     "output_type": "stream",
     "text": [
      "List of names (space-separated): UK US JP\n",
      "Index error: The list does not contain enough elements.\n"
     ]
    }
   ],
   "source": [
    "# Use try and except to show the Index error message\n",
    "try:\n",
    "    names = input(\"List of names (space-separated): \")\n",
    "    nameList = names.split()\n",
    "    print(nameList[100]) # Accessing the 100th index\n",
    "\n",
    "# Handle the error of the index that does not exist\n",
    "except IndexError:\n",
    "    print(\"Index error: The list does not contain enough elements.\")"
   ]
  },
  {
   "cell_type": "code",
   "execution_count": 12,
   "metadata": {},
   "outputs": [
    {
     "name": "stdout",
     "output_type": "stream",
     "text": [
      "670\n",
      "530\n",
      "Value error: 3O cannot be converted to an integer.\n",
      "720\n",
      "100\n"
     ]
    }
   ],
   "source": [
    "# Use try and except to show the value error message\n",
    "randomList = [\"67\", 53, \"3O\", 72, \"10\"] # The \"3O\" includes \"O\" not zero (0)\n",
    "\n",
    "for i in randomList:\n",
    "    try:\n",
    "        print(int(i) * 10)\n",
    "    # Handle the error including string\n",
    "    except ValueError:\n",
    "        print(f\"Value error: {i} cannot be converted to an integer.\")"
   ]
  },
  {
   "cell_type": "code",
   "execution_count": 15,
   "metadata": {},
   "outputs": [
    {
     "name": "stdout",
     "output_type": "stream",
     "text": [
      "Enter file name: swer\n",
      "File not found: Please check the file name and try again.\n"
     ]
    }
   ],
   "source": [
    "# Use try and except to show the file error message\n",
    "fileName = input(\"Enter file name: \")\n",
    "\n",
    "try:\n",
    "    with open(fileName, \"r\") as file:\n",
    "        print(file.read())\n",
    "\n",
    "# Handle the error that the file cannot be found.\n",
    "except FileNotFoundError:\n",
    "    print(\"File not found: Please check the file name and try again.\")\n",
    "\n",
    "# Handle the error that the OS has a problem. \n",
    "# ex., file path issues, file system errors like disconnected network etc.\n",
    "except OSError:\n",
    "    print(\"OS error: There was an issue accessing the file.\")"
   ]
  },
  {
   "cell_type": "markdown",
   "metadata": {},
   "source": [
    "## EOF"
   ]
  }
 ],
 "metadata": {
  "kernelspec": {
   "display_name": "Python 3 (ipykernel)",
   "language": "python",
   "name": "python3"
  },
  "language_info": {
   "codemirror_mode": {
    "name": "ipython",
    "version": 3
   },
   "file_extension": ".py",
   "mimetype": "text/x-python",
   "name": "python",
   "nbconvert_exporter": "python",
   "pygments_lexer": "ipython3",
   "version": "3.8.2"
  }
 },
 "nbformat": 4,
 "nbformat_minor": 2
}
