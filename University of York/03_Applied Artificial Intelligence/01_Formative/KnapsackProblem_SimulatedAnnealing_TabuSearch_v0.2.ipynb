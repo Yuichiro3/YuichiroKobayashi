{
 "cells": [
  {
   "cell_type": "code",
   "execution_count": 1,
   "id": "df33e827",
   "metadata": {},
   "outputs": [],
   "source": [
    "import random\n",
    "import math\n",
    "import numpy as np\n",
    "import pandas as pd\n",
    "import matplotlib.pyplot as plt\n",
    "from collections import deque"
   ]
  },
  {
   "cell_type": "code",
   "execution_count": 2,
   "id": "6fc30567",
   "metadata": {},
   "outputs": [],
   "source": [
    "df = pd.read_csv('Formative Assessment dataset (knapsack problem).csv')"
   ]
  },
  {
   "cell_type": "code",
   "execution_count": 3,
   "id": "cdb770c4",
   "metadata": {},
   "outputs": [
    {
     "data": {
      "text/html": [
       "<div>\n",
       "<style scoped>\n",
       "    .dataframe tbody tr th:only-of-type {\n",
       "        vertical-align: middle;\n",
       "    }\n",
       "\n",
       "    .dataframe tbody tr th {\n",
       "        vertical-align: top;\n",
       "    }\n",
       "\n",
       "    .dataframe thead th {\n",
       "        text-align: right;\n",
       "    }\n",
       "</style>\n",
       "<table border=\"1\" class=\"dataframe\">\n",
       "  <thead>\n",
       "    <tr style=\"text-align: right;\">\n",
       "      <th></th>\n",
       "      <th>weights</th>\n",
       "      <th>values</th>\n",
       "    </tr>\n",
       "  </thead>\n",
       "  <tbody>\n",
       "    <tr>\n",
       "      <th>0</th>\n",
       "      <td>21</td>\n",
       "      <td>96</td>\n",
       "    </tr>\n",
       "    <tr>\n",
       "      <th>1</th>\n",
       "      <td>12</td>\n",
       "      <td>99</td>\n",
       "    </tr>\n",
       "    <tr>\n",
       "      <th>2</th>\n",
       "      <td>30</td>\n",
       "      <td>52</td>\n",
       "    </tr>\n",
       "    <tr>\n",
       "      <th>3</th>\n",
       "      <td>24</td>\n",
       "      <td>100</td>\n",
       "    </tr>\n",
       "    <tr>\n",
       "      <th>4</th>\n",
       "      <td>45</td>\n",
       "      <td>46</td>\n",
       "    </tr>\n",
       "  </tbody>\n",
       "</table>\n",
       "</div>"
      ],
      "text/plain": [
       "   weights  values\n",
       "0       21      96\n",
       "1       12      99\n",
       "2       30      52\n",
       "3       24     100\n",
       "4       45      46"
      ]
     },
     "execution_count": 3,
     "metadata": {},
     "output_type": "execute_result"
    }
   ],
   "source": [
    "df.head()"
   ]
  },
  {
   "cell_type": "code",
   "execution_count": 4,
   "id": "6e18ffe0",
   "metadata": {},
   "outputs": [],
   "source": [
    "# Extract weights and values from the dataframe\n",
    "weights = df['weights'].tolist()\n",
    "values = df['values'].tolist()\n",
    "capacity = 1500"
   ]
  },
  {
   "cell_type": "markdown",
   "id": "ee0d73bd",
   "metadata": {},
   "source": [
    "# Simulated Annealing"
   ]
  },
  {
   "cell_type": "code",
   "execution_count": 5,
   "id": "59b57664",
   "metadata": {},
   "outputs": [],
   "source": [
    "# Step 1: Calculate the total weight of the current solution\n",
    "def calculate_weight(solution):\n",
    "    return sum([solution[i] * weights[i] for i in range(len(solution))])\n",
    "\n",
    "# Step 2: Calculate the total value of the current solution\n",
    "def calculate_value(solution):\n",
    "    return sum([solution[i] * values[i] for i in range(len(solution))])"
   ]
  },
  {
   "cell_type": "code",
   "execution_count": 6,
   "id": "ab184042",
   "metadata": {},
   "outputs": [],
   "source": [
    "# Step 3: Generate a neighboring solution by flipping a random bit\n",
    "def generate_neighbor(solution):\n",
    "    neighbor = solution.copy()\n",
    "    index = random.randint(0, len(solution) - 1)\n",
    "    neighbor[index] = 1 - neighbor[index]  # Flip the bit (add/remove item)\n",
    "    return neighbor"
   ]
  },
  {
   "cell_type": "code",
   "execution_count": 13,
   "id": "167533ff",
   "metadata": {},
   "outputs": [],
   "source": [
    "# Step 4: Simulated annealing for knapsack problem\n",
    "def simulated_annealing_knapsack(weights, values, capacity, Tmax=100, Tmin=1, alpha=0.95, r=100, acceptance_rate=0.8):\n",
    "    num_items = len(weights)\n",
    "    \n",
    "    # Initial random solution (binary vector)\n",
    "    current_solution = np.random.randint(2, size=num_items)\n",
    "    while calculate_weight(current_solution) > capacity:\n",
    "        current_solution = np.random.randint(2, size=num_items)\n",
    "\n",
    "    current_value = calculate_value(current_solution)\n",
    "    best_solution = current_solution.copy()\n",
    "    best_value = current_value\n",
    "    iterations_to_best = 0  # Track how many iterations it takes to reach the best solution\n",
    "\n",
    "    T = Tmax  # Initial temperature\n",
    "    iteration = 0  # Track the iteration count\n",
    "    value_history = []\n",
    "\n",
    "    while T > Tmin:\n",
    "        for _ in range(r):  # Perform 'r' iterations at each temperature\n",
    "            iteration += 1\n",
    "\n",
    "            # Generate a neighboring solution\n",
    "            neighbor_solution = generate_neighbor(current_solution)\n",
    "\n",
    "            # Ensure the new solution is valid (i.e., does not exceed the capacity)\n",
    "            if calculate_weight(neighbor_solution) <= capacity:\n",
    "                neighbor_value = calculate_value(neighbor_solution)\n",
    "\n",
    "                # Calculate the cost difference (maximize value, so we use value directly)\n",
    "                delta_E = neighbor_value - current_value\n",
    "\n",
    "                # Accept new solution if it improves or based on probability\n",
    "                if delta_E > 0 or acceptance_rate < math.exp(delta_E / T):\n",
    "                    current_solution = neighbor_solution\n",
    "                    current_value = neighbor_value\n",
    "\n",
    "                    # Update the best solution found so far\n",
    "                    if current_value > best_value:\n",
    "                        best_solution = current_solution.copy()\n",
    "                        best_value = current_value\n",
    "                        iterations_to_best = iteration  # Record the iteration where the best solution is found\n",
    "\n",
    "        # Record the best value at each temperature\n",
    "        value_history.append(best_value)\n",
    "\n",
    "        # Step 5: Decrease the temperature according to the cooling schedule\n",
    "        T *= alpha  # Cooling factor\n",
    "    \n",
    "    return best_solution, best_value, calculate_weight(best_solution), value_history, iterations_to_best"
   ]
  },
  {
   "cell_type": "code",
   "execution_count": 37,
   "id": "1f7ddb7c",
   "metadata": {},
   "outputs": [],
   "source": [
    "# Run the simulated annealing algorithm multiple times and record results\n",
    "num_runs = 10\n",
    "all_solutions = []\n",
    "all_values = []\n",
    "all_weights = []\n",
    "all_iterations_to_best = []\n",
    "\n",
    "for i in range(num_runs):\n",
    "    best_solution, best_value, best_weight, value_history, iterations_to_best = simulated_annealing_knapsack(weights, values, capacity)\n",
    "    all_solutions.append(best_solution)\n",
    "    all_values.append(best_value)\n",
    "    all_weights.append(best_weight)\n",
    "    all_iterations_to_best.append(iterations_to_best)"
   ]
  },
  {
   "cell_type": "code",
   "execution_count": 38,
   "id": "60fd56ee",
   "metadata": {},
   "outputs": [
    {
     "name": "stdout",
     "output_type": "stream",
     "text": [
      "Best solutions from each run:\n",
      "Run 1: [1 0 0 1 1 1 0 0 1 0 1 1 1 1 1 1 0 0 1 1 0 0 1 1 0 0 0 1 1 0 1 0 0 1 1 0 1\n",
      " 0 1 0 0 0 0 1 1 0 1 1 0 0 1 0 1 1 0 0 0 1 1 0 0 1 0 0 1 1 0 1 0 1 1 0 1 1\n",
      " 1 1 1 1 1 1 1 1 1 1 0 0 1 1 1 1 1 1 1 1 0 1 0 0 0 1]\n",
      "Run 2: [0 1 1 1 1 1 0 0 0 0 1 1 1 1 1 1 1 0 1 1 1 1 1 1 0 0 0 1 1 0 1 1 1 1 0 0 1\n",
      " 0 1 1 1 1 0 1 1 1 1 1 1 1 1 1 1 0 1 0 0 1 1 0 1 1 1 0 1 1 1 1 0 0 1 1 1 1\n",
      " 1 1 1 1 1 0 0 1 0 0 1 1 1 0 0 1 0 1 1 1 0 0 0 1 0 1]\n",
      "Run 3: [1 1 1 1 1 1 0 0 1 1 1 1 1 1 1 1 0 0 0 1 1 1 1 1 0 0 0 1 1 0 1 0 0 1 1 0 1\n",
      " 0 1 0 1 1 0 1 1 1 1 0 0 1 0 1 0 1 1 0 0 1 1 0 1 0 1 0 0 1 0 1 0 1 1 0 1 1\n",
      " 1 1 1 1 1 0 1 1 1 1 1 0 1 0 0 0 0 1 1 1 0 1 0 1 0 0]\n",
      "Run 4: [1 1 1 1 0 1 0 1 0 1 1 1 1 0 1 0 0 0 0 1 1 1 1 1 0 0 0 1 1 0 0 0 0 0 1 0 1\n",
      " 0 1 0 1 1 0 1 1 1 1 1 0 1 1 1 1 1 1 1 0 1 1 0 1 0 1 0 1 1 0 1 0 1 1 0 1 0\n",
      " 1 1 1 1 0 0 1 1 0 1 0 0 1 1 1 0 1 0 1 1 0 1 0 1 0 0]\n",
      "Run 5: [0 1 1 0 1 0 0 0 1 0 1 1 1 0 1 1 0 0 1 1 1 1 1 1 0 0 0 1 1 0 1 0 1 1 1 0 0\n",
      " 1 1 1 1 1 0 1 1 1 0 1 1 1 0 0 0 1 1 1 0 1 1 0 0 1 0 0 1 0 1 1 0 1 1 1 1 1\n",
      " 1 1 1 1 0 0 1 1 0 1 1 0 1 1 1 0 1 1 1 1 0 1 0 1 0 1]\n",
      "Run 6: [1 1 0 0 1 0 1 1 1 1 1 1 1 1 0 0 0 0 0 1 1 1 1 1 0 0 0 1 1 0 1 0 0 1 1 0 1\n",
      " 1 0 1 0 1 0 0 1 1 0 1 1 1 1 0 1 0 1 1 0 1 1 0 1 1 1 0 1 1 1 1 0 1 1 0 1 1\n",
      " 0 1 1 0 0 0 0 1 1 1 1 0 1 0 1 1 1 1 1 1 0 1 0 1 0 1]\n",
      "Run 7: [1 0 0 1 0 1 1 0 0 1 1 1 1 0 0 1 0 0 0 1 1 1 0 1 0 0 0 1 0 0 1 1 0 1 0 0 1\n",
      " 1 1 1 0 0 0 1 1 1 1 1 1 1 0 1 1 1 0 1 0 1 1 0 1 1 1 0 1 1 1 1 0 1 1 1 1 1\n",
      " 1 1 1 0 1 1 1 1 0 1 1 0 1 1 1 0 1 1 1 1 0 0 0 0 0 1]\n",
      "Run 8: [1 1 1 1 0 0 0 0 0 1 1 1 1 1 0 0 0 0 1 1 1 1 1 1 0 0 0 0 0 0 0 0 0 1 1 0 0\n",
      " 1 1 1 1 1 0 1 1 1 1 0 1 1 1 1 1 1 1 1 0 1 1 0 0 0 1 0 1 1 1 1 0 1 1 0 1 1\n",
      " 0 1 1 1 1 1 0 1 0 0 1 0 1 1 1 1 1 0 1 0 0 1 0 1 0 1]\n",
      "Run 9: [1 1 1 1 1 1 0 0 1 1 1 1 1 1 0 1 0 0 1 1 1 1 1 1 0 0 0 1 0 0 1 0 0 1 0 0 1\n",
      " 1 1 1 1 1 0 0 1 1 1 1 0 1 1 1 1 1 1 1 0 1 1 0 1 0 1 0 0 0 0 1 0 1 1 1 1 0\n",
      " 1 1 1 0 0 1 1 1 0 1 0 0 1 1 1 0 1 1 0 1 0 0 0 1 0 1]\n",
      "Run 10: [1 1 1 1 0 0 1 0 1 0 1 1 1 1 1 1 1 0 1 1 1 1 1 1 0 0 0 1 1 0 1 1 0 1 1 0 0\n",
      " 1 1 0 0 1 0 1 1 1 0 1 1 1 1 1 1 1 1 1 0 1 1 0 0 0 1 0 0 1 1 1 0 1 1 1 0 0\n",
      " 1 1 1 1 1 0 0 1 1 0 1 0 1 1 1 1 1 1 1 1 0 1 0 1 0 1]\n"
     ]
    }
   ],
   "source": [
    "# Output 1: Best solutions for each run\n",
    "print(\"Best solutions from each run:\")\n",
    "for i, solution in enumerate(all_solutions):\n",
    "    print(f\"Run {i+1}: {solution}\")"
   ]
  },
  {
   "cell_type": "code",
   "execution_count": 39,
   "id": "811d2509",
   "metadata": {},
   "outputs": [
    {
     "name": "stdout",
     "output_type": "stream",
     "text": [
      "\n",
      "Best values and weights from each run:\n",
      "Run 1: Best value = 3693, Best weight = 1500\n",
      "Run 2: Best value = 3844, Best weight = 1496\n",
      "Run 3: Best value = 3936, Best weight = 1498\n",
      "Run 4: Best value = 3669, Best weight = 1498\n",
      "Run 5: Best value = 3948, Best weight = 1499\n",
      "Run 6: Best value = 4067, Best weight = 1498\n",
      "Run 7: Best value = 3784, Best weight = 1498\n",
      "Run 8: Best value = 3913, Best weight = 1500\n",
      "Run 9: Best value = 3964, Best weight = 1500\n",
      "Run 10: Best value = 4163, Best weight = 1500\n"
     ]
    }
   ],
   "source": [
    "# Output 2: Best values and weights for each run\n",
    "print(\"\\nBest values and weights from each run:\")\n",
    "for i, (value, weight) in enumerate(zip(all_values, all_weights)):\n",
    "    print(f\"Run {i+1}: Best value = {value}, Best weight = {weight}\")"
   ]
  },
  {
   "cell_type": "code",
   "execution_count": 40,
   "id": "f13ea473",
   "metadata": {},
   "outputs": [
    {
     "name": "stdout",
     "output_type": "stream",
     "text": [
      "\n",
      "Iterations to reach the best solution for each run:\n",
      "Run 1: Iterations to best = 277\n",
      "Run 2: Iterations to best = 904\n",
      "Run 3: Iterations to best = 652\n",
      "Run 4: Iterations to best = 397\n",
      "Run 5: Iterations to best = 842\n",
      "Run 6: Iterations to best = 1105\n",
      "Run 7: Iterations to best = 707\n",
      "Run 8: Iterations to best = 314\n",
      "Run 9: Iterations to best = 1114\n",
      "Run 10: Iterations to best = 605\n"
     ]
    }
   ],
   "source": [
    "# Output 3: Number of iterations to reach the best solution for each run\n",
    "print(\"\\nIterations to reach the best solution for each run:\")\n",
    "for i, iterations in enumerate(all_iterations_to_best):\n",
    "    print(f\"Run {i+1}: Iterations to best = {iterations}\")"
   ]
  },
  {
   "cell_type": "code",
   "execution_count": 41,
   "id": "646d1042",
   "metadata": {},
   "outputs": [
    {
     "name": "stdout",
     "output_type": "stream",
     "text": [
      "\n",
      "Average results over 10 runs:\n",
      "Average best value: 3898.1\n",
      "Average best weight: 1498.7\n",
      "Average iterations to best solution: 691.7\n"
     ]
    }
   ],
   "source": [
    "# Output 4: Averages over 10 runs\n",
    "average_value = np.mean(all_values)\n",
    "average_weight = np.mean(all_weights)\n",
    "average_iterations_to_best = np.mean(all_iterations_to_best)\n",
    "\n",
    "print(\"\\nAverage results over 10 runs:\")\n",
    "print(f\"Average best value: {average_value}\")\n",
    "print(f\"Average best weight: {average_weight}\")\n",
    "print(f\"Average iterations to best solution: {average_iterations_to_best}\")"
   ]
  },
  {
   "cell_type": "code",
   "execution_count": 50,
   "id": "564249d4",
   "metadata": {},
   "outputs": [
    {
     "data": {
      "image/png": "[encoded data removed]",
      "text/plain": [
       "<Figure size 432x288 with 2 Axes>"
      ]
     },
     "metadata": {
      "needs_background": "light"
     },
     "output_type": "display_data"
    }
   ],
   "source": [
    "# (Output 2' )Plot the progression of the value history for one run\n",
    "\n",
    "# Create x-axis labels as Run 1, Run 2, ..., Run 10\n",
    "x_labels = [f\"Run {i+1}\" for i in range(len(all_values))]\n",
    "\n",
    "fig, ax1 = plt.subplots()\n",
    "\n",
    "# Bar plot for best values\n",
    "ax1.bar(np.arange(len(all_values)), all_values, tick_label=x_labels, color='b', alpha=0.7)\n",
    "ax1.set_xlabel(\"Run\")\n",
    "ax1.set_ylabel(\"Best Value\", color='b')\n",
    "ax1.set_title(\"Best value and iterations per run - Simulated Annealing\")\n",
    "ax1.tick_params(axis='y', labelcolor='b')\n",
    "\n",
    "# Create a second y-axis for the iterations\n",
    "ax2 = ax1.twinx()\n",
    "ax2.plot(np.arange(len(all_iterations_to_best)), all_iterations_to_best, color='r', marker='o', linestyle='-', linewidth=2)\n",
    "ax2.set_ylabel(\"Iterations to Best\", color='r')\n",
    "ax2.tick_params(axis='y', labelcolor='r')\n",
    "\n",
    "# Display the plot with rotated x-axis labels\n",
    "plt.xticks(rotation=45)\n",
    "plt.show()"
   ]
  },
  {
   "cell_type": "markdown",
   "id": "864b7fb3",
   "metadata": {},
   "source": [
    "# Tabu Search"
   ]
  },
  {
   "cell_type": "code",
   "execution_count": 62,
   "id": "2de9162b",
   "metadata": {},
   "outputs": [],
   "source": [
    "# Step 1: Calculate the total weight of the current solution\n",
    "def calculate_weight_T(solution):\n",
    "    return sum([solution[i] * weights[i] for i in range(len(solution))])\n",
    "\n",
    "# Step 2: Calculate the total value of the current solution\n",
    "def calculate_value_T(solution):\n",
    "    return sum([solution[i] * values[i] for i in range(len(solution))])"
   ]
  },
  {
   "cell_type": "code",
   "execution_count": 63,
   "id": "fbbf45cc",
   "metadata": {},
   "outputs": [],
   "source": [
    "# Step 3: Generate a neighboring solution by flipping a random bit\n",
    "def generate_neighbor_T(solution):\n",
    "    neighbor = solution.copy()\n",
    "    index = random.randint(0, len(solution) - 1)\n",
    "    neighbor[index] = 1 - neighbor[index]  # Flip the bit (add/remove item)\n",
    "    return neighbor"
   ]
  },
  {
   "cell_type": "code",
   "execution_count": 64,
   "id": "8f1ace51",
   "metadata": {},
   "outputs": [],
   "source": [
    "# Tabu Search Implementation with Aspiration Criteria\n",
    "def tabu_search(num_items, max_iterations=1000, tabu_tenure=10):\n",
    "    # Step 1: Generate initial solution (random binary vector)\n",
    "    current_solution = np.random.randint(2, size=num_items)\n",
    "    while calculate_weight_T(current_solution) > capacity:\n",
    "        current_solution = np.random.randint(2, size=num_items)\n",
    "\n",
    "    current_value = calculate_value_T(current_solution)\n",
    "    best_solution = current_solution.copy()\n",
    "    best_value = current_value\n",
    "    iterations_to_best = 0  # Track when the best solution is found\n",
    "\n",
    "    # Step 2: Initialize the Tabu List with a maximum length and use tuples for comparisons\n",
    "    tabu_list = deque(maxlen=tabu_tenure)\n",
    "    value_history = []  # To store value progression\n",
    "\n",
    "    for iteration in range(max_iterations):\n",
    "        # Step 3: Generate the neighborhood by flipping one bit at a time\n",
    "        neighborhood = [generate_neighbor_T(current_solution) for _ in range(10)]\n",
    "        \n",
    "        # Step 4: Find the best candidate solution from the neighborhood\n",
    "        candidate_solution = None\n",
    "        candidate_value = -1\n",
    "\n",
    "        for neighbor in neighborhood:\n",
    "            if calculate_weight_T(neighbor) <= capacity:\n",
    "                neighbor_value = calculate_value_T(neighbor)\n",
    "\n",
    "                # If the neighbor is better than the current best (Aspiration Criteria)\n",
    "                if neighbor_value > best_value:\n",
    "                    candidate_solution = neighbor\n",
    "                    candidate_value = neighbor_value\n",
    "                    break  # As we found a solution better than the current best, break out of the loop\n",
    "                \n",
    "                # If the neighbor is not in the Tabu List, it can be considered\n",
    "                if (tuple(neighbor) not in tabu_list):\n",
    "                    if neighbor_value > candidate_value:\n",
    "                        candidate_solution = neighbor\n",
    "                        candidate_value = neighbor_value\n",
    "\n",
    "        # Ensure we have a valid candidate solution\n",
    "        if candidate_solution is None:\n",
    "            continue  # Skip this iteration if no valid candidate is found\n",
    "\n",
    "        # Step 5: Update the current solution to the best candidate\n",
    "        current_solution = candidate_solution\n",
    "        current_value = candidate_value\n",
    "\n",
    "        # Update Tabu List with the current solution (convert to tuple for Tabu List storage)\n",
    "        tabu_list.append(tuple(current_solution))\n",
    "\n",
    "        # Step 6: Update the best solution found so far, considering Aspiration Criteria\n",
    "        if current_value > best_value:\n",
    "            best_solution = current_solution.copy()\n",
    "            best_value = current_value\n",
    "            iterations_to_best = iteration  # Record the iteration where the best solution is found\n",
    "\n",
    "        # Record value history for visualization\n",
    "        value_history.append(best_value)\n",
    "\n",
    "    return best_solution, best_value, iterations_to_best, value_history\n"
   ]
  },
  {
   "cell_type": "code",
   "execution_count": 65,
   "id": "411596ea",
   "metadata": {},
   "outputs": [],
   "source": [
    "# Run Tabu Search multiple times and record results\n",
    "num_runs = 10\n",
    "all_solutions_T = []\n",
    "all_values_T = []\n",
    "all_weights_T = []\n",
    "all_iterations_to_best_T = []\n",
    "\n",
    "for i in range(num_runs):\n",
    "    best_solution, best_value, iterations_to_best, value_history = tabu_search(len(weights))\n",
    "    all_solutions_T.append(best_solution)\n",
    "    all_values_T.append(best_value)\n",
    "    all_weights_T.append(calculate_weight(best_solution))\n",
    "    all_iterations_to_best_T.append(iterations_to_best)"
   ]
  },
  {
   "cell_type": "code",
   "execution_count": 66,
   "id": "15845301",
   "metadata": {},
   "outputs": [
    {
     "name": "stdout",
     "output_type": "stream",
     "text": [
      "Best solutions from each run:\n",
      "Run 1: [1 1 1 1 0 0 0 0 1 1 1 1 1 0 0 1 1 0 1 1 1 1 1 1 0 0 0 1 1 0 1 1 0 1 1 0 0\n",
      " 1 0 1 1 1 0 1 1 1 0 1 0 0 1 1 0 1 0 1 0 1 1 0 0 1 1 0 0 1 1 1 0 1 1 1 1 1\n",
      " 1 1 1 0 1 0 0 1 1 1 1 0 1 1 1 1 1 1 1 1 0 1 0 1 0 1]\n",
      "Run 2: [1 1 1 1 0 0 0 0 1 1 1 1 1 1 0 0 1 0 1 1 1 1 1 1 0 0 0 1 1 0 1 0 0 1 1 0 1\n",
      " 1 0 1 1 1 0 1 1 1 0 1 0 1 1 1 1 1 0 1 0 1 1 0 1 1 1 0 0 0 1 1 0 1 1 0 1 1\n",
      " 1 1 1 0 0 0 0 1 1 1 1 0 1 0 1 1 1 1 1 1 0 1 0 0 0 1]\n",
      "Run 3: [1 1 0 1 0 0 0 0 1 1 1 1 1 1 0 1 0 0 1 1 1 1 1 1 0 0 0 1 0 0 1 0 1 1 1 0 0\n",
      " 1 1 1 1 1 0 1 1 1 0 1 0 1 1 1 0 1 1 1 0 0 1 0 1 1 1 0 1 1 1 1 0 1 1 1 1 1\n",
      " 1 1 1 0 0 0 0 1 1 1 1 0 1 0 1 1 1 1 1 1 0 1 0 1 0 0]\n",
      "Run 4: [1 1 1 1 0 0 0 0 1 1 1 1 1 1 1 1 1 0 1 1 1 1 1 1 0 0 0 1 1 0 1 1 0 1 1 0 0\n",
      " 1 1 1 1 1 0 0 1 1 0 1 0 1 1 1 1 1 1 0 0 1 1 0 0 1 1 0 0 1 1 1 0 1 1 1 0 1\n",
      " 1 1 1 0 1 0 0 1 1 1 1 0 1 0 1 1 1 1 1 1 0 1 0 1 0 1]\n",
      "Run 5: [1 1 1 1 0 0 0 0 1 1 1 1 1 0 0 1 0 0 1 1 1 1 1 1 1 0 0 1 1 0 1 1 0 1 1 0 0\n",
      " 1 0 1 1 1 0 0 1 1 0 1 0 1 1 1 0 1 1 1 0 1 1 0 0 1 1 0 0 1 1 1 0 1 1 1 0 1\n",
      " 1 1 0 0 1 0 0 1 1 1 1 0 1 1 1 1 1 1 1 1 0 1 0 1 0 1]\n",
      "Run 6: [1 1 0 1 0 0 0 0 1 1 1 1 1 1 0 1 0 0 1 1 1 1 1 1 0 0 0 1 1 0 1 0 1 1 1 0 1\n",
      " 1 0 1 1 1 0 1 1 1 0 1 0 0 1 1 0 1 1 0 1 1 1 0 0 1 1 0 1 1 1 1 0 1 1 1 1 1\n",
      " 1 1 1 0 1 0 0 1 1 0 1 0 1 1 1 1 1 1 1 1 0 1 0 1 0 1]\n",
      "Run 7: [1 1 1 1 0 0 0 0 1 1 1 1 1 0 0 1 1 0 1 1 1 1 1 1 0 0 0 1 1 0 1 0 1 1 1 0 1\n",
      " 1 0 1 1 1 0 0 1 1 0 1 0 0 1 1 1 1 1 1 0 1 1 0 1 1 1 0 1 0 1 1 0 1 1 1 0 1\n",
      " 1 1 1 0 0 0 0 1 1 1 1 0 1 1 1 1 0 1 1 1 1 1 0 1 0 0]\n",
      "Run 8: [1 1 1 1 0 0 0 0 1 1 1 1 1 0 0 1 0 0 1 1 1 1 1 1 0 0 0 1 1 0 1 1 0 1 1 0 0\n",
      " 1 1 1 1 1 0 1 1 1 1 1 0 1 1 1 0 1 0 1 0 1 1 0 0 0 1 0 1 1 0 1 0 1 1 1 1 1\n",
      " 1 1 1 0 1 0 0 1 1 1 1 0 1 1 1 1 1 1 1 1 0 1 0 0 0 1]\n",
      "Run 9: [1 1 1 1 0 0 0 0 1 1 1 1 1 0 0 1 0 0 1 1 1 1 1 1 0 0 0 1 0 0 1 0 1 1 1 0 1\n",
      " 1 0 1 1 1 0 1 1 1 1 1 0 0 1 1 0 1 1 1 0 1 1 0 0 1 1 0 1 1 1 1 0 1 1 1 1 1\n",
      " 1 1 1 0 0 0 0 1 1 1 1 0 1 0 1 1 1 1 1 1 1 1 0 1 0 1]\n",
      "Run 10: [1 1 1 1 0 0 0 0 1 1 1 1 1 1 0 1 0 0 1 1 1 1 1 1 0 0 0 1 1 0 1 0 1 1 1 0 1\n",
      " 1 0 1 1 1 0 0 1 1 0 1 0 1 1 1 0 1 1 1 0 1 1 0 1 1 1 0 0 1 1 1 0 1 1 1 1 1\n",
      " 1 1 1 0 0 0 0 1 1 0 1 0 1 1 1 1 0 1 1 1 0 1 0 1 0 0]\n"
     ]
    }
   ],
   "source": [
    "# Output 1: Best solutions for each run\n",
    "print(\"Best solutions from each run:\")\n",
    "for i, solution in enumerate(all_solutions_T):\n",
    "    print(f\"Run {i+1}: {solution}\")"
   ]
  },
  {
   "cell_type": "code",
   "execution_count": 67,
   "id": "70ebf367",
   "metadata": {},
   "outputs": [
    {
     "name": "stdout",
     "output_type": "stream",
     "text": [
      "\n",
      "Best values and weights from each run:\n",
      "Run 1: Best value = 4414, Best weight = 1480\n",
      "Run 2: Best value = 4374, Best weight = 1491\n",
      "Run 3: Best value = 4396, Best weight = 1499\n",
      "Run 4: Best value = 4383, Best weight = 1498\n",
      "Run 5: Best value = 4364, Best weight = 1477\n",
      "Run 6: Best value = 4373, Best weight = 1497\n",
      "Run 7: Best value = 4380, Best weight = 1492\n",
      "Run 8: Best value = 4382, Best weight = 1497\n",
      "Run 9: Best value = 4417, Best weight = 1494\n",
      "Run 10: Best value = 4410, Best weight = 1493\n"
     ]
    }
   ],
   "source": [
    "# Output 2: Best values and weights for each run\n",
    "print(\"\\nBest values and weights from each run:\")\n",
    "for i, (value, weight) in enumerate(zip(all_values_T, all_weights_T)):\n",
    "    print(f\"Run {i+1}: Best value = {value}, Best weight = {weight}\")"
   ]
  },
  {
   "cell_type": "code",
   "execution_count": 68,
   "id": "a1e3e7c0",
   "metadata": {},
   "outputs": [
    {
     "name": "stdout",
     "output_type": "stream",
     "text": [
      "\n",
      "Iterations to reach the best solution for each run:\n",
      "Run 1: Iterations to best = 242\n",
      "Run 2: Iterations to best = 732\n",
      "Run 3: Iterations to best = 672\n",
      "Run 4: Iterations to best = 234\n",
      "Run 5: Iterations to best = 434\n",
      "Run 6: Iterations to best = 217\n",
      "Run 7: Iterations to best = 424\n",
      "Run 8: Iterations to best = 944\n",
      "Run 9: Iterations to best = 974\n",
      "Run 10: Iterations to best = 433\n"
     ]
    }
   ],
   "source": [
    "# Output 3: Number of iterations to reach the best solution for each run\n",
    "print(\"\\nIterations to reach the best solution for each run:\")\n",
    "for i, iterations in enumerate(all_iterations_to_best_T):\n",
    "    print(f\"Run {i+1}: Iterations to best = {iterations}\")"
   ]
  },
  {
   "cell_type": "code",
   "execution_count": 69,
   "id": "86dfdbfb",
   "metadata": {},
   "outputs": [
    {
     "name": "stdout",
     "output_type": "stream",
     "text": [
      "\n",
      "Average results over 10 runs:\n",
      "Average best value: 4389.3\n",
      "Average best weight: 1491.8\n",
      "Average iterations to best solution: 530.6\n"
     ]
    }
   ],
   "source": [
    "# Output 4: Averages over 10 runs\n",
    "average_value_T = np.mean(all_values_T)\n",
    "average_weight_T = np.mean(all_weights_T)\n",
    "average_iterations_to_best_T = np.mean(all_iterations_to_best_T)\n",
    "\n",
    "print(\"\\nAverage results over 10 runs:\")\n",
    "print(f\"Average best value: {average_value_T}\")\n",
    "print(f\"Average best weight: {average_weight_T}\")\n",
    "print(f\"Average iterations to best solution: {average_iterations_to_best_T}\")"
   ]
  },
  {
   "cell_type": "code",
   "execution_count": 70,
   "id": "6b1f7fec",
   "metadata": {},
   "outputs": [
    {
     "data": {
      "image/png": "[encoded data removed]",
      "text/plain": [
       "<Figure size 432x288 with 2 Axes>"
      ]
     },
     "metadata": {
      "needs_background": "light"
     },
     "output_type": "display_data"
    }
   ],
   "source": [
    "# (Output 2' )Plot the progression of the value history for one run\n",
    "\n",
    "# Create x-axis labels as Run 1, Run 2, ..., Run 10\n",
    "x_labels = [f\"Run {i+1}\" for i in range(len(all_values_T))]\n",
    "\n",
    "fig, ax1 = plt.subplots()\n",
    "\n",
    "# Bar plot for best values\n",
    "ax1.bar(np.arange(len(all_values_T)), all_values_T, tick_label=x_labels, color='b', alpha=0.7)\n",
    "ax1.set_xlabel(\"Run\")\n",
    "ax1.set_ylabel(\"Best Value\", color='b')\n",
    "ax1.set_title(\"Best value and iterations per run - Tabu Search\")\n",
    "ax1.tick_params(axis='y', labelcolor='b')\n",
    "\n",
    "# Create a second y-axis for the iterations\n",
    "ax2 = ax1.twinx()\n",
    "ax2.plot(np.arange(len(all_iterations_to_best_T)), all_iterations_to_best_T, color='r', marker='o', linestyle='-', linewidth=2)\n",
    "ax2.set_ylabel(\"Iterations to Best\", color='r')\n",
    "ax2.tick_params(axis='y', labelcolor='r')\n",
    "\n",
    "# Display the plot with rotated x-axis labels\n",
    "plt.xticks(rotation=45)\n",
    "plt.show()"
   ]
  },
  {
   "cell_type": "markdown",
   "id": "f362fd19",
   "metadata": {},
   "source": [
    "# Comparative Analysis"
   ]
  },
  {
   "cell_type": "code",
   "execution_count": 71,
   "id": "ad679f7a",
   "metadata": {},
   "outputs": [
    {
     "name": "stderr",
     "output_type": "stream",
     "text": [
      "/var/folders/p0/929y8gm10wn_vxfvzswzkltw0000gn/T/ipykernel_91709/2546372683.py:35: FutureWarning: this method is deprecated in favour of `Styler.hide(axis='index')`\n",
      "  df_table = df_table.style.hide_index()\n"
     ]
    },
    {
     "data": {
      "text/html": [
       "<style type=\"text/css\">\n",
       "</style>\n",
       "<table id=\"T_9a6c3\">\n",
       "  <thead>\n",
       "    <tr>\n",
       "      <th id=\"T_9a6c3_level0_col0\" class=\"col_heading level0 col0\" >Aspect</th>\n",
       "      <th id=\"T_9a6c3_level0_col1\" class=\"col_heading level0 col1\" >Simulated Annealing</th>\n",
       "      <th id=\"T_9a6c3_level0_col2\" class=\"col_heading level0 col2\" >Tabu Search</th>\n",
       "    </tr>\n",
       "  </thead>\n",
       "  <tbody>\n",
       "    <tr>\n",
       "      <td id=\"T_9a6c3_row0_col0\" class=\"data row0 col0\" >Best Value (10 runs)</td>\n",
       "      <td id=\"T_9a6c3_row0_col1\" class=\"data row0 col1\" >4163</td>\n",
       "      <td id=\"T_9a6c3_row0_col2\" class=\"data row0 col2\" >4417</td>\n",
       "    </tr>\n",
       "    <tr>\n",
       "      <td id=\"T_9a6c3_row1_col0\" class=\"data row1 col0\" >Average Value</td>\n",
       "      <td id=\"T_9a6c3_row1_col1\" class=\"data row1 col1\" >3898</td>\n",
       "      <td id=\"T_9a6c3_row1_col2\" class=\"data row1 col2\" >4389</td>\n",
       "    </tr>\n",
       "    <tr>\n",
       "      <td id=\"T_9a6c3_row2_col0\" class=\"data row2 col0\" >Average Iterations</td>\n",
       "      <td id=\"T_9a6c3_row2_col1\" class=\"data row2 col1\" >691</td>\n",
       "      <td id=\"T_9a6c3_row2_col2\" class=\"data row2 col2\" >530</td>\n",
       "    </tr>\n",
       "    <tr>\n",
       "      <td id=\"T_9a6c3_row3_col0\" class=\"data row3 col0\" >Std Dev of Best Values</td>\n",
       "      <td id=\"T_9a6c3_row3_col1\" class=\"data row3 col1\" >147</td>\n",
       "      <td id=\"T_9a6c3_row3_col2\" class=\"data row3 col2\" >17</td>\n",
       "    </tr>\n",
       "    <tr>\n",
       "      <td id=\"T_9a6c3_row4_col0\" class=\"data row4 col0\" >Std Dev of Iterations</td>\n",
       "      <td id=\"T_9a6c3_row4_col1\" class=\"data row4 col1\" >287</td>\n",
       "      <td id=\"T_9a6c3_row4_col2\" class=\"data row4 col2\" >269</td>\n",
       "    </tr>\n",
       "  </tbody>\n",
       "</table>\n"
      ],
      "text/plain": [
       "<pandas.io.formats.style.Styler at 0x7fde1a979e50>"
      ]
     },
     "execution_count": 71,
     "metadata": {},
     "output_type": "execute_result"
    }
   ],
   "source": [
    "# Standard deviation for best values across 10 runs for Simulated Annealing and Tabu Search\n",
    "std_dev_values_sa = np.std(all_values)\n",
    "std_dev_values_ts = np.std(all_values_T)\n",
    "\n",
    "# Standard deviation for iterations to best solution across 10 runs for Simulated Annealing and Tabu Search\n",
    "std_dev_iterations_sa = np.std(all_iterations_to_best)\n",
    "std_dev_iterations_ts = np.std(all_iterations_to_best_T)\n",
    "\n",
    "# Data for the table\n",
    "df_table = pd.DataFrame({\n",
    "    'Aspect': [\n",
    "        'Best Value (10 runs)',\n",
    "        'Average Value',\n",
    "        'Average Iterations',\n",
    "        'Std Dev of Best Values',\n",
    "        'Std Dev of Iterations'\n",
    "    ],\n",
    "    'Simulated Annealing': [\n",
    "        int(np.max(all_values)),\n",
    "        int(np.mean(all_values)),\n",
    "        int(np.mean(all_iterations_to_best)),\n",
    "        int(np.std(all_values)),\n",
    "        int(np.std(all_iterations_to_best))\n",
    "    ],\n",
    "    'Tabu Search': [\n",
    "        int(np.max(all_values_T)),\n",
    "        int(np.mean(all_values_T)),\n",
    "        int(np.mean(all_iterations_to_best_T)),\n",
    "        int(np.std(all_values_T)),\n",
    "        int(np.std(all_iterations_to_best_T))\n",
    "    ]\n",
    "})\n",
    "\n",
    "# Convert to DataFrame\n",
    "df_table = df_table.style.hide_index()\n",
    "df_table"
   ]
  },
  {
   "cell_type": "code",
   "execution_count": null,
   "id": "690c4dcc",
   "metadata": {},
   "outputs": [],
   "source": []
  }
 ],
 "metadata": {
  "kernelspec": {
   "display_name": "Python 3 (ipykernel)",
   "language": "python",
   "name": "python3"
  },
  "language_info": {
   "codemirror_mode": {
    "name": "ipython",
    "version": 3
   },
   "file_extension": ".py",
   "mimetype": "text/x-python",
   "name": "python",
   "nbconvert_exporter": "python",
   "pygments_lexer": "ipython3",
   "version": "3.8.2"
  }
 },
 "nbformat": 4,
 "nbformat_minor": 5
}
