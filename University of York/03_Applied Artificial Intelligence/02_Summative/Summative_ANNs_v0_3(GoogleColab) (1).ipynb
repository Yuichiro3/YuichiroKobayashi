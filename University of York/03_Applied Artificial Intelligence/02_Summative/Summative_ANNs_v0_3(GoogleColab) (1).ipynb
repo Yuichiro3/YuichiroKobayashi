{
  "nbformat": 4,
  "nbformat_minor": 0,
  "metadata": {
    "colab": {
      "provenance": [],
      "collapsed_sections": [
        "hY7xMZRs2POg",
        "4hx7eTnv8zlL",
        "uJXQBoFN-c5e",
        "vK-BkFqf5kvA",
        "rA1mgKBc9ERq",
        "pL4koC422ZtX",
        "TvHPZCwc_xbH",
        "HcXQZy5uAYyU",
        "xfOSI3Jn_xdp",
        "7AFC6x6Bws97",
        "hdfPROAgw-4Q",
        "9vtDfkQSxGbE"
      ]
    },
    "kernelspec": {
      "name": "python3",
      "display_name": "Python 3"
    },
    "language_info": {
      "name": "python"
    }
  },
  "cells": [
    {
      "cell_type": "code",
      "execution_count": null,
      "metadata": {
        "id": "6oiJv54WOyqr"
      },
      "outputs": [],
      "source": [
        "import pandas as pd"
      ]
    },
    {
      "cell_type": "code",
      "source": [
        "import numpy as np\n",
        "from sklearn.model_selection import train_test_split\n",
        "from sklearn.preprocessing import StandardScaler\n",
        "from keras.models import Sequential\n",
        "from keras.layers import Dense\n",
        "from sklearn.metrics import confusion_matrix, classification_report"
      ],
      "metadata": {
        "id": "_kjCC0aoO1gp"
      },
      "execution_count": null,
      "outputs": []
    },
    {
      "cell_type": "code",
      "source": [
        "# データの読み込み\n",
        "df = pd.read_csv(\"cleaned_dataset_v0.2.csv\")"
      ],
      "metadata": {
        "id": "kJXUiA1CO2dY"
      },
      "execution_count": null,
      "outputs": []
    },
    {
      "cell_type": "code",
      "source": [
        "df.head()"
      ],
      "metadata": {
        "colab": {
          "base_uri": "https://localhost:8080/",
          "height": 330
        },
        "id": "aqKlDo2jO2fs",
        "outputId": "c6ea7561-cb7a-4339-83ad-30342014f6fe"
      },
      "execution_count": null,
      "outputs": [
        {
          "output_type": "execute_result",
          "data": {
            "text/plain": [
              "   Country  Year  UFMR(per1000births)_Both  UFMR(per1000births)_Male  \\\n",
              "0  Algeria  2012                     26.49                     28.25   \n",
              "1  Algeria  2006                     32.34                     34.42   \n",
              "2   Angola  2015                     88.34                     95.01   \n",
              "3    Benin  2014                    100.13                    106.74   \n",
              "4    Benin  2012                    104.60                    111.33   \n",
              "\n",
              "   UFMR(per1000births)_Female  Number_of_deaths_UF_Both  \\\n",
              "0                       24.65                   24174.0   \n",
              "1                       30.10                   22698.0   \n",
              "2                       81.18                  100216.0   \n",
              "3                       93.10                   39709.0   \n",
              "4                       97.46                   39244.0   \n",
              "\n",
              "   Number_of_deaths_UF_Male  Number_of_deaths_UF_Female  \\\n",
              "0                   13188.0                     10986.0   \n",
              "1                   12399.0                     10299.0   \n",
              "2                   54635.0                     45581.0   \n",
              "3                   21615.0                     18094.0   \n",
              "4                   21327.0                     17917.0   \n",
              "\n",
              "   Early initiation of breastfeeding (%)  \\\n",
              "0                                   35.7   \n",
              "1                                   49.5   \n",
              "2                                   48.3   \n",
              "3                                   46.6   \n",
              "4                                   50.4   \n",
              "\n",
              "   Infants exclusively breastfed for the first six months of life (%)  Region  \\\n",
              "0                                               25.4                   Africa   \n",
              "1                                                6.9                   Africa   \n",
              "2                                               37.4                   Africa   \n",
              "3                                               41.4                   Africa   \n",
              "4                                               32.5                   Africa   \n",
              "\n",
              "    UFMR_SDGS_Category  \n",
              "0  Target Not Achieved  \n",
              "1  Target Not Achieved  \n",
              "2  Target Not Achieved  \n",
              "3  Target Not Achieved  \n",
              "4  Target Not Achieved  "
            ],
            "text/html": [
              "\n",
              "  <div id=\"df-909051da-27aa-48cc-b1ee-2e36f5fc25ec\" class=\"colab-df-container\">\n",
              "    <div>\n",
              "<style scoped>\n",
              "    .dataframe tbody tr th:only-of-type {\n",
              "        vertical-align: middle;\n",
              "    }\n",
              "\n",
              "    .dataframe tbody tr th {\n",
              "        vertical-align: top;\n",
              "    }\n",
              "\n",
              "    .dataframe thead th {\n",
              "        text-align: right;\n",
              "    }\n",
              "</style>\n",
              "<table border=\"1\" class=\"dataframe\">\n",
              "  <thead>\n",
              "    <tr style=\"text-align: right;\">\n",
              "      <th></th>\n",
              "      <th>Country</th>\n",
              "      <th>Year</th>\n",
              "      <th>UFMR(per1000births)_Both</th>\n",
              "      <th>UFMR(per1000births)_Male</th>\n",
              "      <th>UFMR(per1000births)_Female</th>\n",
              "      <th>Number_of_deaths_UF_Both</th>\n",
              "      <th>Number_of_deaths_UF_Male</th>\n",
              "      <th>Number_of_deaths_UF_Female</th>\n",
              "      <th>Early initiation of breastfeeding (%)</th>\n",
              "      <th>Infants exclusively breastfed for the first six months of life (%)</th>\n",
              "      <th>Region</th>\n",
              "      <th>UFMR_SDGS_Category</th>\n",
              "    </tr>\n",
              "  </thead>\n",
              "  <tbody>\n",
              "    <tr>\n",
              "      <th>0</th>\n",
              "      <td>Algeria</td>\n",
              "      <td>2012</td>\n",
              "      <td>26.49</td>\n",
              "      <td>28.25</td>\n",
              "      <td>24.65</td>\n",
              "      <td>24174.0</td>\n",
              "      <td>13188.0</td>\n",
              "      <td>10986.0</td>\n",
              "      <td>35.7</td>\n",
              "      <td>25.4</td>\n",
              "      <td>Africa</td>\n",
              "      <td>Target Not Achieved</td>\n",
              "    </tr>\n",
              "    <tr>\n",
              "      <th>1</th>\n",
              "      <td>Algeria</td>\n",
              "      <td>2006</td>\n",
              "      <td>32.34</td>\n",
              "      <td>34.42</td>\n",
              "      <td>30.10</td>\n",
              "      <td>22698.0</td>\n",
              "      <td>12399.0</td>\n",
              "      <td>10299.0</td>\n",
              "      <td>49.5</td>\n",
              "      <td>6.9</td>\n",
              "      <td>Africa</td>\n",
              "      <td>Target Not Achieved</td>\n",
              "    </tr>\n",
              "    <tr>\n",
              "      <th>2</th>\n",
              "      <td>Angola</td>\n",
              "      <td>2015</td>\n",
              "      <td>88.34</td>\n",
              "      <td>95.01</td>\n",
              "      <td>81.18</td>\n",
              "      <td>100216.0</td>\n",
              "      <td>54635.0</td>\n",
              "      <td>45581.0</td>\n",
              "      <td>48.3</td>\n",
              "      <td>37.4</td>\n",
              "      <td>Africa</td>\n",
              "      <td>Target Not Achieved</td>\n",
              "    </tr>\n",
              "    <tr>\n",
              "      <th>3</th>\n",
              "      <td>Benin</td>\n",
              "      <td>2014</td>\n",
              "      <td>100.13</td>\n",
              "      <td>106.74</td>\n",
              "      <td>93.10</td>\n",
              "      <td>39709.0</td>\n",
              "      <td>21615.0</td>\n",
              "      <td>18094.0</td>\n",
              "      <td>46.6</td>\n",
              "      <td>41.4</td>\n",
              "      <td>Africa</td>\n",
              "      <td>Target Not Achieved</td>\n",
              "    </tr>\n",
              "    <tr>\n",
              "      <th>4</th>\n",
              "      <td>Benin</td>\n",
              "      <td>2012</td>\n",
              "      <td>104.60</td>\n",
              "      <td>111.33</td>\n",
              "      <td>97.46</td>\n",
              "      <td>39244.0</td>\n",
              "      <td>21327.0</td>\n",
              "      <td>17917.0</td>\n",
              "      <td>50.4</td>\n",
              "      <td>32.5</td>\n",
              "      <td>Africa</td>\n",
              "      <td>Target Not Achieved</td>\n",
              "    </tr>\n",
              "  </tbody>\n",
              "</table>\n",
              "</div>\n",
              "    <div class=\"colab-df-buttons\">\n",
              "\n",
              "  <div class=\"colab-df-container\">\n",
              "    <button class=\"colab-df-convert\" onclick=\"convertToInteractive('df-909051da-27aa-48cc-b1ee-2e36f5fc25ec')\"\n",
              "            title=\"Convert this dataframe to an interactive table.\"\n",
              "            style=\"display:none;\">\n",
              "\n",
              "  <svg xmlns=\"http://www.w3.org/2000/svg\" height=\"24px\" viewBox=\"0 -960 960 960\">\n",
              "    <path d=\"M120-120v-720h720v720H120Zm60-500h600v-160H180v160Zm220 220h160v-160H400v160Zm0 220h160v-160H400v160ZM180-400h160v-160H180v160Zm440 0h160v-160H620v160ZM180-180h160v-160H180v160Zm440 0h160v-160H620v160Z\"/>\n",
              "  </svg>\n",
              "    </button>\n",
              "\n",
              "  <style>\n",
              "    .colab-df-container {\n",
              "      display:flex;\n",
              "      gap: 12px;\n",
              "    }\n",
              "\n",
              "    .colab-df-convert {\n",
              "      background-color: #E8F0FE;\n",
              "      border: none;\n",
              "      border-radius: 50%;\n",
              "      cursor: pointer;\n",
              "      display: none;\n",
              "      fill: #1967D2;\n",
              "      height: 32px;\n",
              "      padding: 0 0 0 0;\n",
              "      width: 32px;\n",
              "    }\n",
              "\n",
              "    .colab-df-convert:hover {\n",
              "      background-color: #E2EBFA;\n",
              "      box-shadow: 0px 1px 2px rgba(60, 64, 67, 0.3), 0px 1px 3px 1px rgba(60, 64, 67, 0.15);\n",
              "      fill: #174EA6;\n",
              "    }\n",
              "\n",
              "    .colab-df-buttons div {\n",
              "      margin-bottom: 4px;\n",
              "    }\n",
              "\n",
              "    [theme=dark] .colab-df-convert {\n",
              "      background-color: #3B4455;\n",
              "      fill: #D2E3FC;\n",
              "    }\n",
              "\n",
              "    [theme=dark] .colab-df-convert:hover {\n",
              "      background-color: #434B5C;\n",
              "      box-shadow: 0px 1px 3px 1px rgba(0, 0, 0, 0.15);\n",
              "      filter: drop-shadow(0px 1px 2px rgba(0, 0, 0, 0.3));\n",
              "      fill: #FFFFFF;\n",
              "    }\n",
              "  </style>\n",
              "\n",
              "    <script>\n",
              "      const buttonEl =\n",
              "        document.querySelector('#df-909051da-27aa-48cc-b1ee-2e36f5fc25ec button.colab-df-convert');\n",
              "      buttonEl.style.display =\n",
              "        google.colab.kernel.accessAllowed ? 'block' : 'none';\n",
              "\n",
              "      async function convertToInteractive(key) {\n",
              "        const element = document.querySelector('#df-909051da-27aa-48cc-b1ee-2e36f5fc25ec');\n",
              "        const dataTable =\n",
              "          await google.colab.kernel.invokeFunction('convertToInteractive',\n",
              "                                                    [key], {});\n",
              "        if (!dataTable) return;\n",
              "\n",
              "        const docLinkHtml = 'Like what you see? Visit the ' +\n",
              "          '<a target=\"_blank\" href=https://colab.research.google.com/notebooks/data_table.ipynb>data table notebook</a>'\n",
              "          + ' to learn more about interactive tables.';\n",
              "        element.innerHTML = '';\n",
              "        dataTable['output_type'] = 'display_data';\n",
              "        await google.colab.output.renderOutput(dataTable, element);\n",
              "        const docLink = document.createElement('div');\n",
              "        docLink.innerHTML = docLinkHtml;\n",
              "        element.appendChild(docLink);\n",
              "      }\n",
              "    </script>\n",
              "  </div>\n",
              "\n",
              "\n",
              "<div id=\"df-9d405680-2bdf-4900-8b4d-eeb30bd23bd4\">\n",
              "  <button class=\"colab-df-quickchart\" onclick=\"quickchart('df-9d405680-2bdf-4900-8b4d-eeb30bd23bd4')\"\n",
              "            title=\"Suggest charts\"\n",
              "            style=\"display:none;\">\n",
              "\n",
              "<svg xmlns=\"http://www.w3.org/2000/svg\" height=\"24px\"viewBox=\"0 0 24 24\"\n",
              "     width=\"24px\">\n",
              "    <g>\n",
              "        <path d=\"M19 3H5c-1.1 0-2 .9-2 2v14c0 1.1.9 2 2 2h14c1.1 0 2-.9 2-2V5c0-1.1-.9-2-2-2zM9 17H7v-7h2v7zm4 0h-2V7h2v10zm4 0h-2v-4h2v4z\"/>\n",
              "    </g>\n",
              "</svg>\n",
              "  </button>\n",
              "\n",
              "<style>\n",
              "  .colab-df-quickchart {\n",
              "      --bg-color: #E8F0FE;\n",
              "      --fill-color: #1967D2;\n",
              "      --hover-bg-color: #E2EBFA;\n",
              "      --hover-fill-color: #174EA6;\n",
              "      --disabled-fill-color: #AAA;\n",
              "      --disabled-bg-color: #DDD;\n",
              "  }\n",
              "\n",
              "  [theme=dark] .colab-df-quickchart {\n",
              "      --bg-color: #3B4455;\n",
              "      --fill-color: #D2E3FC;\n",
              "      --hover-bg-color: #434B5C;\n",
              "      --hover-fill-color: #FFFFFF;\n",
              "      --disabled-bg-color: #3B4455;\n",
              "      --disabled-fill-color: #666;\n",
              "  }\n",
              "\n",
              "  .colab-df-quickchart {\n",
              "    background-color: var(--bg-color);\n",
              "    border: none;\n",
              "    border-radius: 50%;\n",
              "    cursor: pointer;\n",
              "    display: none;\n",
              "    fill: var(--fill-color);\n",
              "    height: 32px;\n",
              "    padding: 0;\n",
              "    width: 32px;\n",
              "  }\n",
              "\n",
              "  .colab-df-quickchart:hover {\n",
              "    background-color: var(--hover-bg-color);\n",
              "    box-shadow: 0 1px 2px rgba(60, 64, 67, 0.3), 0 1px 3px 1px rgba(60, 64, 67, 0.15);\n",
              "    fill: var(--button-hover-fill-color);\n",
              "  }\n",
              "\n",
              "  .colab-df-quickchart-complete:disabled,\n",
              "  .colab-df-quickchart-complete:disabled:hover {\n",
              "    background-color: var(--disabled-bg-color);\n",
              "    fill: var(--disabled-fill-color);\n",
              "    box-shadow: none;\n",
              "  }\n",
              "\n",
              "  .colab-df-spinner {\n",
              "    border: 2px solid var(--fill-color);\n",
              "    border-color: transparent;\n",
              "    border-bottom-color: var(--fill-color);\n",
              "    animation:\n",
              "      spin 1s steps(1) infinite;\n",
              "  }\n",
              "\n",
              "  @keyframes spin {\n",
              "    0% {\n",
              "      border-color: transparent;\n",
              "      border-bottom-color: var(--fill-color);\n",
              "      border-left-color: var(--fill-color);\n",
              "    }\n",
              "    20% {\n",
              "      border-color: transparent;\n",
              "      border-left-color: var(--fill-color);\n",
              "      border-top-color: var(--fill-color);\n",
              "    }\n",
              "    30% {\n",
              "      border-color: transparent;\n",
              "      border-left-color: var(--fill-color);\n",
              "      border-top-color: var(--fill-color);\n",
              "      border-right-color: var(--fill-color);\n",
              "    }\n",
              "    40% {\n",
              "      border-color: transparent;\n",
              "      border-right-color: var(--fill-color);\n",
              "      border-top-color: var(--fill-color);\n",
              "    }\n",
              "    60% {\n",
              "      border-color: transparent;\n",
              "      border-right-color: var(--fill-color);\n",
              "    }\n",
              "    80% {\n",
              "      border-color: transparent;\n",
              "      border-right-color: var(--fill-color);\n",
              "      border-bottom-color: var(--fill-color);\n",
              "    }\n",
              "    90% {\n",
              "      border-color: transparent;\n",
              "      border-bottom-color: var(--fill-color);\n",
              "    }\n",
              "  }\n",
              "</style>\n",
              "\n",
              "  <script>\n",
              "    async function quickchart(key) {\n",
              "      const quickchartButtonEl =\n",
              "        document.querySelector('#' + key + ' button');\n",
              "      quickchartButtonEl.disabled = true;  // To prevent multiple clicks.\n",
              "      quickchartButtonEl.classList.add('colab-df-spinner');\n",
              "      try {\n",
              "        const charts = await google.colab.kernel.invokeFunction(\n",
              "            'suggestCharts', [key], {});\n",
              "      } catch (error) {\n",
              "        console.error('Error during call to suggestCharts:', error);\n",
              "      }\n",
              "      quickchartButtonEl.classList.remove('colab-df-spinner');\n",
              "      quickchartButtonEl.classList.add('colab-df-quickchart-complete');\n",
              "    }\n",
              "    (() => {\n",
              "      let quickchartButtonEl =\n",
              "        document.querySelector('#df-9d405680-2bdf-4900-8b4d-eeb30bd23bd4 button');\n",
              "      quickchartButtonEl.style.display =\n",
              "        google.colab.kernel.accessAllowed ? 'block' : 'none';\n",
              "    })();\n",
              "  </script>\n",
              "</div>\n",
              "\n",
              "    </div>\n",
              "  </div>\n"
            ],
            "application/vnd.google.colaboratory.intrinsic+json": {
              "type": "dataframe",
              "variable_name": "df",
              "summary": "{\n  \"name\": \"df\",\n  \"rows\": 383,\n  \"fields\": [\n    {\n      \"column\": \"Country\",\n      \"properties\": {\n        \"dtype\": \"category\",\n        \"num_unique_values\": 127,\n        \"samples\": [\n          \"Malawi\",\n          \"Thailand\",\n          \"Syrian Arab Republic\"\n        ],\n        \"semantic_type\": \"\",\n        \"description\": \"\"\n      }\n    },\n    {\n      \"column\": \"Year\",\n      \"properties\": {\n        \"dtype\": \"number\",\n        \"std\": 6,\n        \"min\": 1991,\n        \"max\": 2018,\n        \"num_unique_values\": 27,\n        \"samples\": [\n          2016,\n          2004,\n          1998\n        ],\n        \"semantic_type\": \"\",\n        \"description\": \"\"\n      }\n    },\n    {\n      \"column\": \"UFMR(per1000births)_Both\",\n      \"properties\": {\n        \"dtype\": \"number\",\n        \"std\": 49.07524755155621,\n        \"min\": 4.86,\n        \"max\": 316.64,\n        \"num_unique_values\": 379,\n        \"samples\": [\n          23.45,\n          11.86,\n          31.23\n        ],\n        \"semantic_type\": \"\",\n        \"description\": \"\"\n      }\n    },\n    {\n      \"column\": \"UFMR(per1000births)_Male\",\n      \"properties\": {\n        \"dtype\": \"number\",\n        \"std\": 51.040181375810896,\n        \"min\": 5.28,\n        \"max\": 319.91,\n        \"num_unique_values\": 378,\n        \"samples\": [\n          26.0,\n          74.91,\n          67.6\n        ],\n        \"semantic_type\": \"\",\n        \"description\": \"\"\n      }\n    },\n    {\n      \"column\": \"UFMR(per1000births)_Female\",\n      \"properties\": {\n        \"dtype\": \"number\",\n        \"std\": 47.068021339360385,\n        \"min\": 4.22,\n        \"max\": 313.07,\n        \"num_unique_values\": 376,\n        \"samples\": [\n          9.3,\n          18.86,\n          69.66\n        ],\n        \"semantic_type\": \"\",\n        \"description\": \"\"\n      }\n    },\n    {\n      \"column\": \"Number_of_deaths_UF_Both\",\n      \"properties\": {\n        \"dtype\": \"number\",\n        \"std\": 213836.26636308682,\n        \"min\": 8.0,\n        \"max\": 2672618.0,\n        \"num_unique_values\": 382,\n        \"samples\": [\n          336.0,\n          36523.0,\n          7385.0\n        ],\n        \"semantic_type\": \"\",\n        \"description\": \"\"\n      }\n    },\n    {\n      \"column\": \"Number_of_deaths_UF_Male\",\n      \"properties\": {\n        \"dtype\": \"number\",\n        \"std\": 109561.40349132808,\n        \"min\": 4.0,\n        \"max\": 1330384.0,\n        \"num_unique_values\": 380,\n        \"samples\": [\n          2069.0,\n          46601.0,\n          6172.0\n        ],\n        \"semantic_type\": \"\",\n        \"description\": \"\"\n      }\n    },\n    {\n      \"column\": \"Number_of_deaths_UF_Female\",\n      \"properties\": {\n        \"dtype\": \"number\",\n        \"std\": 104473.52691239385,\n        \"min\": 4.0,\n        \"max\": 1342234.0,\n        \"num_unique_values\": 379,\n        \"samples\": [\n          1946.0,\n          3581.0,\n          81285.0\n        ],\n        \"semantic_type\": \"\",\n        \"description\": \"\"\n      }\n    },\n    {\n      \"column\": \"Early initiation of breastfeeding (%)\",\n      \"properties\": {\n        \"dtype\": \"number\",\n        \"std\": 18.08023778681996,\n        \"min\": 6.0,\n        \"max\": 94.5,\n        \"num_unique_values\": 291,\n        \"samples\": [\n          61.8,\n          66.8,\n          66.2\n        ],\n        \"semantic_type\": \"\",\n        \"description\": \"\"\n      }\n    },\n    {\n      \"column\": \"Infants exclusively breastfed for the first six months of life (%)\",\n      \"properties\": {\n        \"dtype\": \"number\",\n        \"std\": 20.39756368662167,\n        \"min\": 0.1,\n        \"max\": 88.4,\n        \"num_unique_values\": 295,\n        \"samples\": [\n          12.3,\n          32.8,\n          41.1\n        ],\n        \"semantic_type\": \"\",\n        \"description\": \"\"\n      }\n    },\n    {\n      \"column\": \"Region\",\n      \"properties\": {\n        \"dtype\": \"category\",\n        \"num_unique_values\": 7,\n        \"samples\": [\n          \"Africa\",\n          \"South America\",\n          \"South Asia\"\n        ],\n        \"semantic_type\": \"\",\n        \"description\": \"\"\n      }\n    },\n    {\n      \"column\": \"UFMR_SDGS_Category\",\n      \"properties\": {\n        \"dtype\": \"category\",\n        \"num_unique_values\": 2,\n        \"samples\": [\n          \"Target Achieved\",\n          \"Target Not Achieved\"\n        ],\n        \"semantic_type\": \"\",\n        \"description\": \"\"\n      }\n    }\n  ]\n}"
            }
          },
          "metadata": {},
          "execution_count": 4
        }
      ]
    },
    {
      "cell_type": "markdown",
      "source": [
        "\n",
        "**\n",
        "*   ⭐️Preprocessing for the mortality dataset\n",
        ": (includes sample, missing values and its finding i.e., data scarcity occurs in developed countries, it is not random; thus it is difficult to predict the values with the existing data which is mainly come from developing countries. )\n",
        "*   ⭐️Preprocessing for the breastfeeding dataset (includes a search algorithm and its effect i.e., whether the cost function is 0.)\n",
        "*   ⭐️Cleaning dataset (includes merging two datasets, variable selection, sample and its finding: imbalanced data.)\n",
        "*   ⭐️Feature engineering (includes one-hot encoding.)\n",
        "*   ⭐️Validation (imbalanced data; therefore, it requires 5-fold cross-validation not simply splitting.)\n",
        "*   ⭐️Model building (includs 3 models and their parameters.)\n",
        "*   ⭐️Model evaluation (includes these models' metrics and results.)\n",
        "\n",
        "**\n",
        "\n",
        "\n",
        "\n"
      ],
      "metadata": {
        "id": "x8vU1xjHxYxS"
      }
    },
    {
      "cell_type": "markdown",
      "source": [
        "# ⭐️Preprocessing for the mortality dataset"
      ],
      "metadata": {
        "id": "KHec4pYH2Knf"
      }
    },
    {
      "cell_type": "markdown",
      "source": [
        "## Missing values\n",
        "// Purpose: There is a problem of data scarcity; thus, it is important to confirm whether there is a pattern.\n",
        "\n",
        "// Results: Missing values in developed coutries are more than in developing countries.\n",
        "\n",
        "// Potential apploaches: 1)use the other values or predict it to fill in the missing values, 2)delete the rows with missing values.\n",
        "\n",
        "// Decision: This project employs the second approach. THe main reason is sample size after deleting these rows is over 300, meaning it is applicable to implement a machine learning. Additionally, the first approach has the risk that might cause bias by predicting the values with the existing data (in mainly the developing countries)."
      ],
      "metadata": {
        "id": "hY7xMZRs2POg"
      }
    },
    {
      "cell_type": "code",
      "source": [],
      "metadata": {
        "id": "Jzy5D16U-MuV"
      },
      "execution_count": null,
      "outputs": []
    },
    {
      "cell_type": "code",
      "source": [],
      "metadata": {
        "id": "-_XlnlqY-Mw4"
      },
      "execution_count": null,
      "outputs": []
    },
    {
      "cell_type": "code",
      "source": [],
      "metadata": {
        "id": "0MrHTH7C-MzP"
      },
      "execution_count": null,
      "outputs": []
    },
    {
      "cell_type": "code",
      "source": [],
      "metadata": {
        "id": "eXV83VY3-M1V"
      },
      "execution_count": null,
      "outputs": []
    },
    {
      "cell_type": "markdown",
      "source": [
        "# ⭐️Preprocessing for the breastfeeding dataset"
      ],
      "metadata": {
        "id": "4hx7eTnv8zlL"
      }
    },
    {
      "cell_type": "markdown",
      "source": [
        "## Missing values\n",
        "\n",
        "// Purpose: Find problems about missing values or other data issues.\n",
        "\n",
        "// Results: There is a problem of year periods, which includes some values are the range of the years, not a single year."
      ],
      "metadata": {
        "id": "uJXQBoFN-c5e"
      }
    },
    {
      "cell_type": "code",
      "source": [],
      "metadata": {
        "id": "GWo_2yAf-2Su"
      },
      "execution_count": null,
      "outputs": []
    },
    {
      "cell_type": "code",
      "source": [],
      "metadata": {
        "id": "eju90NRv-2Vl"
      },
      "execution_count": null,
      "outputs": []
    },
    {
      "cell_type": "code",
      "source": [],
      "metadata": {
        "id": "6LLHqo5D-5Bw"
      },
      "execution_count": null,
      "outputs": []
    },
    {
      "cell_type": "markdown",
      "source": [
        "## Alignment of year periods\n",
        "// Problem and Purpose: There is a problem of year periods, which includes some values are the range of the years, not a single year; thus, it is crucial to select one year from each of these ranges for merging two datasets.\n",
        "\n",
        "// Results: It is seen that one year exists in another row, and it can be merged into the row that has the range value.\n",
        "\n",
        "// Potential approaches: 1)use the search algorithm that does not avoid local optima. 2)use the search algorithm that tries to avoid local optima.\n",
        "\n",
        "// Decision: The first option (i.e., Hill climing algorithm) is better because the local optima could not occure. Moreover, it does not wast the computer resources compared with Simulated annealing, Tabu Search, and Genetic Algorithm."
      ],
      "metadata": {
        "id": "vK-BkFqf5kvA"
      }
    },
    {
      "cell_type": "code",
      "source": [],
      "metadata": {
        "id": "PnRzbwQ6-4Ap"
      },
      "execution_count": null,
      "outputs": []
    },
    {
      "cell_type": "code",
      "source": [],
      "metadata": {
        "id": "K1LqNTRU-PBs"
      },
      "execution_count": null,
      "outputs": []
    },
    {
      "cell_type": "code",
      "source": [],
      "metadata": {
        "id": "TpgQ4oVh-PEj"
      },
      "execution_count": null,
      "outputs": []
    },
    {
      "cell_type": "code",
      "source": [],
      "metadata": {
        "id": "DVlpz3rA-PHK"
      },
      "execution_count": null,
      "outputs": []
    },
    {
      "cell_type": "markdown",
      "source": [
        "## Results and analysis of Hill climbing algorithm\n",
        "\n",
        "// Problem and Purpose: This is for confiring the selected algorithm performs well to align the year to merge two datasets.\n",
        "\n",
        "// Results: The performance is good.\n",
        "\n",
        "// Evidence: The chart is given below to confirm the performance of the hill clibming algorithm."
      ],
      "metadata": {
        "id": "rA1mgKBc9ERq"
      }
    },
    {
      "cell_type": "code",
      "source": [],
      "metadata": {
        "id": "4DX-AEzU-Pj3"
      },
      "execution_count": null,
      "outputs": []
    },
    {
      "cell_type": "code",
      "source": [],
      "metadata": {
        "id": "wkV3vZWc-PmJ"
      },
      "execution_count": null,
      "outputs": []
    },
    {
      "cell_type": "code",
      "source": [],
      "metadata": {
        "id": "y97pzmIl-PoY"
      },
      "execution_count": null,
      "outputs": []
    },
    {
      "cell_type": "markdown",
      "source": [
        "# ⭐️Cleaning dataset"
      ],
      "metadata": {
        "id": "pL4koC422ZtX"
      }
    },
    {
      "cell_type": "markdown",
      "source": [
        "## Merge two datasets into one"
      ],
      "metadata": {
        "id": "TvHPZCwc_xbH"
      }
    },
    {
      "cell_type": "code",
      "source": [],
      "metadata": {
        "id": "XHvn7R3cAI0e"
      },
      "execution_count": null,
      "outputs": []
    },
    {
      "cell_type": "code",
      "source": [],
      "metadata": {
        "id": "-RUYU_LWAI2w"
      },
      "execution_count": null,
      "outputs": []
    },
    {
      "cell_type": "markdown",
      "source": [
        "## Missing values and Sample information\n",
        "\n",
        "// Purpose: To confirm whether the dateset is completely filled and can be used for AI/ML models. It also aims to identify potential biases in this section.\n",
        "\n",
        "// Results: No missing values. However, the most data is related to the developing countries; therefore, it might cause the bias and should be reported in the limitation part."
      ],
      "metadata": {
        "id": "HcXQZy5uAYyU"
      }
    },
    {
      "cell_type": "code",
      "source": [],
      "metadata": {
        "id": "TaTJ7B63AZGW"
      },
      "execution_count": null,
      "outputs": []
    },
    {
      "cell_type": "code",
      "source": [],
      "metadata": {
        "id": "FSQ-UXkxAZKQ"
      },
      "execution_count": null,
      "outputs": []
    },
    {
      "cell_type": "markdown",
      "source": [
        "## Variable selection\n",
        "// Purpose: To identify the crucial variables and non-crucial variables. Additionaly this project considers additional variables for building a better model.\n",
        "\n",
        "\n",
        "[For target variable]\n",
        "\n",
        "// Results: XXX\n",
        "\n",
        "// Potential approaches: 1) use \"under-five mortality rates\" (original data) or 2) use \"UNICEF's Target Achieved\" (Binary).\n",
        "\n",
        "// Decision: the second approach is employed in this project. The main reason is that it is easier to understand the output of the model than just numerical data. This understandable result help not only technical users but also business members to grasp the results, enabling them to decide the investiment on the health care sector.\n",
        "\n",
        "\n",
        "[For independent variables]\n",
        "\n",
        "// Results: XXX\n",
        "\n",
        "// Potential approaches: 1) use \"country\" or 2) add \"region\" based on the countries given in original dataset.\n",
        "\n",
        "// Desicion: the second approach is a better choice because it can contribute to the decrease of the features, making the model learing faster."
      ],
      "metadata": {
        "id": "xfOSI3Jn_xdp"
      }
    },
    {
      "cell_type": "code",
      "source": [],
      "metadata": {
        "id": "j3d7GnARAJ20"
      },
      "execution_count": null,
      "outputs": []
    },
    {
      "cell_type": "code",
      "source": [],
      "metadata": {
        "id": "KcnXApQBAJ5K"
      },
      "execution_count": null,
      "outputs": []
    },
    {
      "cell_type": "markdown",
      "source": [],
      "metadata": {
        "id": "yyyyGz2Y_xf_"
      }
    },
    {
      "cell_type": "markdown",
      "source": [],
      "metadata": {
        "id": "9nNDfRW4_xil"
      }
    },
    {
      "cell_type": "markdown",
      "source": [],
      "metadata": {
        "id": "Ml6nA5lf_XGu"
      }
    },
    {
      "cell_type": "code",
      "source": [],
      "metadata": {
        "id": "d6J_tfdM_WYo"
      },
      "execution_count": null,
      "outputs": []
    },
    {
      "cell_type": "code",
      "source": [],
      "metadata": {
        "id": "hISD_8I0_Wa8"
      },
      "execution_count": null,
      "outputs": []
    },
    {
      "cell_type": "code",
      "source": [],
      "metadata": {
        "id": "hnhKqTuN_WdS"
      },
      "execution_count": null,
      "outputs": []
    },
    {
      "cell_type": "code",
      "source": [],
      "metadata": {
        "id": "SPCxPPX1_WfW"
      },
      "execution_count": null,
      "outputs": []
    },
    {
      "cell_type": "code",
      "source": [],
      "metadata": {
        "id": "hGB-zcj4_Whe"
      },
      "execution_count": null,
      "outputs": []
    },
    {
      "cell_type": "code",
      "source": [],
      "metadata": {
        "id": "VZOgrTG3_Wjz"
      },
      "execution_count": null,
      "outputs": []
    },
    {
      "cell_type": "markdown",
      "source": [],
      "metadata": {
        "id": "ciOKFOFz2Zv7"
      }
    },
    {
      "cell_type": "markdown",
      "source": [],
      "metadata": {
        "id": "lm6fSxT72Zyh"
      }
    },
    {
      "cell_type": "markdown",
      "source": [],
      "metadata": {
        "id": "mQCWD_4S2Z03"
      }
    },
    {
      "cell_type": "markdown",
      "source": [
        "# ⭐️Feature enginnering (It can specify the final input features)"
      ],
      "metadata": {
        "id": "7AFC6x6Bws97"
      }
    },
    {
      "cell_type": "code",
      "source": [
        "# 1. 目的変数をSDGs基準に基づいて2値分類（UFMRが25以下を「目標達成」、26以上を「目標未達」）\n",
        "sdgs_labels = ['Target Achieved', 'Target Not Achieved']  # 2つのクラスラベルを定義\n",
        "df['UFMR_SDGS_Category'] = pd.cut(df['UFMR(per1000births)_Both'], bins=[0, 25, float('inf')], labels=sdgs_labels)\n",
        "\n",
        "# 2. One-Hot Encoding（Regionをエンコーディング）\n",
        "df_encoded_ann = pd.get_dummies(df, columns=['Region'], drop_first=True)\n",
        "\n",
        "# 3. 説明変数と目的変数の定義\n",
        "features_ann = ['Year', 'Early initiation of breastfeeding (%)',\n",
        "                'Infants exclusively breastfed for the first six months of life (%)'] + \\\n",
        "               [col for col in df_encoded_ann.columns if col.startswith(\"Region_\")]\n",
        "X_ann = df_encoded_ann[features_ann]\n",
        "y_ann = df_encoded_ann['UFMR_SDGS_Category']\n",
        "\n",
        "# 4. データの前処理（ラベルを0と1に変換）\n",
        "y_ann = y_ann.map({'Target Achieved': 0, 'Target Not Achieved': 1})  # 0: Target Achieved, 1: Target Not Achieved\n",
        "y_ann = y_ann.astype(int) # Explicitly convert y_ann to integer dtype\n",
        "\n"
      ],
      "metadata": {
        "id": "-hxMaN30O2ip"
      },
      "execution_count": null,
      "outputs": []
    },
    {
      "cell_type": "code",
      "source": [
        "from google.colab import drive\n",
        "drive.mount('/content/drive')"
      ],
      "metadata": {
        "id": "qOrrghIWPlIS"
      },
      "execution_count": null,
      "outputs": []
    },
    {
      "cell_type": "markdown",
      "source": [
        "## ⭐️Validation"
      ],
      "metadata": {
        "id": "hdfPROAgw-4Q"
      }
    },
    {
      "cell_type": "code",
      "source": [
        "# 5. データを学習用とテスト用に分割\n",
        "X_train_ann, X_test_ann, y_train_ann, y_test_ann = train_test_split(X_ann, y_ann, test_size=0.2, random_state=42)\n",
        "\n",
        "# 6. 特徴量の標準化\n",
        "scaler = StandardScaler()\n",
        "X_train_ann = scaler.fit_transform(X_train_ann)\n",
        "X_test_ann = scaler.transform(X_test_ann)\n",
        "\n"
      ],
      "metadata": {
        "id": "N162xkW-O2kT"
      },
      "execution_count": null,
      "outputs": []
    },
    {
      "cell_type": "code",
      "source": [
        "# to splite the dataset into two datasets i.e., training set and test set"
      ],
      "metadata": {
        "id": "2ejSEDIyJzkN"
      },
      "execution_count": null,
      "outputs": []
    },
    {
      "cell_type": "code",
      "source": [
        "# k-fold(5-fold) cross-validation (this is function used in \"Model ecaluation\" part)"
      ],
      "metadata": {
        "id": "47JYu-M6Jzmi"
      },
      "execution_count": null,
      "outputs": []
    },
    {
      "cell_type": "markdown",
      "source": [
        "# ⭐️Building Models"
      ],
      "metadata": {
        "id": "9vtDfkQSxGbE"
      }
    },
    {
      "cell_type": "code",
      "source": [
        "import numpy as np"
      ],
      "metadata": {
        "id": "woQuIq1knypU"
      },
      "execution_count": null,
      "outputs": []
    },
    {
      "cell_type": "code",
      "source": [
        "# Affine function (to transform data into linear model)\n",
        "def affine(X, W, b):\n",
        "    return np.dot(X, W) + b"
      ],
      "metadata": {
        "id": "Yj1IQdyoIUUO"
      },
      "execution_count": null,
      "outputs": []
    },
    {
      "cell_type": "code",
      "source": [
        "# ReLU function (to transform the linear model into the non-linear model)\n",
        "def relu(X):\n",
        "    return np.maximum(0, X)"
      ],
      "metadata": {
        "id": "-kCwYlwoH_3L"
      },
      "execution_count": null,
      "outputs": []
    },
    {
      "cell_type": "code",
      "source": [
        "# Sigmoid function (to output probability for binary data)\n",
        "def sigmoid(X):\n",
        "    return 1 / (1 + np.exp(-X))"
      ],
      "metadata": {
        "id": "OLKwTBt2IBSC"
      },
      "execution_count": null,
      "outputs": []
    },
    {
      "cell_type": "code",
      "source": [
        "# Binary Crossentropy function (loss calculation)\n",
        "def binary_crossentropy(y_true, y_pred):\n",
        "    # Clip predictions to avoid log(0) errors\n",
        "    y_pred = np.clip(y_pred, 1e-15, 1 - 1e-15)\n",
        "    return -np.mean(y_true * np.log(y_pred) + (1 - y_true) * np.log(1 - y_pred))"
      ],
      "metadata": {
        "id": "l2hu54UlIPsL"
      },
      "execution_count": null,
      "outputs": []
    },
    {
      "cell_type": "code",
      "source": [
        "# Initialise weights and biases\n",
        "def initialise_weights(input_size, layer_size):\n",
        "    W = np.random.randn(input_size, layer_size) * 0.01\n",
        "    b = np.zeros((1, layer_size))\n",
        "    return W, b"
      ],
      "metadata": {
        "id": "mXkWo4zmoYfM"
      },
      "execution_count": null,
      "outputs": []
    },
    {
      "cell_type": "code",
      "source": [
        "# Forward propagation (Affine -> Activation)\n",
        "def forward_propagation(X, W, b, activation='relu'):\n",
        "    Z = affine(X, W, b)\n",
        "    if activation == 'relu':\n",
        "        A = relu(Z)\n",
        "    elif activation == 'sigmoid':\n",
        "        A = sigmoid(Z)\n",
        "    return A, Z"
      ],
      "metadata": {
        "id": "7AbeiKEaoYhh"
      },
      "execution_count": null,
      "outputs": []
    },
    {
      "cell_type": "code",
      "source": [
        "# Derivative of sigmoid function\n",
        "def sigmoid_derivative(A):\n",
        "    return A * (1 - A)"
      ],
      "metadata": {
        "id": "BhXAbLqKoYj1"
      },
      "execution_count": null,
      "outputs": []
    },
    {
      "cell_type": "code",
      "source": [
        "# Backpropagation and gradient descent\n",
        "def backpropagation(X, y, learning_rate=0.01, iterations=50, model_layers=[16, 8, 1]):\n",
        "    input_size = X.shape[1]\n",
        "\n",
        "    # initialise weights and biases for each layer\n",
        "    W1, b1 = initialise_weights(input_size, model_layers[0])\n",
        "    W2, b2 = initialise_weights(model_layers[0], model_layers[1])\n",
        "    W3, b3 = initialise_weights(model_layers[1], model_layers[2])\n",
        "\n",
        "    losses = []  # To track the loss over iterations\n",
        "\n",
        "    # Iterative training\n",
        "    for i in range(iterations):\n",
        "        # Forward propagation\n",
        "        A1, Z1 = forward_propagation(X, W1, b1, activation='relu')\n",
        "        A2, Z2 = forward_propagation(A1, W2, b2, activation='relu')\n",
        "        A3, Z3 = forward_propagation(A2, W3, b3, activation='sigmoid')\n",
        "\n",
        "        # Compute loss\n",
        "        loss = binary_crossentropy_loss(y, A3)\n",
        "        losses.append(loss)\n",
        "\n",
        "        # Backpropagation\n",
        "        # Gradient for output layer (Sigmoid -> Loss)\n",
        "        dA3 = -(y / A3 - (1 - y) / (1 - A3))\n",
        "        dZ3 = dA3 * sigmoid_derivative(A3)\n",
        "        dW3 = np.dot(A2.T, dZ3) / X.shape[0]\n",
        "        db3 = np.sum(dZ3, axis=0, keepdims=True) / X.shape[0]\n",
        "\n",
        "        # Gradients for hidden layer 2 (ReLU)\n",
        "        dA2 = np.dot(dZ3, W3.T)\n",
        "        dZ2 = dA2 * (Z2 > 0)  # ReLU derivative\n",
        "        dW2 = np.dot(A1.T, dZ2) / X.shape[0]\n",
        "        db2 = np.sum(dZ2, axis=0, keepdims=True) / X.shape[0]\n",
        "\n",
        "        # Gradients for hidden layer 1 (ReLU)\n",
        "        dA1 = np.dot(dZ2, W2.T)\n",
        "        dZ1 = dA1 * (Z1 > 0)  # ReLU derivative\n",
        "        dW1 = np.dot(X.T, dZ1) / X.shape[0]\n",
        "        db1 = np.sum(dZ1, axis=0, keepdims=True) / X.shape[0]\n",
        "\n",
        "        # Gradient descent step: Update weights and biases\n",
        "        W1 -= learning_rate * dW1\n",
        "        b1 -= learning_rate * db1\n",
        "        W2 -= learning_rate * dW2\n",
        "        b2 -= learning_rate * db2\n",
        "        W3 -= learning_rate * dW3\n",
        "        b3 -= learning_rate * db3\n",
        "\n",
        "        # Print loss every 10 iterations\n",
        "        if i % 10 == 0:\n",
        "            print(f\"Iteration {i}, Loss: {loss}\")\n",
        "\n",
        "    return W1, b1, W2, b2, W3, b3, losses\n",
        "\n",
        "# Example usage:\n",
        "# W1, b1, W2, b2, W3, b3, losses = backpropagation(X_scaled, y, learning_rate=0.01, iterations=50)"
      ],
      "metadata": {
        "id": "t1UGT_rVoYl6"
      },
      "execution_count": null,
      "outputs": []
    },
    {
      "cell_type": "code",
      "source": [
        "# First model (Hidden layer: one (16 nodes), Activation function: ReLU, Final actication function: Sigmoid)\n",
        "\n",
        "# 7. モデルの構築\n",
        "model = Sequential()\n",
        "\n",
        "# 入力層と隠れ層（最初の層）を設定（ノード数は16、活性化関数はReLU）\n",
        "model.add(Dense(16, input_dim=X_train_ann.shape[1], activation='relu'))\n",
        "\n",
        "# 出力層（1ノード、活性化関数はSigmoid）\n",
        "model.add(Dense(1, activation='sigmoid'))"
      ],
      "metadata": {
        "id": "g1mnuuPpH3ev"
      },
      "execution_count": null,
      "outputs": []
    },
    {
      "cell_type": "code",
      "source": [
        "# Second model (Hidden layer: two (16 and 8 nodes respectively), Activation function: ReLU, Final actication function: Sigmoid)\n",
        "# 7. モデルの構築\n",
        "model = Sequential()\n",
        "\n",
        "# 入力層と隠れ層（最初の層）を設定（ノード数は16、活性化関数はReLU）\n",
        "model.add(Dense(16, input_dim=X_train_ann.shape[1], activation='relu'))\n",
        "\n",
        "# 隠れ層（ノード数は8、活性化関数はReLU）\n",
        "model.add(Dense(8, activation='relu'))\n",
        "\n",
        "# 出力層（1ノード、活性化関数はSigmoid）\n",
        "model.add(Dense(1, activation='sigmoid'))"
      ],
      "metadata": {
        "id": "gpF9ZoHgH3hS"
      },
      "execution_count": null,
      "outputs": []
    },
    {
      "cell_type": "code",
      "source": [
        "# Third model (Hidden layer: three (16, 8 and 4 nodes respectively), Activation function: ReLU, Final actication function: Sigmoid)\n",
        "# 7. モデルの構築\n",
        "model = Sequential()\n",
        "\n",
        "# 入力層と隠れ層（最初の層）を設定（ノード数は16、活性化関数はReLU）\n",
        "model.add(Dense(16, input_dim=X_train_ann.shape[1], activation='relu'))\n",
        "\n",
        "# 隠れ層（ノード数は8、活性化関数はReLU）\n",
        "model.add(Dense(8, activation='relu'))\n",
        "\n",
        "# 隠れ層（ノード数は4、活性化関数はReLU）\n",
        "model.add(Dense(4, activation='relu'))\n",
        "\n",
        "# 出力層（1ノード、活性化関数はSigmoid）\n",
        "model.add(Dense(1, activation='sigmoid'))"
      ],
      "metadata": {
        "id": "BPWT_FGBH3j4"
      },
      "execution_count": null,
      "outputs": []
    },
    {
      "cell_type": "markdown",
      "source": [
        "# ⭐️Validation"
      ],
      "metadata": {
        "id": "YF4gNBSGldZH"
      }
    },
    {
      "cell_type": "markdown",
      "source": [
        "## K-fold cross-validation\n",
        "\n",
        "// Purpose: To evaluate the learning models with imbalanced dataset\n",
        "\n",
        "// Potential Approaches: 1) Only one splitting and validating, or 2) using K-fold cross validation.\n",
        "\n",
        "// Decision: This project implement the second approach because the project uses the imbalanced dataset."
      ],
      "metadata": {
        "id": "oTz8myAWliqF"
      }
    },
    {
      "cell_type": "code",
      "source": [
        "from sklearn.model_selection import KFold"
      ],
      "metadata": {
        "id": "s2Vuqpu_ldov"
      },
      "execution_count": null,
      "outputs": []
    },
    {
      "cell_type": "code",
      "source": [],
      "metadata": {
        "id": "Gbxvx0bDldrm"
      },
      "execution_count": null,
      "outputs": []
    },
    {
      "cell_type": "markdown",
      "source": [
        "# ⭐️Model evaluation"
      ],
      "metadata": {
        "id": "cY6treoBEetT"
      }
    },
    {
      "cell_type": "markdown",
      "source": [
        "## Accuracy, Precision, Recall, F1-score, ROC AUC, and PR AUC\n",
        "\n",
        "// Purpose: To find the best model in the three ANNs.\n",
        "\n",
        "// Potential Approaches: 1) use only Accuracy, Precision, Recall, and F1-score or 2) use them and ROC AUC and PR AUC.\n",
        "\n",
        "// Decision: the second approach is employed in this project since the output data is imbalanced; therefore, it requires to use the metrics so that the researchers evaluate the models to avoid the potential bias.\n",
        "\n",
        "// Results: XXX\n",
        "\n",
        "// Memo: Area under curve receiver operating characteristic (ROC AUC) and Area under curve precision-recall (PR AUC)"
      ],
      "metadata": {
        "id": "x_utOKyzEs63"
      }
    },
    {
      "cell_type": "code",
      "source": [
        "# Accuracy\n",
        "\n",
        "def calculate_accuracy(tp, tn, fp, fn):\n",
        "    \"\"\"Calculate Accuracy.\"\"\"\n",
        "    return (tp + tn) / (tp + tn + fp + fn)"
      ],
      "metadata": {
        "id": "uvAqN0x9EsXu"
      },
      "execution_count": null,
      "outputs": []
    },
    {
      "cell_type": "code",
      "source": [
        "# Precision\n",
        "\n",
        "def calculate_precision(tp, fp):\n",
        "    \"\"\"Calculate Precision.\"\"\"\n",
        "    return tp / (tp + fp) if (tp + fp) > 0 else 0"
      ],
      "metadata": {
        "id": "Kkks7ToBFTpu"
      },
      "execution_count": null,
      "outputs": []
    },
    {
      "cell_type": "code",
      "source": [
        "# Recall\n",
        "\n",
        "def calculate_recall(tp, fn):\n",
        "    \"\"\"Calculate Recall.\"\"\"\n",
        "    return tp / (tp + fn) if (tp + fn) > 0 else 0"
      ],
      "metadata": {
        "id": "H_e0tVVUFTsD"
      },
      "execution_count": null,
      "outputs": []
    },
    {
      "cell_type": "code",
      "source": [
        "# F1-score\n",
        "\n",
        "def calculate_f1(precision, recall):\n",
        "    \"\"\"Calculate F1-Score.\"\"\"\n",
        "    return 2 * (precision * recall) / (precision + recall) if (precision + recall) > 0 else 0"
      ],
      "metadata": {
        "id": "9d3h51TaFX55"
      },
      "execution_count": null,
      "outputs": []
    },
    {
      "cell_type": "code",
      "source": [
        "# ROC AUC\n",
        "\n",
        "def calculate_roc_auc(tp, tn, fp, fn):\n",
        "    \"\"\"Calculate ROC AUC (Area Under the Curve for Receiver Operating Characteristic).\"\"\"\n",
        "    tpr = tp / (tp + fn)  # True Positive Rate (Recall)\n",
        "    fpr = fp / (fp + tn)  # False Positive Rate\n",
        "    return (1 + tpr - fpr) / 2  # Simplified calculation for ROC AUC"
      ],
      "metadata": {
        "id": "BwkgoOprFa2t"
      },
      "execution_count": null,
      "outputs": []
    },
    {
      "cell_type": "code",
      "source": [
        "# PR AUC\n",
        "\n",
        "def calculate_pr_auc(precision, recall):\n",
        "    \"\"\"Calculate PR AUC (Area Under the Precision-Recall Curve).\"\"\"\n",
        "    return (precision + recall) / 2  # Simplified PR AUC calculation"
      ],
      "metadata": {
        "id": "HGac6oQTFa4_"
      },
      "execution_count": null,
      "outputs": []
    },
    {
      "cell_type": "code",
      "source": [
        "from sklearn.metrics import confusion_matrix\n",
        "\n",
        "# Placeholder for storing results\n",
        "metrics_results = {\n",
        "    \"Accuracy\": [],\n",
        "    \"Precision\": [],\n",
        "    \"Recall\": [],\n",
        "    \"F1-Score\": [],\n",
        "    \"ROC AUC\": [],\n",
        "    \"PR AUC\": []\n",
        "}\n",
        "\n"
      ],
      "metadata": {
        "id": "9kjqDrYCmYmZ"
      },
      "execution_count": null,
      "outputs": []
    },
    {
      "cell_type": "code",
      "source": [],
      "metadata": {
        "id": "uTz-uNJJmYos"
      },
      "execution_count": null,
      "outputs": []
    },
    {
      "cell_type": "code",
      "source": [],
      "metadata": {
        "id": "XAyAWIvGmYrC"
      },
      "execution_count": null,
      "outputs": []
    },
    {
      "cell_type": "code",
      "source": [],
      "metadata": {
        "id": "ZDosFMKBmYtI"
      },
      "execution_count": null,
      "outputs": []
    },
    {
      "cell_type": "code",
      "source": [
        "# While compiling, k-fold cross-varidation is used\n",
        "\n",
        "\n"
      ],
      "metadata": {
        "id": "Rtplvn7YKWQJ"
      },
      "execution_count": null,
      "outputs": []
    },
    {
      "cell_type": "code",
      "source": [
        "# 8. モデルのコンパイル\n",
        "model.compile(loss='binary_crossentropy', optimizer='adam', metrics=['accuracy'])\n",
        "\n",
        "# 9. モデルの学習\n",
        "model.fit(X_train_ann, y_train_ann, epochs=50, batch_size=10, verbose=1)"
      ],
      "metadata": {
        "colab": {
          "base_uri": "https://localhost:8080/"
        },
        "id": "fgdDJjaaP4fU",
        "outputId": "6987b688-c8b0-44e2-b343-8d6d825cbfaf"
      },
      "execution_count": null,
      "outputs": [
        {
          "output_type": "stream",
          "name": "stdout",
          "text": [
            "Epoch 1/50\n",
            "\u001b[1m31/31\u001b[0m \u001b[32m━━━━━━━━━━━━━━━━━━━━\u001b[0m\u001b[37m\u001b[0m \u001b[1m2s\u001b[0m 3ms/step - accuracy: 0.3518 - loss: 1.0068\n",
            "Epoch 2/50\n",
            "\u001b[1m31/31\u001b[0m \u001b[32m━━━━━━━━━━━━━━━━━━━━\u001b[0m\u001b[37m\u001b[0m \u001b[1m0s\u001b[0m 5ms/step - accuracy: 0.4579 - loss: 0.8492\n",
            "Epoch 3/50\n",
            "\u001b[1m31/31\u001b[0m \u001b[32m━━━━━━━━━━━━━━━━━━━━\u001b[0m\u001b[37m\u001b[0m \u001b[1m0s\u001b[0m 3ms/step - accuracy: 0.6005 - loss: 0.7385\n",
            "Epoch 4/50\n",
            "\u001b[1m31/31\u001b[0m \u001b[32m━━━━━━━━━━━━━━━━━━━━\u001b[0m\u001b[37m\u001b[0m \u001b[1m0s\u001b[0m 3ms/step - accuracy: 0.6521 - loss: 0.6651\n",
            "Epoch 5/50\n",
            "\u001b[1m31/31\u001b[0m \u001b[32m━━━━━━━━━━━━━━━━━━━━\u001b[0m\u001b[37m\u001b[0m \u001b[1m0s\u001b[0m 3ms/step - accuracy: 0.6934 - loss: 0.5927\n",
            "Epoch 6/50\n",
            "\u001b[1m31/31\u001b[0m \u001b[32m━━━━━━━━━━━━━━━━━━━━\u001b[0m\u001b[37m\u001b[0m \u001b[1m0s\u001b[0m 4ms/step - accuracy: 0.7093 - loss: 0.5551\n",
            "Epoch 7/50\n",
            "\u001b[1m31/31\u001b[0m \u001b[32m━━━━━━━━━━━━━━━━━━━━\u001b[0m\u001b[37m\u001b[0m \u001b[1m0s\u001b[0m 4ms/step - accuracy: 0.7301 - loss: 0.5228\n",
            "Epoch 8/50\n",
            "\u001b[1m31/31\u001b[0m \u001b[32m━━━━━━━━━━━━━━━━━━━━\u001b[0m\u001b[37m\u001b[0m \u001b[1m0s\u001b[0m 1ms/step - accuracy: 0.7670 - loss: 0.4994  \n",
            "Epoch 9/50\n",
            "\u001b[1m31/31\u001b[0m \u001b[32m━━━━━━━━━━━━━━━━━━━━\u001b[0m\u001b[37m\u001b[0m \u001b[1m0s\u001b[0m 1ms/step - accuracy: 0.7875 - loss: 0.4812 \n",
            "Epoch 10/50\n",
            "\u001b[1m31/31\u001b[0m \u001b[32m━━━━━━━━━━━━━━━━━━━━\u001b[0m\u001b[37m\u001b[0m \u001b[1m0s\u001b[0m 1ms/step - accuracy: 0.8649 - loss: 0.4233 \n",
            "Epoch 11/50\n",
            "\u001b[1m31/31\u001b[0m \u001b[32m━━━━━━━━━━━━━━━━━━━━\u001b[0m\u001b[37m\u001b[0m \u001b[1m0s\u001b[0m 1ms/step - accuracy: 0.8799 - loss: 0.3994 \n",
            "Epoch 12/50\n",
            "\u001b[1m31/31\u001b[0m \u001b[32m━━━━━━━━━━━━━━━━━━━━\u001b[0m\u001b[37m\u001b[0m \u001b[1m0s\u001b[0m 1ms/step - accuracy: 0.8681 - loss: 0.3916 \n",
            "Epoch 13/50\n",
            "\u001b[1m31/31\u001b[0m \u001b[32m━━━━━━━━━━━━━━━━━━━━\u001b[0m\u001b[37m\u001b[0m \u001b[1m0s\u001b[0m 2ms/step - accuracy: 0.8818 - loss: 0.3593\n",
            "Epoch 14/50\n",
            "\u001b[1m31/31\u001b[0m \u001b[32m━━━━━━━━━━━━━━━━━━━━\u001b[0m\u001b[37m\u001b[0m \u001b[1m0s\u001b[0m 2ms/step - accuracy: 0.8548 - loss: 0.3665\n",
            "Epoch 15/50\n",
            "\u001b[1m31/31\u001b[0m \u001b[32m━━━━━━━━━━━━━━━━━━━━\u001b[0m\u001b[37m\u001b[0m \u001b[1m0s\u001b[0m 2ms/step - accuracy: 0.8276 - loss: 0.4192\n",
            "Epoch 16/50\n",
            "\u001b[1m31/31\u001b[0m \u001b[32m━━━━━━━━━━━━━━━━━━━━\u001b[0m\u001b[37m\u001b[0m \u001b[1m0s\u001b[0m 1ms/step - accuracy: 0.8650 - loss: 0.3601 \n",
            "Epoch 17/50\n",
            "\u001b[1m31/31\u001b[0m \u001b[32m━━━━━━━━━━━━━━━━━━━━\u001b[0m\u001b[37m\u001b[0m \u001b[1m0s\u001b[0m 2ms/step - accuracy: 0.8723 - loss: 0.3325 \n",
            "Epoch 18/50\n",
            "\u001b[1m31/31\u001b[0m \u001b[32m━━━━━━━━━━━━━━━━━━━━\u001b[0m\u001b[37m\u001b[0m \u001b[1m0s\u001b[0m 2ms/step - accuracy: 0.8554 - loss: 0.3388 \n",
            "Epoch 19/50\n",
            "\u001b[1m31/31\u001b[0m \u001b[32m━━━━━━━━━━━━━━━━━━━━\u001b[0m\u001b[37m\u001b[0m \u001b[1m0s\u001b[0m 1ms/step - accuracy: 0.8658 - loss: 0.3376 \n",
            "Epoch 20/50\n",
            "\u001b[1m31/31\u001b[0m \u001b[32m━━━━━━━━━━━━━━━━━━━━\u001b[0m\u001b[37m\u001b[0m \u001b[1m0s\u001b[0m 2ms/step - accuracy: 0.9065 - loss: 0.2820 \n",
            "Epoch 21/50\n",
            "\u001b[1m31/31\u001b[0m \u001b[32m━━━━━━━━━━━━━━━━━━━━\u001b[0m\u001b[37m\u001b[0m \u001b[1m0s\u001b[0m 2ms/step - accuracy: 0.8875 - loss: 0.2942\n",
            "Epoch 22/50\n",
            "\u001b[1m31/31\u001b[0m \u001b[32m━━━━━━━━━━━━━━━━━━━━\u001b[0m\u001b[37m\u001b[0m \u001b[1m0s\u001b[0m 1ms/step - accuracy: 0.8681 - loss: 0.3093 \n",
            "Epoch 23/50\n",
            "\u001b[1m31/31\u001b[0m \u001b[32m━━━━━━━━━━━━━━━━━━━━\u001b[0m\u001b[37m\u001b[0m \u001b[1m0s\u001b[0m 1ms/step - accuracy: 0.8683 - loss: 0.3065 \n",
            "Epoch 24/50\n",
            "\u001b[1m31/31\u001b[0m \u001b[32m━━━━━━━━━━━━━━━━━━━━\u001b[0m\u001b[37m\u001b[0m \u001b[1m0s\u001b[0m 2ms/step - accuracy: 0.8635 - loss: 0.3026 \n",
            "Epoch 25/50\n",
            "\u001b[1m31/31\u001b[0m \u001b[32m━━━━━━━━━━━━━━━━━━━━\u001b[0m\u001b[37m\u001b[0m \u001b[1m0s\u001b[0m 2ms/step - accuracy: 0.8683 - loss: 0.3010\n",
            "Epoch 26/50\n",
            "\u001b[1m31/31\u001b[0m \u001b[32m━━━━━━━━━━━━━━━━━━━━\u001b[0m\u001b[37m\u001b[0m \u001b[1m0s\u001b[0m 1ms/step - accuracy: 0.8817 - loss: 0.2863 \n",
            "Epoch 27/50\n",
            "\u001b[1m31/31\u001b[0m \u001b[32m━━━━━━━━━━━━━━━━━━━━\u001b[0m\u001b[37m\u001b[0m \u001b[1m0s\u001b[0m 1ms/step - accuracy: 0.8435 - loss: 0.3242 \n",
            "Epoch 28/50\n",
            "\u001b[1m31/31\u001b[0m \u001b[32m━━━━━━━━━━━━━━━━━━━━\u001b[0m\u001b[37m\u001b[0m \u001b[1m0s\u001b[0m 2ms/step - accuracy: 0.8702 - loss: 0.3069 \n",
            "Epoch 29/50\n",
            "\u001b[1m31/31\u001b[0m \u001b[32m━━━━━━━━━━━━━━━━━━━━\u001b[0m\u001b[37m\u001b[0m \u001b[1m0s\u001b[0m 2ms/step - accuracy: 0.8777 - loss: 0.2974\n",
            "Epoch 30/50\n",
            "\u001b[1m31/31\u001b[0m \u001b[32m━━━━━━━━━━━━━━━━━━━━\u001b[0m\u001b[37m\u001b[0m \u001b[1m0s\u001b[0m 2ms/step - accuracy: 0.8905 - loss: 0.2699\n",
            "Epoch 31/50\n",
            "\u001b[1m31/31\u001b[0m \u001b[32m━━━━━━━━━━━━━━━━━━━━\u001b[0m\u001b[37m\u001b[0m \u001b[1m0s\u001b[0m 2ms/step - accuracy: 0.8790 - loss: 0.2834 \n",
            "Epoch 32/50\n",
            "\u001b[1m31/31\u001b[0m \u001b[32m━━━━━━━━━━━━━━━━━━━━\u001b[0m\u001b[37m\u001b[0m \u001b[1m0s\u001b[0m 1ms/step - accuracy: 0.8663 - loss: 0.2958 \n",
            "Epoch 33/50\n",
            "\u001b[1m31/31\u001b[0m \u001b[32m━━━━━━━━━━━━━━━━━━━━\u001b[0m\u001b[37m\u001b[0m \u001b[1m0s\u001b[0m 2ms/step - accuracy: 0.9019 - loss: 0.2484\n",
            "Epoch 34/50\n",
            "\u001b[1m31/31\u001b[0m \u001b[32m━━━━━━━━━━━━━━━━━━━━\u001b[0m\u001b[37m\u001b[0m \u001b[1m0s\u001b[0m 2ms/step - accuracy: 0.8719 - loss: 0.2706\n",
            "Epoch 35/50\n",
            "\u001b[1m31/31\u001b[0m \u001b[32m━━━━━━━━━━━━━━━━━━━━\u001b[0m\u001b[37m\u001b[0m \u001b[1m0s\u001b[0m 1ms/step - accuracy: 0.8979 - loss: 0.2652 \n",
            "Epoch 36/50\n",
            "\u001b[1m31/31\u001b[0m \u001b[32m━━━━━━━━━━━━━━━━━━━━\u001b[0m\u001b[37m\u001b[0m \u001b[1m0s\u001b[0m 1ms/step - accuracy: 0.9150 - loss: 0.2501 \n",
            "Epoch 37/50\n",
            "\u001b[1m31/31\u001b[0m \u001b[32m━━━━━━━━━━━━━━━━━━━━\u001b[0m\u001b[37m\u001b[0m \u001b[1m0s\u001b[0m 3ms/step - accuracy: 0.8982 - loss: 0.2510\n",
            "Epoch 38/50\n",
            "\u001b[1m31/31\u001b[0m \u001b[32m━━━━━━━━━━━━━━━━━━━━\u001b[0m\u001b[37m\u001b[0m \u001b[1m0s\u001b[0m 3ms/step - accuracy: 0.8384 - loss: 0.3059\n",
            "Epoch 39/50\n",
            "\u001b[1m31/31\u001b[0m \u001b[32m━━━━━━━━━━━━━━━━━━━━\u001b[0m\u001b[37m\u001b[0m \u001b[1m0s\u001b[0m 2ms/step - accuracy: 0.8900 - loss: 0.2765 \n",
            "Epoch 40/50\n",
            "\u001b[1m31/31\u001b[0m \u001b[32m━━━━━━━━━━━━━━━━━━━━\u001b[0m\u001b[37m\u001b[0m \u001b[1m0s\u001b[0m 1ms/step - accuracy: 0.8451 - loss: 0.2994 \n",
            "Epoch 41/50\n",
            "\u001b[1m31/31\u001b[0m \u001b[32m━━━━━━━━━━━━━━━━━━━━\u001b[0m\u001b[37m\u001b[0m \u001b[1m0s\u001b[0m 2ms/step - accuracy: 0.8820 - loss: 0.2756\n",
            "Epoch 42/50\n",
            "\u001b[1m31/31\u001b[0m \u001b[32m━━━━━━━━━━━━━━━━━━━━\u001b[0m\u001b[37m\u001b[0m \u001b[1m0s\u001b[0m 1ms/step - accuracy: 0.8946 - loss: 0.2399 \n",
            "Epoch 43/50\n",
            "\u001b[1m31/31\u001b[0m \u001b[32m━━━━━━━━━━━━━━━━━━━━\u001b[0m\u001b[37m\u001b[0m \u001b[1m0s\u001b[0m 2ms/step - accuracy: 0.8919 - loss: 0.2763 \n",
            "Epoch 44/50\n",
            "\u001b[1m31/31\u001b[0m \u001b[32m━━━━━━━━━━━━━━━━━━━━\u001b[0m\u001b[37m\u001b[0m \u001b[1m0s\u001b[0m 2ms/step - accuracy: 0.8987 - loss: 0.2418 \n",
            "Epoch 45/50\n",
            "\u001b[1m31/31\u001b[0m \u001b[32m━━━━━━━━━━━━━━━━━━━━\u001b[0m\u001b[37m\u001b[0m \u001b[1m0s\u001b[0m 3ms/step - accuracy: 0.9134 - loss: 0.2226\n",
            "Epoch 46/50\n",
            "\u001b[1m31/31\u001b[0m \u001b[32m━━━━━━━━━━━━━━━━━━━━\u001b[0m\u001b[37m\u001b[0m \u001b[1m0s\u001b[0m 2ms/step - accuracy: 0.9037 - loss: 0.2533\n",
            "Epoch 47/50\n",
            "\u001b[1m31/31\u001b[0m \u001b[32m━━━━━━━━━━━━━━━━━━━━\u001b[0m\u001b[37m\u001b[0m \u001b[1m0s\u001b[0m 2ms/step - accuracy: 0.8986 - loss: 0.2602 \n",
            "Epoch 48/50\n",
            "\u001b[1m31/31\u001b[0m \u001b[32m━━━━━━━━━━━━━━━━━━━━\u001b[0m\u001b[37m\u001b[0m \u001b[1m0s\u001b[0m 1ms/step - accuracy: 0.8936 - loss: 0.2677 \n",
            "Epoch 49/50\n",
            "\u001b[1m31/31\u001b[0m \u001b[32m━━━━━━━━━━━━━━━━━━━━\u001b[0m\u001b[37m\u001b[0m \u001b[1m0s\u001b[0m 2ms/step - accuracy: 0.8965 - loss: 0.2679 \n",
            "Epoch 50/50\n",
            "\u001b[1m31/31\u001b[0m \u001b[32m━━━━━━━━━━━━━━━━━━━━\u001b[0m\u001b[37m\u001b[0m \u001b[1m0s\u001b[0m 2ms/step - accuracy: 0.9039 - loss: 0.2505 \n"
          ]
        },
        {
          "output_type": "execute_result",
          "data": {
            "text/plain": [
              "<keras.src.callbacks.history.History at 0x7c3d6df5af20>"
            ]
          },
          "metadata": {},
          "execution_count": 20
        }
      ]
    },
    {
      "cell_type": "code",
      "source": [
        "# To show the results of k-fold cross-varidation (average is also specified)"
      ],
      "metadata": {
        "id": "pbFwxdA6Kc7H"
      },
      "execution_count": null,
      "outputs": []
    },
    {
      "cell_type": "code",
      "source": [
        "# Graph so that we could compare the three models"
      ],
      "metadata": {
        "id": "QUCMtxzfHHbg"
      },
      "execution_count": null,
      "outputs": []
    },
    {
      "cell_type": "code",
      "source": [
        "# 10. モデルの評価\n",
        "_, train_acc = model.evaluate(X_train_ann, y_train_ann, verbose=0)\n",
        "_, test_acc = model.evaluate(X_test_ann, y_test_ann, verbose=0)"
      ],
      "metadata": {
        "id": "2Di8xX4RP6st"
      },
      "execution_count": null,
      "outputs": []
    },
    {
      "cell_type": "code",
      "source": [
        "\n",
        "# 11. テストデータでの予測\n",
        "y_test_pred_ann = (model.predict(X_test_ann) > 0.5).astype(int)  # 出力を0/1に変換"
      ],
      "metadata": {
        "colab": {
          "base_uri": "https://localhost:8080/"
        },
        "id": "e70L3SrzQRKk",
        "outputId": "a5e0ac67-d06a-4f61-ad60-e8d2e936ef58"
      },
      "execution_count": null,
      "outputs": [
        {
          "output_type": "stream",
          "name": "stdout",
          "text": [
            "\u001b[1m3/3\u001b[0m \u001b[32m━━━━━━━━━━━━━━━━━━━━\u001b[0m\u001b[37m\u001b[0m \u001b[1m0s\u001b[0m 57ms/step\n"
          ]
        }
      ]
    },
    {
      "cell_type": "code",
      "source": [
        "# 12. 混同行列と評価レポートの作成\n",
        "conf_matrix_ann = confusion_matrix(y_test_ann, y_test_pred_ann)\n",
        "class_report_ann = classification_report(y_test_ann, y_test_pred_ann, target_names=sdgs_labels)\n",
        "\n",
        "# 結果の表示\n",
        "print(f\"Training Accuracy: {train_acc:.4f}\")\n",
        "print(f\"Test Accuracy: {test_acc:.4f}\")\n",
        "print(\"\\nConfusion Matrix (ANN):\\n\", conf_matrix_ann)\n",
        "print(\"\\nClassification Report (ANN):\\n\", class_report_ann)"
      ],
      "metadata": {
        "colab": {
          "base_uri": "https://localhost:8080/"
        },
        "id": "Sdalds5LQTOS",
        "outputId": "e317fb19-5235-44fa-e179-a80c6c9cc9c1"
      },
      "execution_count": null,
      "outputs": [
        {
          "output_type": "stream",
          "name": "stdout",
          "text": [
            "Training Accuracy: 0.8889\n",
            "Test Accuracy: 0.8961\n",
            "\n",
            "Confusion Matrix (ANN):\n",
            " [[ 7  6]\n",
            " [ 2 62]]\n",
            "\n",
            "Classification Report (ANN):\n",
            "                      precision    recall  f1-score   support\n",
            "\n",
            "    Target Achieved       0.78      0.54      0.64        13\n",
            "Target Not Achieved       0.91      0.97      0.94        64\n",
            "\n",
            "           accuracy                           0.90        77\n",
            "          macro avg       0.84      0.75      0.79        77\n",
            "       weighted avg       0.89      0.90      0.89        77\n",
            "\n"
          ]
        }
      ]
    },
    {
      "cell_type": "code",
      "source": [],
      "metadata": {
        "id": "UqSG5zwiRiXv"
      },
      "execution_count": null,
      "outputs": []
    }
  ]
}