{
  "cells": [
    {
      "cell_type": "markdown",
      "metadata": {
        "id": "view-in-github",
        "colab_type": "text"
      },
      "source": [
        "<a href=\"https://colab.research.google.com/github/Yuichiro3/YuichiroKobayashi/blob/main/SEM.ipynb\" target=\"_parent\"><img src=\"https://colab.research.google.com/assets/colab-badge.svg\" alt=\"Open In Colab\"/></a>"
      ]
    },
    {
      "cell_type": "code",
      "execution_count": null,
      "id": "e865256a",
      "metadata": {
        "id": "e865256a"
      },
      "outputs": [],
      "source": [
        "pip install semopy"
      ]
    },
    {
      "cell_type": "code",
      "execution_count": null,
      "id": "b89baa30",
      "metadata": {
        "id": "b89baa30"
      },
      "outputs": [],
      "source": [
        "pip install graphviz"
      ]
    },
    {
      "cell_type": "code",
      "execution_count": null,
      "id": "494185ee",
      "metadata": {
        "id": "494185ee"
      },
      "outputs": [],
      "source": [
        "pip install see"
      ]
    },
    {
      "cell_type": "code",
      "execution_count": null,
      "id": "a63df6db",
      "metadata": {
        "id": "a63df6db"
      },
      "outputs": [],
      "source": [
        "# import\n",
        "import numpy as np\n",
        "import pandas as pd\n",
        "import matplotlib.pyplot as plt\n",
        "from see import see\n",
        "import graphviz\n",
        "\n",
        "import semopy\n",
        "from semopy import Model"
      ]
    },
    {
      "cell_type": "code",
      "execution_count": 5,
      "id": "7308bddc",
      "metadata": {
        "colab": {
          "base_uri": "https://localhost:8080/",
          "height": 206
        },
        "id": "7308bddc",
        "outputId": "48e5a8e0-edbf-4027-c173-40800ebcca02"
      },
      "outputs": [
        {
          "output_type": "execute_result",
          "data": {
            "text/plain": [
              "  Tool  ui_1  ui_2  ui_3  ux_1  ux_2  ux_3  cs_1  cs_2  cs_3  sf_1  sf_2  sf_3\n",
              "0    A     5     4     5     5     5     5     5     5     4     5     4     5\n",
              "1    A     4     5     4     4     4     4     5     4     5     4     4     5\n",
              "2    B     3     4     3     2     2     3     4     3     2     3     4     2\n",
              "3    C     3     2     3     1     2     3     3     3     1     3     3     1\n",
              "4    C     1     3     1     1     2     1     2     3     2     1     3     2"
            ],
            "text/html": [
              "\n",
              "  <div id=\"df-b17d16f7-99b4-44c4-a8cb-674ffbce8ef6\">\n",
              "    <div class=\"colab-df-container\">\n",
              "      <div>\n",
              "<style scoped>\n",
              "    .dataframe tbody tr th:only-of-type {\n",
              "        vertical-align: middle;\n",
              "    }\n",
              "\n",
              "    .dataframe tbody tr th {\n",
              "        vertical-align: top;\n",
              "    }\n",
              "\n",
              "    .dataframe thead th {\n",
              "        text-align: right;\n",
              "    }\n",
              "</style>\n",
              "<table border=\"1\" class=\"dataframe\">\n",
              "  <thead>\n",
              "    <tr style=\"text-align: right;\">\n",
              "      <th></th>\n",
              "      <th>Tool</th>\n",
              "      <th>ui_1</th>\n",
              "      <th>ui_2</th>\n",
              "      <th>ui_3</th>\n",
              "      <th>ux_1</th>\n",
              "      <th>ux_2</th>\n",
              "      <th>ux_3</th>\n",
              "      <th>cs_1</th>\n",
              "      <th>cs_2</th>\n",
              "      <th>cs_3</th>\n",
              "      <th>sf_1</th>\n",
              "      <th>sf_2</th>\n",
              "      <th>sf_3</th>\n",
              "    </tr>\n",
              "  </thead>\n",
              "  <tbody>\n",
              "    <tr>\n",
              "      <th>0</th>\n",
              "      <td>A</td>\n",
              "      <td>5</td>\n",
              "      <td>4</td>\n",
              "      <td>5</td>\n",
              "      <td>5</td>\n",
              "      <td>5</td>\n",
              "      <td>5</td>\n",
              "      <td>5</td>\n",
              "      <td>5</td>\n",
              "      <td>4</td>\n",
              "      <td>5</td>\n",
              "      <td>4</td>\n",
              "      <td>5</td>\n",
              "    </tr>\n",
              "    <tr>\n",
              "      <th>1</th>\n",
              "      <td>A</td>\n",
              "      <td>4</td>\n",
              "      <td>5</td>\n",
              "      <td>4</td>\n",
              "      <td>4</td>\n",
              "      <td>4</td>\n",
              "      <td>4</td>\n",
              "      <td>5</td>\n",
              "      <td>4</td>\n",
              "      <td>5</td>\n",
              "      <td>4</td>\n",
              "      <td>4</td>\n",
              "      <td>5</td>\n",
              "    </tr>\n",
              "    <tr>\n",
              "      <th>2</th>\n",
              "      <td>B</td>\n",
              "      <td>3</td>\n",
              "      <td>4</td>\n",
              "      <td>3</td>\n",
              "      <td>2</td>\n",
              "      <td>2</td>\n",
              "      <td>3</td>\n",
              "      <td>4</td>\n",
              "      <td>3</td>\n",
              "      <td>2</td>\n",
              "      <td>3</td>\n",
              "      <td>4</td>\n",
              "      <td>2</td>\n",
              "    </tr>\n",
              "    <tr>\n",
              "      <th>3</th>\n",
              "      <td>C</td>\n",
              "      <td>3</td>\n",
              "      <td>2</td>\n",
              "      <td>3</td>\n",
              "      <td>1</td>\n",
              "      <td>2</td>\n",
              "      <td>3</td>\n",
              "      <td>3</td>\n",
              "      <td>3</td>\n",
              "      <td>1</td>\n",
              "      <td>3</td>\n",
              "      <td>3</td>\n",
              "      <td>1</td>\n",
              "    </tr>\n",
              "    <tr>\n",
              "      <th>4</th>\n",
              "      <td>C</td>\n",
              "      <td>1</td>\n",
              "      <td>3</td>\n",
              "      <td>1</td>\n",
              "      <td>1</td>\n",
              "      <td>2</td>\n",
              "      <td>1</td>\n",
              "      <td>2</td>\n",
              "      <td>3</td>\n",
              "      <td>2</td>\n",
              "      <td>1</td>\n",
              "      <td>3</td>\n",
              "      <td>2</td>\n",
              "    </tr>\n",
              "  </tbody>\n",
              "</table>\n",
              "</div>\n",
              "      <button class=\"colab-df-convert\" onclick=\"convertToInteractive('df-b17d16f7-99b4-44c4-a8cb-674ffbce8ef6')\"\n",
              "              title=\"Convert this dataframe to an interactive table.\"\n",
              "              style=\"display:none;\">\n",
              "        \n",
              "  <svg xmlns=\"http://www.w3.org/2000/svg\" height=\"24px\"viewBox=\"0 0 24 24\"\n",
              "       width=\"24px\">\n",
              "    <path d=\"M0 0h24v24H0V0z\" fill=\"none\"/>\n",
              "    <path d=\"M18.56 5.44l.94 2.06.94-2.06 2.06-.94-2.06-.94-.94-2.06-.94 2.06-2.06.94zm-11 1L8.5 8.5l.94-2.06 2.06-.94-2.06-.94L8.5 2.5l-.94 2.06-2.06.94zm10 10l.94 2.06.94-2.06 2.06-.94-2.06-.94-.94-2.06-.94 2.06-2.06.94z\"/><path d=\"M17.41 7.96l-1.37-1.37c-.4-.4-.92-.59-1.43-.59-.52 0-1.04.2-1.43.59L10.3 9.45l-7.72 7.72c-.78.78-.78 2.05 0 2.83L4 21.41c.39.39.9.59 1.41.59.51 0 1.02-.2 1.41-.59l7.78-7.78 2.81-2.81c.8-.78.8-2.07 0-2.86zM5.41 20L4 18.59l7.72-7.72 1.47 1.35L5.41 20z\"/>\n",
              "  </svg>\n",
              "      </button>\n",
              "      \n",
              "  <style>\n",
              "    .colab-df-container {\n",
              "      display:flex;\n",
              "      flex-wrap:wrap;\n",
              "      gap: 12px;\n",
              "    }\n",
              "\n",
              "    .colab-df-convert {\n",
              "      background-color: #E8F0FE;\n",
              "      border: none;\n",
              "      border-radius: 50%;\n",
              "      cursor: pointer;\n",
              "      display: none;\n",
              "      fill: #1967D2;\n",
              "      height: 32px;\n",
              "      padding: 0 0 0 0;\n",
              "      width: 32px;\n",
              "    }\n",
              "\n",
              "    .colab-df-convert:hover {\n",
              "      background-color: #E2EBFA;\n",
              "      box-shadow: 0px 1px 2px rgba(60, 64, 67, 0.3), 0px 1px 3px 1px rgba(60, 64, 67, 0.15);\n",
              "      fill: #174EA6;\n",
              "    }\n",
              "\n",
              "    [theme=dark] .colab-df-convert {\n",
              "      background-color: #3B4455;\n",
              "      fill: #D2E3FC;\n",
              "    }\n",
              "\n",
              "    [theme=dark] .colab-df-convert:hover {\n",
              "      background-color: #434B5C;\n",
              "      box-shadow: 0px 1px 3px 1px rgba(0, 0, 0, 0.15);\n",
              "      filter: drop-shadow(0px 1px 2px rgba(0, 0, 0, 0.3));\n",
              "      fill: #FFFFFF;\n",
              "    }\n",
              "  </style>\n",
              "\n",
              "      <script>\n",
              "        const buttonEl =\n",
              "          document.querySelector('#df-b17d16f7-99b4-44c4-a8cb-674ffbce8ef6 button.colab-df-convert');\n",
              "        buttonEl.style.display =\n",
              "          google.colab.kernel.accessAllowed ? 'block' : 'none';\n",
              "\n",
              "        async function convertToInteractive(key) {\n",
              "          const element = document.querySelector('#df-b17d16f7-99b4-44c4-a8cb-674ffbce8ef6');\n",
              "          const dataTable =\n",
              "            await google.colab.kernel.invokeFunction('convertToInteractive',\n",
              "                                                     [key], {});\n",
              "          if (!dataTable) return;\n",
              "\n",
              "          const docLinkHtml = 'Like what you see? Visit the ' +\n",
              "            '<a target=\"_blank\" href=https://colab.research.google.com/notebooks/data_table.ipynb>data table notebook</a>'\n",
              "            + ' to learn more about interactive tables.';\n",
              "          element.innerHTML = '';\n",
              "          dataTable['output_type'] = 'display_data';\n",
              "          await google.colab.output.renderOutput(dataTable, element);\n",
              "          const docLink = document.createElement('div');\n",
              "          docLink.innerHTML = docLinkHtml;\n",
              "          element.appendChild(docLink);\n",
              "        }\n",
              "      </script>\n",
              "    </div>\n",
              "  </div>\n",
              "  "
            ]
          },
          "metadata": {},
          "execution_count": 5
        }
      ],
      "source": [
        "# read datasets \n",
        "df_all = pd.read_csv(\"datasets_for_SEM.csv\")\n",
        "df_all.head()"
      ]
    },
    {
      "cell_type": "code",
      "execution_count": 6,
      "id": "8dee1b0d",
      "metadata": {
        "id": "8dee1b0d"
      },
      "outputs": [],
      "source": [
        "#潜在変数の設定（=~）、および因果関係の設定(~)\n",
        "mod = \"\"\"\n",
        "                ui =~ ui_1 + ui_2 + ui_3 \n",
        "                ux =~ ux_1 + ux_2 + ux_3\n",
        "                cs =~ cs_1 + cs_2 + cs_3 \n",
        "                sf =~ sf_1+sf_2+sf_3 \n",
        "                \n",
        "                sf ~ ui + ux + cs\n",
        "            \"\"\""
      ]
    },
    {
      "cell_type": "code",
      "source": [
        "#モデル定義\n",
        "model = Model(mod)\n",
        "\n",
        "#パラメータ推定\n",
        "result = model.fit(df_all)"
      ],
      "metadata": {
        "id": "k_uTwwvqcK-O"
      },
      "id": "k_uTwwvqcK-O",
      "execution_count": null,
      "outputs": []
    },
    {
      "cell_type": "code",
      "execution_count": 8,
      "id": "edbda6bc",
      "metadata": {
        "colab": {
          "base_uri": "https://localhost:8080/"
        },
        "id": "edbda6bc",
        "outputId": "81452995-2ba6-4a16-d302-26a9226ec9bb"
      },
      "outputs": [
        {
          "output_type": "stream",
          "name": "stdout",
          "text": [
            "    lval  op  rval  Estimate   Std. Err   z-value   p-value\n",
            "0     sf   ~    ui -3.978360  12.963197 -0.306897  0.758922\n",
            "1     sf   ~    ux -1.808459   5.914753 -0.305754  0.759792\n",
            "2     sf   ~    cs  6.343045  16.264279  0.389999  0.696538\n",
            "3   ui_1   ~    ui  1.000000          -         -         -\n",
            "4   ui_2   ~    ui  1.031823   0.213905  4.823747  0.000001\n",
            "5   ui_3   ~    ui  0.837776   0.210418  3.981487  0.000068\n",
            "6   ux_1   ~    ux  1.000000          -         -         -\n",
            "7   ux_2   ~    ux  1.000853    0.22332  4.481707  0.000007\n",
            "8   ux_3   ~    ux  1.027552   0.179108  5.737048       0.0\n",
            "9   cs_1   ~    cs  1.000000          -         -         -\n",
            "10  cs_2   ~    cs  0.921661   0.148037  6.225888       0.0\n",
            "11  cs_3   ~    cs  1.135713   0.222981  5.093309       0.0\n",
            "12  sf_1   ~    sf  1.000000          -         -         -\n",
            "13  sf_2   ~    sf  0.655142   0.160423  4.083844  0.000044\n",
            "14  sf_3   ~    sf  0.982085   0.209398  4.690038  0.000003\n",
            "15    sf  ~~    sf  0.993860   2.954097  0.336434  0.736543\n",
            "16    ui  ~~    ui  0.907549    0.40055  2.265758  0.023466\n",
            "17    ui  ~~    ux  0.986643   0.386756  2.551072  0.010739\n",
            "18    ui  ~~    cs  1.016793   0.376623  2.699765  0.006939\n",
            "19    ux  ~~    ux  1.204619   0.525315  2.293135   0.02184\n",
            "20    ux  ~~    cs  1.130119    0.42456  2.661857  0.007771\n",
            "21    cs  ~~    cs  1.114011   0.449138  2.480334  0.013126\n",
            "22  ux_2  ~~  ux_2  0.630905   0.216442  2.914891  0.003558\n",
            "23  ui_1  ~~  ui_1  0.433686    0.13478  3.217723  0.001292\n",
            "24  sf_1  ~~  sf_1  0.178007    0.08149  2.184396  0.028933\n",
            "25  sf_3  ~~  sf_3  0.775873   0.250831  3.093206   0.00198\n",
            "26  sf_2  ~~  sf_2  0.479800   0.153167  3.132535  0.001733\n",
            "27  cs_1  ~~  cs_1  0.335052   0.119156  2.811878  0.004925\n",
            "28  ui_3  ~~  ui_3  0.601786   0.179607   3.35058  0.000806\n",
            "29  ui_2  ~~  ui_2  0.459329   0.142828  3.215965    0.0013\n",
            "30  ux_1  ~~  ux_1  0.517952   0.181345  2.856169  0.004288\n",
            "31  ux_3  ~~  ux_3  0.185522   0.090646  2.046677   0.04069\n",
            "32  cs_3  ~~  cs_3  0.649813   0.219726  2.957376  0.003103\n",
            "33  cs_2  ~~  cs_2  0.191501   0.074854   2.55833  0.010518\n"
          ]
        }
      ],
      "source": [
        "# パラメータ推定結果の確認\n",
        "inspect = model.inspect()\n",
        "print(inspect)"
      ]
    },
    {
      "cell_type": "code",
      "execution_count": 10,
      "id": "c15b7d2d",
      "metadata": {
        "colab": {
          "base_uri": "https://localhost:8080/",
          "height": 368
        },
        "id": "c15b7d2d",
        "outputId": "db2f2205-85fc-4b72-ca50-cb3ca1873cf0"
      },
      "outputs": [
        {
          "output_type": "execute_result",
          "data": {
            "text/plain": [
              "<graphviz.dot.Digraph at 0x7fd12ab20490>"
            ],
            "image/svg+xml": "<?xml version=\"1.0\" encoding=\"UTF-8\" standalone=\"no\"?>\n<!DOCTYPE svg PUBLIC \"-//W3C//DTD SVG 1.1//EN\"\n \"http://www.w3.org/Graphics/SVG/1.1/DTD/svg11.dtd\">\n<!-- Generated by graphviz version 2.40.1 (20161225.0304)\n -->\n<!-- Title: G Pages: 1 -->\n<svg width=\"846pt\" height=\"246pt\"\n viewBox=\"0.00 0.00 846.00 245.60\" xmlns=\"http://www.w3.org/2000/svg\" xmlns:xlink=\"http://www.w3.org/1999/xlink\">\n<g id=\"graph0\" class=\"graph\" transform=\"scale(1 1) rotate(0) translate(4 241.5963)\">\n<title>G</title>\n<polygon fill=\"#ffffff\" stroke=\"transparent\" points=\"-4,4 -4,-241.5963 842,-241.5963 842,4 -4,4\"/>\n<!-- ui -->\n<g id=\"node1\" class=\"node\">\n<title>ui</title>\n<ellipse fill=\"#cae6df\" stroke=\"#000000\" cx=\"694\" cy=\"-216.7982\" rx=\"18.399\" ry=\"18.399\"/>\n<text text-anchor=\"middle\" x=\"694\" y=\"-213.0982\" font-family=\"Times,serif\" font-size=\"14.00\" fill=\"#000000\">ui</text>\n</g>\n<!-- sf -->\n<g id=\"node3\" class=\"node\">\n<title>sf</title>\n<ellipse fill=\"#cae6df\" stroke=\"#000000\" cx=\"378\" cy=\"-116\" rx=\"18\" ry=\"18\"/>\n<text text-anchor=\"middle\" x=\"378\" y=\"-112.3\" font-family=\"Times,serif\" font-size=\"14.00\" fill=\"#000000\">sf</text>\n</g>\n<!-- ui&#45;&gt;sf -->\n<g id=\"edge1\" class=\"edge\">\n<title>ui&#45;&gt;sf</title>\n<path fill=\"none\" stroke=\"#000000\" d=\"M677.4063,-209.1202C641.1477,-192.3653 557.5541,-153.8642 551,-152 491.083,-134.9574 471.3652,-152.875 412,-134 408.8175,-132.9881 405.5812,-131.6849 402.4335,-130.2427\"/>\n<polygon fill=\"#000000\" stroke=\"#000000\" points=\"403.8991,-127.0615 393.3985,-125.6516 400.7279,-133.302 403.8991,-127.0615\"/>\n<text text-anchor=\"middle\" x=\"636\" y=\"-168.4\" font-family=\"Times,serif\" font-size=\"12.00\" fill=\"#000000\">&#45;3.978</text>\n<text text-anchor=\"middle\" x=\"636\" y=\"-155.4\" font-family=\"Times,serif\" font-size=\"12.00\" fill=\"#000000\">p&#45;val: 0.76</text>\n</g>\n<!-- ui_1 -->\n<g id=\"node11\" class=\"node\">\n<title>ui_1</title>\n<polygon fill=\"none\" stroke=\"#000000\" points=\"681,-134 627,-134 627,-98 681,-98 681,-134\"/>\n<text text-anchor=\"middle\" x=\"654\" y=\"-112.3\" font-family=\"Times,serif\" font-size=\"14.00\" fill=\"#000000\">ui_1</text>\n</g>\n<!-- ui&#45;&gt;ui_1 -->\n<g id=\"edge4\" class=\"edge\">\n<title>ui&#45;&gt;ui_1</title>\n<path fill=\"none\" stroke=\"#000000\" d=\"M685.9476,-200.3336C682.709,-193.4896 679.0317,-185.4243 676,-178 671.4845,-166.9421 666.9869,-154.5722 663.2461,-143.8075\"/>\n<polygon fill=\"#000000\" stroke=\"#000000\" points=\"666.4646,-142.4022 659.9156,-134.0738 659.8416,-144.6684 666.4646,-142.4022\"/>\n<text text-anchor=\"middle\" x=\"690\" y=\"-161.9\" font-family=\"Times,serif\" font-size=\"12.00\" fill=\"#000000\">1.000</text>\n</g>\n<!-- ui_2 -->\n<g id=\"node12\" class=\"node\">\n<title>ui_2</title>\n<polygon fill=\"none\" stroke=\"#000000\" points=\"753,-134 699,-134 699,-98 753,-98 753,-134\"/>\n<text text-anchor=\"middle\" x=\"726\" y=\"-112.3\" font-family=\"Times,serif\" font-size=\"14.00\" fill=\"#000000\">ui_2</text>\n</g>\n<!-- ui&#45;&gt;ui_2 -->\n<g id=\"edge5\" class=\"edge\">\n<title>ui&#45;&gt;ui_2</title>\n<path fill=\"none\" stroke=\"#000000\" d=\"M699.574,-199.2405C704.4239,-183.9635 711.5375,-161.556 717.1627,-143.8369\"/>\n<polygon fill=\"#000000\" stroke=\"#000000\" points=\"720.5844,-144.6255 720.2744,-134.0352 713.9126,-142.5074 720.5844,-144.6255\"/>\n<text text-anchor=\"middle\" x=\"740\" y=\"-168.4\" font-family=\"Times,serif\" font-size=\"12.00\" fill=\"#000000\">1.032</text>\n<text text-anchor=\"middle\" x=\"740\" y=\"-155.4\" font-family=\"Times,serif\" font-size=\"12.00\" fill=\"#000000\">p&#45;val: 0.00</text>\n</g>\n<!-- ui_3 -->\n<g id=\"node13\" class=\"node\">\n<title>ui_3</title>\n<polygon fill=\"none\" stroke=\"#000000\" points=\"827,-134 773,-134 773,-98 827,-98 827,-134\"/>\n<text text-anchor=\"middle\" x=\"800\" y=\"-112.3\" font-family=\"Times,serif\" font-size=\"14.00\" fill=\"#000000\">ui_3</text>\n</g>\n<!-- ui&#45;&gt;ui_3 -->\n<g id=\"edge6\" class=\"edge\">\n<title>ui&#45;&gt;ui_3</title>\n<path fill=\"none\" stroke=\"#000000\" d=\"M711.6869,-211.4479C728.5142,-205.5854 753.6267,-194.7267 770,-178 779.4102,-168.3866 786.3433,-155.2491 791.1592,-143.5414\"/>\n<polygon fill=\"#000000\" stroke=\"#000000\" points=\"794.4465,-144.7434 794.7144,-134.152 787.9,-142.2646 794.4465,-144.7434\"/>\n<text text-anchor=\"middle\" x=\"812\" y=\"-168.4\" font-family=\"Times,serif\" font-size=\"12.00\" fill=\"#000000\">0.838</text>\n<text text-anchor=\"middle\" x=\"812\" y=\"-155.4\" font-family=\"Times,serif\" font-size=\"12.00\" fill=\"#000000\">p&#45;val: 0.00</text>\n</g>\n<!-- ux -->\n<g id=\"node2\" class=\"node\">\n<title>ux</title>\n<ellipse fill=\"#cae6df\" stroke=\"#000000\" cx=\"140\" cy=\"-216.7982\" rx=\"20.5982\" ry=\"20.5982\"/>\n<text text-anchor=\"middle\" x=\"140\" y=\"-213.0982\" font-family=\"Times,serif\" font-size=\"14.00\" fill=\"#000000\">ux</text>\n</g>\n<!-- ux&#45;&gt;sf -->\n<g id=\"edge2\" class=\"edge\">\n<title>ux&#45;&gt;sf</title>\n<path fill=\"none\" stroke=\"#000000\" d=\"M156.8108,-204.3182C177.4614,-189.5942 214.0651,-165.4244 249,-152 287.0776,-137.3679 300.2137,-146.6343 339,-134 343.5091,-132.5312 348.1846,-130.6814 352.6656,-128.7305\"/>\n<polygon fill=\"#000000\" stroke=\"#000000\" points=\"354.4142,-131.7782 362.0244,-124.4069 351.4784,-125.4235 354.4142,-131.7782\"/>\n<text text-anchor=\"middle\" x=\"275\" y=\"-168.4\" font-family=\"Times,serif\" font-size=\"12.00\" fill=\"#000000\">&#45;1.808</text>\n<text text-anchor=\"middle\" x=\"275\" y=\"-155.4\" font-family=\"Times,serif\" font-size=\"12.00\" fill=\"#000000\">p&#45;val: 0.76</text>\n</g>\n<!-- ux_1 -->\n<g id=\"node14\" class=\"node\">\n<title>ux_1</title>\n<polygon fill=\"none\" stroke=\"#000000\" points=\"204,-134 150,-134 150,-98 204,-98 204,-134\"/>\n<text text-anchor=\"middle\" x=\"177\" y=\"-112.3\" font-family=\"Times,serif\" font-size=\"14.00\" fill=\"#000000\">ux_1</text>\n</g>\n<!-- ux&#45;&gt;ux_1 -->\n<g id=\"edge7\" class=\"edge\">\n<title>ux&#45;&gt;ux_1</title>\n<path fill=\"none\" stroke=\"#000000\" d=\"M147.7377,-197.101C150.1043,-190.9927 152.691,-184.2298 155,-178 159.1211,-166.8814 163.5179,-154.5839 167.289,-143.8925\"/>\n<polygon fill=\"#000000\" stroke=\"#000000\" points=\"170.6728,-144.8197 170.6834,-134.2249 164.0681,-142.5007 170.6728,-144.8197\"/>\n<text text-anchor=\"middle\" x=\"179\" y=\"-161.9\" font-family=\"Times,serif\" font-size=\"12.00\" fill=\"#000000\">1.000</text>\n</g>\n<!-- ux_2 -->\n<g id=\"node15\" class=\"node\">\n<title>ux_2</title>\n<polygon fill=\"none\" stroke=\"#000000\" points=\"54,-134 0,-134 0,-98 54,-98 54,-134\"/>\n<text text-anchor=\"middle\" x=\"27\" y=\"-112.3\" font-family=\"Times,serif\" font-size=\"14.00\" fill=\"#000000\">ux_2</text>\n</g>\n<!-- ux&#45;&gt;ux_2 -->\n<g id=\"edge8\" class=\"edge\">\n<title>ux&#45;&gt;ux_2</title>\n<path fill=\"none\" stroke=\"#000000\" d=\"M119.1726,-214.7077C95.9922,-211.2265 59.1512,-202.0407 39,-178 31.2352,-168.7364 27.9328,-155.9526 26.6893,-144.3988\"/>\n<polygon fill=\"#000000\" stroke=\"#000000\" points=\"30.1734,-144.0327 26.0572,-134.2701 23.187,-144.4687 30.1734,-144.0327\"/>\n<text text-anchor=\"middle\" x=\"65\" y=\"-168.4\" font-family=\"Times,serif\" font-size=\"12.00\" fill=\"#000000\">1.001</text>\n<text text-anchor=\"middle\" x=\"65\" y=\"-155.4\" font-family=\"Times,serif\" font-size=\"12.00\" fill=\"#000000\">p&#45;val: 0.00</text>\n</g>\n<!-- ux_3 -->\n<g id=\"node16\" class=\"node\">\n<title>ux_3</title>\n<polygon fill=\"none\" stroke=\"#000000\" points=\"129,-134 75,-134 75,-98 129,-98 129,-134\"/>\n<text text-anchor=\"middle\" x=\"102\" y=\"-112.3\" font-family=\"Times,serif\" font-size=\"14.00\" fill=\"#000000\">ux_3</text>\n</g>\n<!-- ux&#45;&gt;ux_3 -->\n<g id=\"edge9\" class=\"edge\">\n<title>ux&#45;&gt;ux_3</title>\n<path fill=\"none\" stroke=\"#000000\" d=\"M122.3717,-205.3926C113.5742,-198.6132 103.8047,-189.1616 99,-178 94.4794,-167.4985 94.221,-155.0526 95.4685,-144.0777\"/>\n<polygon fill=\"#000000\" stroke=\"#000000\" points=\"98.9387,-144.5401 97.0359,-134.1175 92.0238,-143.4518 98.9387,-144.5401\"/>\n<text text-anchor=\"middle\" x=\"125\" y=\"-168.4\" font-family=\"Times,serif\" font-size=\"12.00\" fill=\"#000000\">1.028</text>\n<text text-anchor=\"middle\" x=\"125\" y=\"-155.4\" font-family=\"Times,serif\" font-size=\"12.00\" fill=\"#000000\">p&#45;val: 0.00</text>\n</g>\n<!-- sf_1 -->\n<g id=\"node8\" class=\"node\">\n<title>sf_1</title>\n<polygon fill=\"none\" stroke=\"#000000\" points=\"333,-36 279,-36 279,0 333,0 333,-36\"/>\n<text text-anchor=\"middle\" x=\"306\" y=\"-14.3\" font-family=\"Times,serif\" font-size=\"14.00\" fill=\"#000000\">sf_1</text>\n</g>\n<!-- sf&#45;&gt;sf_1 -->\n<g id=\"edge13\" class=\"edge\">\n<title>sf&#45;&gt;sf_1</title>\n<path fill=\"none\" stroke=\"#000000\" d=\"M365.3333,-102.7439C359.2353,-96.1189 351.9701,-87.8565 346,-80 337.4996,-68.8137 328.9406,-55.8321 321.9336,-44.6468\"/>\n<polygon fill=\"#000000\" stroke=\"#000000\" points=\"324.908,-42.8019 316.6776,-36.1302 318.9511,-46.4782 324.908,-42.8019\"/>\n<text text-anchor=\"middle\" x=\"360\" y=\"-63.9\" font-family=\"Times,serif\" font-size=\"12.00\" fill=\"#000000\">1.000</text>\n</g>\n<!-- sf_2 -->\n<g id=\"node9\" class=\"node\">\n<title>sf_2</title>\n<polygon fill=\"none\" stroke=\"#000000\" points=\"405,-36 351,-36 351,0 405,0 405,-36\"/>\n<text text-anchor=\"middle\" x=\"378\" y=\"-14.3\" font-family=\"Times,serif\" font-size=\"14.00\" fill=\"#000000\">sf_2</text>\n</g>\n<!-- sf&#45;&gt;sf_2 -->\n<g id=\"edge14\" class=\"edge\">\n<title>sf&#45;&gt;sf_2</title>\n<path fill=\"none\" stroke=\"#000000\" d=\"M378,-97.5669C378,-83.1034 378,-62.7239 378,-46.2111\"/>\n<polygon fill=\"#000000\" stroke=\"#000000\" points=\"381.5001,-46.0193 378,-36.0193 374.5001,-46.0193 381.5001,-46.0193\"/>\n<text text-anchor=\"middle\" x=\"404\" y=\"-70.4\" font-family=\"Times,serif\" font-size=\"12.00\" fill=\"#000000\">0.655</text>\n<text text-anchor=\"middle\" x=\"404\" y=\"-57.4\" font-family=\"Times,serif\" font-size=\"12.00\" fill=\"#000000\">p&#45;val: 0.00</text>\n</g>\n<!-- sf_3 -->\n<g id=\"node10\" class=\"node\">\n<title>sf_3</title>\n<polygon fill=\"none\" stroke=\"#000000\" points=\"480,-36 426,-36 426,0 480,0 480,-36\"/>\n<text text-anchor=\"middle\" x=\"453\" y=\"-14.3\" font-family=\"Times,serif\" font-size=\"14.00\" fill=\"#000000\">sf_3</text>\n</g>\n<!-- sf&#45;&gt;sf_3 -->\n<g id=\"edge15\" class=\"edge\">\n<title>sf&#45;&gt;sf_3</title>\n<path fill=\"none\" stroke=\"#000000\" d=\"M394.4266,-108.3787C406.0952,-102.2107 421.3463,-92.5016 431,-80 438.6427,-70.1027 443.7721,-57.3309 447.1401,-45.9536\"/>\n<polygon fill=\"#000000\" stroke=\"#000000\" points=\"450.5941,-46.5815 449.7596,-36.0196 443.8255,-44.7967 450.5941,-46.5815\"/>\n<text text-anchor=\"middle\" x=\"471\" y=\"-70.4\" font-family=\"Times,serif\" font-size=\"12.00\" fill=\"#000000\">0.982</text>\n<text text-anchor=\"middle\" x=\"471\" y=\"-57.4\" font-family=\"Times,serif\" font-size=\"12.00\" fill=\"#000000\">p&#45;val: 0.00</text>\n</g>\n<!-- cs -->\n<g id=\"node4\" class=\"node\">\n<title>cs</title>\n<ellipse fill=\"#cae6df\" stroke=\"#000000\" cx=\"415\" cy=\"-216.7982\" rx=\"18.399\" ry=\"18.399\"/>\n<text text-anchor=\"middle\" x=\"415\" y=\"-213.0982\" font-family=\"Times,serif\" font-size=\"14.00\" fill=\"#000000\">cs</text>\n</g>\n<!-- cs&#45;&gt;sf -->\n<g id=\"edge3\" class=\"edge\">\n<title>cs&#45;&gt;sf</title>\n<path fill=\"none\" stroke=\"#000000\" d=\"M399.4402,-206.5859C390.4561,-199.7084 379.9768,-189.7607 375,-178 370.4806,-167.3204 370.2908,-154.6641 371.5892,-143.58\"/>\n<polygon fill=\"#000000\" stroke=\"#000000\" points=\"375.0699,-143.9785 373.1973,-133.5505 368.1582,-142.8702 375.0699,-143.9785\"/>\n<text text-anchor=\"middle\" x=\"401\" y=\"-168.4\" font-family=\"Times,serif\" font-size=\"12.00\" fill=\"#000000\">6.343</text>\n<text text-anchor=\"middle\" x=\"401\" y=\"-155.4\" font-family=\"Times,serif\" font-size=\"12.00\" fill=\"#000000\">p&#45;val: 0.70</text>\n</g>\n<!-- cs_1 -->\n<g id=\"node5\" class=\"node\">\n<title>cs_1</title>\n<polygon fill=\"none\" stroke=\"#000000\" points=\"475,-134 421,-134 421,-98 475,-98 475,-134\"/>\n<text text-anchor=\"middle\" x=\"448\" y=\"-112.3\" font-family=\"Times,serif\" font-size=\"14.00\" fill=\"#000000\">cs_1</text>\n</g>\n<!-- cs&#45;&gt;cs_1 -->\n<g id=\"edge10\" class=\"edge\">\n<title>cs&#45;&gt;cs_1</title>\n<path fill=\"none\" stroke=\"#000000\" d=\"M422.4692,-199.9741C425.3293,-193.216 428.5019,-185.3081 431,-178 434.7754,-166.9553 438.3032,-154.5878 441.1556,-143.8214\"/>\n<polygon fill=\"#000000\" stroke=\"#000000\" points=\"444.5584,-144.6425 443.6695,-134.085 437.7806,-142.8924 444.5584,-144.6425\"/>\n<text text-anchor=\"middle\" x=\"453\" y=\"-161.9\" font-family=\"Times,serif\" font-size=\"12.00\" fill=\"#000000\">1.000</text>\n</g>\n<!-- cs_2 -->\n<g id=\"node6\" class=\"node\">\n<title>cs_2</title>\n<polygon fill=\"none\" stroke=\"#000000\" points=\"547,-134 493,-134 493,-98 547,-98 547,-134\"/>\n<text text-anchor=\"middle\" x=\"520\" y=\"-112.3\" font-family=\"Times,serif\" font-size=\"14.00\" fill=\"#000000\">cs_2</text>\n</g>\n<!-- cs&#45;&gt;cs_2 -->\n<g id=\"edge11\" class=\"edge\">\n<title>cs&#45;&gt;cs_2</title>\n<path fill=\"none\" stroke=\"#000000\" d=\"M431.1407,-207.4085C442.8655,-200.1765 458.7563,-189.4966 471,-178 482.4284,-167.2689 493.4169,-153.7653 502.0813,-142.1022\"/>\n<polygon fill=\"#000000\" stroke=\"#000000\" points=\"504.9183,-144.1519 507.9526,-134.0008 499.2503,-140.0441 504.9183,-144.1519\"/>\n<text text-anchor=\"middle\" x=\"521\" y=\"-168.4\" font-family=\"Times,serif\" font-size=\"12.00\" fill=\"#000000\">0.922</text>\n<text text-anchor=\"middle\" x=\"521\" y=\"-155.4\" font-family=\"Times,serif\" font-size=\"12.00\" fill=\"#000000\">p&#45;val: 0.00</text>\n</g>\n<!-- cs_3 -->\n<g id=\"node7\" class=\"node\">\n<title>cs_3</title>\n<polygon fill=\"none\" stroke=\"#000000\" points=\"330,-134 276,-134 276,-98 330,-98 330,-134\"/>\n<text text-anchor=\"middle\" x=\"303\" y=\"-112.3\" font-family=\"Times,serif\" font-size=\"14.00\" fill=\"#000000\">cs_3</text>\n</g>\n<!-- cs&#45;&gt;cs_3 -->\n<g id=\"edge12\" class=\"edge\">\n<title>cs&#45;&gt;cs_3</title>\n<path fill=\"none\" stroke=\"#000000\" d=\"M396.7942,-215.0045C374.0608,-211.7505 335.6539,-202.7243 315,-178 307.2507,-168.7235 303.9504,-155.9379 302.7044,-144.3861\"/>\n<polygon fill=\"#000000\" stroke=\"#000000\" points=\"306.1885,-144.0215 302.0689,-134.2604 299.2022,-144.46 306.1885,-144.0215\"/>\n<text text-anchor=\"middle\" x=\"341\" y=\"-168.4\" font-family=\"Times,serif\" font-size=\"12.00\" fill=\"#000000\">1.136</text>\n<text text-anchor=\"middle\" x=\"341\" y=\"-155.4\" font-family=\"Times,serif\" font-size=\"12.00\" fill=\"#000000\">p&#45;val: 0.00</text>\n</g>\n</g>\n</svg>\n"
          },
          "metadata": {},
          "execution_count": 10
        }
      ],
      "source": [
        "semopy.semplot(model,\"graph.png\")"
      ]
    },
    {
      "cell_type": "code",
      "execution_count": 11,
      "id": "2f4a3492",
      "metadata": {
        "colab": {
          "base_uri": "https://localhost:8080/"
        },
        "id": "2f4a3492",
        "outputId": "c0290a68-4ef9-4926-d8c7-18019bf3fa88"
      },
      "outputs": [
        {
          "output_type": "stream",
          "name": "stdout",
          "text": [
            "                    Value\n",
            "DoF             48.000000\n",
            "DoF Baseline    66.000000\n",
            "chi2            93.853117\n",
            "chi2 p-value     0.000085\n",
            "chi2 Baseline  327.359285\n",
            "CFI              0.824559\n",
            "GFI              0.713302\n",
            "AGFI             0.605791\n",
            "NFI              0.713302\n",
            "TLI              0.758769\n",
            "RMSEA            0.224227\n",
            "AIC             50.614688\n",
            "BIC             80.486657\n",
            "LogLik           4.692656\n"
          ]
        }
      ],
      "source": [
        "# モデル精度確認\n",
        "stats = semopy.calc_stats(model)\n",
        "print(stats.T)"
      ]
    },
    {
      "cell_type": "code",
      "execution_count": null,
      "id": "3108376d",
      "metadata": {
        "id": "3108376d"
      },
      "outputs": [],
      "source": [
        ""
      ]
    },
    {
      "cell_type": "code",
      "execution_count": null,
      "id": "c57c0f44",
      "metadata": {
        "id": "c57c0f44"
      },
      "outputs": [],
      "source": [
        ""
      ]
    }
  ],
  "metadata": {
    "kernelspec": {
      "display_name": "Python 3 (ipykernel)",
      "language": "python",
      "name": "python3"
    },
    "language_info": {
      "codemirror_mode": {
        "name": "ipython",
        "version": 3
      },
      "file_extension": ".py",
      "mimetype": "text/x-python",
      "name": "python",
      "nbconvert_exporter": "python",
      "pygments_lexer": "ipython3",
      "version": "3.8.2"
    },
    "colab": {
      "name": "SEM.ipynb",
      "provenance": [],
      "collapsed_sections": [],
      "include_colab_link": true
    }
  },
  "nbformat": 4,
  "nbformat_minor": 5
}