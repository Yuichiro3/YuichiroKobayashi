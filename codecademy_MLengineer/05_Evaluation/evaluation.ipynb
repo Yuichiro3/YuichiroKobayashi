{
  "nbformat": 4,
  "nbformat_minor": 0,
  "metadata": {
    "colab": {
      "provenance": []
    },
    "kernelspec": {
      "name": "python3",
      "display_name": "Python 3"
    },
    "language_info": {
      "name": "python"
    }
  },
  "cells": [
    {
      "cell_type": "code",
      "execution_count": 58,
      "metadata": {
        "id": "6K28g1MRn03a"
      },
      "outputs": [],
      "source": [
        "# Examples\n",
        "actual = [0,1,0,1,0,1,0,1]\n",
        "predicted = [1,1,1,1,0,1,0,0]"
      ]
    },
    {
      "cell_type": "code",
      "source": [
        "# Pre-define\n",
        "true_positives = 0\n",
        "true_negatives = 0\n",
        "false_positives = 0\n",
        "false_negatives = 0\n",
        "\n",
        "# Count each result\n",
        "for i in range(len(actual)):\n",
        "  if actual[i] == 1 and predicted[i] == 1:\n",
        "    true_positives += 1\n",
        "  elif actual[i] == 0 and predicted[i] == 0:\n",
        "    true_negatives += 1\n",
        "  elif actual[i] == 0 and predicted[i] == 1:\n",
        "    false_positives += 1\n",
        "  elif actual[i] == 1 and predicted[i] == 0:\n",
        "    false_negatives += 1"
      ],
      "metadata": {
        "id": "O_DugpacoN6M"
      },
      "execution_count": 57,
      "outputs": []
    },
    {
      "cell_type": "code",
      "source": [
        "print(\"true_positives:\", true_positives)\n",
        "print(\"true_negatives:\", true_negatives)\n",
        "print(\"false_positives:\", false_positives)\n",
        "print(\"false_negatives:\", false_negatives)"
      ],
      "metadata": {
        "colab": {
          "base_uri": "https://localhost:8080/"
        },
        "id": "cpCW2mP4pEkE",
        "outputId": "62b28a32-cd82-47c2-9079-14f2d7e7d180"
      },
      "execution_count": 33,
      "outputs": [
        {
          "output_type": "stream",
          "name": "stdout",
          "text": [
            "true_positives: 3\n",
            "true_negatives: 2\n",
            "false_positives: 2\n",
            "false_negatives: 1\n"
          ]
        }
      ]
    },
    {
      "cell_type": "code",
      "source": [
        "# Calculate Accuracy\n",
        "def accuracy(true_positives, true_negatives, false_positives, false_negatives):\n",
        "  return (true_positives + true_negatives) / (true_positives + true_negatives + false_positives + false_negatives)"
      ],
      "metadata": {
        "id": "yu00VwLPpTXG"
      },
      "execution_count": 42,
      "outputs": []
    },
    {
      "cell_type": "code",
      "source": [
        "# Calculate Precision\n",
        "def precision(true_positives, false_positives):\n",
        "  return (true_positives)/(true_positives + false_positives)"
      ],
      "metadata": {
        "id": "KsvxtrF5pvLh"
      },
      "execution_count": 50,
      "outputs": []
    },
    {
      "cell_type": "code",
      "source": [
        "# Calculate Recall\n",
        "def recall(true_positives, false_negatives):\n",
        "  return (true_positives)/(true_positives + false_negatives)"
      ],
      "metadata": {
        "id": "NoafnUWBpvNk"
      },
      "execution_count": 44,
      "outputs": []
    },
    {
      "cell_type": "code",
      "source": [
        "acc = accuracy(true_positives, true_negatives, false_positives, false_negatives)\n",
        "print(\"accuracy: \", acc)"
      ],
      "metadata": {
        "colab": {
          "base_uri": "https://localhost:8080/"
        },
        "id": "PzgxfE22pvPw",
        "outputId": "92e66d30-b7cc-4e52-b8f1-28d3743e4a39"
      },
      "execution_count": 49,
      "outputs": [
        {
          "output_type": "stream",
          "name": "stdout",
          "text": [
            "accuracy:  0.625\n"
          ]
        }
      ]
    },
    {
      "cell_type": "code",
      "source": [
        "pre = precision(true_positives, false_positives)\n",
        "print(\"precision: \", pre)"
      ],
      "metadata": {
        "colab": {
          "base_uri": "https://localhost:8080/"
        },
        "id": "nwfo3nTvptJu",
        "outputId": "9430ec8e-d848-4fb7-d151-b7270d6c166c"
      },
      "execution_count": 52,
      "outputs": [
        {
          "output_type": "stream",
          "name": "stdout",
          "text": [
            "precision:  0.6\n"
          ]
        }
      ]
    },
    {
      "cell_type": "code",
      "source": [
        "rec = recall(true_positives, false_negatives)\n",
        "print(\"recall: \", rec)"
      ],
      "metadata": {
        "colab": {
          "base_uri": "https://localhost:8080/"
        },
        "id": "JB-XobiCqHqj",
        "outputId": "47716902-3106-4cca-c803-fa44119463dd"
      },
      "execution_count": 53,
      "outputs": [
        {
          "output_type": "stream",
          "name": "stdout",
          "text": [
            "recall:  0.75\n"
          ]
        }
      ]
    },
    {
      "cell_type": "code",
      "source": [
        "# Calculate F1 Score\n",
        "def f_1(precision, recall):\n",
        "  return 2*(precision*recall)/(precision+recall)"
      ],
      "metadata": {
        "id": "Sz_DoapfqdA5"
      },
      "execution_count": 56,
      "outputs": []
    },
    {
      "cell_type": "code",
      "source": [
        "f1score = f_1(pre, rec)\n",
        "print(\"f1 score: \", f1score)"
      ],
      "metadata": {
        "colab": {
          "base_uri": "https://localhost:8080/"
        },
        "id": "96Olb6FRriDt",
        "outputId": "275913e2-add7-492a-de25-aa4d35addb8d"
      },
      "execution_count": 55,
      "outputs": [
        {
          "output_type": "stream",
          "name": "stdout",
          "text": [
            "f1 score:  0.6666666666666665\n"
          ]
        }
      ]
    }
  ]
}